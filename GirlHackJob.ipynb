{
 "cells": [
  {
   "cell_type": "code",
   "execution_count": null,
   "id": "0994db90",
   "metadata": {},
   "outputs": [],
   "source": [
    "#"
   ]
  },
  {
   "cell_type": "markdown",
   "id": "6b671683",
   "metadata": {},
   "source": [
    "# COUNTRY-WISE INDUSTRY GROWTH PREDICTION IN JOB ANALYSIS "
   ]
  },
  {
   "cell_type": "code",
   "execution_count": 33,
   "id": "dbd54ce2",
   "metadata": {},
   "outputs": [
    {
     "name": "stdout",
     "output_type": "stream",
     "text": [
      "Predicted Growth_rate for 2024: 0\n",
      "R-squared: 0.9800591975444014\n"
     ]
    },
    {
     "name": "stderr",
     "output_type": "stream",
     "text": [
      "C:\\Users\\User\\anaconda3\\lib\\site-packages\\sklearn\\base.py:439: UserWarning: X does not have valid feature names, but LinearRegression was fitted with feature names\n",
      "  warnings.warn(\n"
     ]
    }
   ],
   "source": [
    "import pandas as pd\n",
    "import numpy as np\n",
    "from sklearn.linear_model import LinearRegression\n",
    "\n",
    "# Load the placement data into a Pandas dataframe\n",
    "df = pd.DataFrame({\n",
    "    'Year': [  '01-01-2017', '01-01-2018', '01-01-2019','01-01-2020','01-01-2021','01-01-2022','01-01-2023'],\n",
    "    'Growth_rate': ['-2.51','-2.14','-1.61','-1.07','-0.56','-0.3','-0.1']\n",
    "})\n",
    "\n",
    "# Convert the Year column to a datetime type\n",
    "df['Year'] = pd.to_datetime(df['Year'])\n",
    "\n",
    "# Extract the year from the datetime column and create a new column\n",
    "df['Year_num'] = df['Year'].dt.year\n",
    "\n",
    "# Split the data into training and testing sets\n",
    "X2_train = df[['Year_num']]\n",
    "y2_train = df['Growth_rate']\n",
    "\n",
    "# Fit a linear regression model to the data\n",
    "model = LinearRegression().fit(X2_train, y2_train)\n",
    "\n",
    "# Use the model to predict the placement for 2024\n",
    "placement_2024 = model.predict([[2024]])\n",
    "\n",
    "# Print the predicted placement for 2024\n",
    "print(f\"Predicted Growth_rate for 2024: {int(placement_2024)}\")\n",
    "\n",
    "\n",
    "\n",
    "# Accuracy \n",
    "\n",
    "from sklearn.metrics import mean_squared_error, r2_score\n",
    "\n",
    "# Predict the placements for the training data\n",
    "y_train_pred = model.predict(X2_train)\n",
    "\n",
    "\n",
    "\n",
    "# Calculate the MSE and R-squared for the training data\n",
    "mse = mean_squared_error(y2_train, y_train_pred)\n",
    "r2 = r2_score(y2_train, y_train_pred)\n",
    "\n",
    "\n",
    "print(f\"R-squared: {r2}\")\n"
   ]
  },
  {
   "cell_type": "code",
   "execution_count": null,
   "id": "26c0742a",
   "metadata": {},
   "outputs": [],
   "source": []
  },
  {
   "cell_type": "code",
   "execution_count": 37,
   "id": "f380867e",
   "metadata": {},
   "outputs": [
    {
     "name": "stdout",
     "output_type": "stream",
     "text": [
      "Predicted Growth_rate for 2024: 0\n",
      "R-squared: 0.8248294639581167\n"
     ]
    },
    {
     "name": "stderr",
     "output_type": "stream",
     "text": [
      "C:\\Users\\User\\anaconda3\\lib\\site-packages\\sklearn\\base.py:439: UserWarning: X does not have valid feature names, but LinearRegression was fitted with feature names\n",
      "  warnings.warn(\n"
     ]
    }
   ],
   "source": [
    "import pandas as pd\n",
    "import numpy as np\n",
    "from sklearn.linear_model import LinearRegression\n",
    "\n",
    "# Load the placement data into a Pandas dataframe\n",
    "df = pd.DataFrame({\n",
    "    'Year': ['01-01-2017', '01-01-2018', '01-01-2019','01-01-2020','01-01-2021','01-01-2022','01-01-2023'],\n",
    "    'Growth_rate': ['-1.58','-0.81','-0.46','-0.39','-0.30','-0.1','-0.01']\n",
    "})\n",
    "\n",
    "# Convert the Year column to a datetime type\n",
    "df['Year'] = pd.to_datetime(df['Year'])\n",
    "\n",
    "# Extract the year from the datetime column and create a new column\n",
    "df['Year_num'] = df['Year'].dt.year\n",
    "\n",
    "# Split the data into training and testing sets\n",
    "X2_train = df[['Year_num']]\n",
    "y2_train = df['Growth_rate']\n",
    "\n",
    "# Fit a linear regression model to the data\n",
    "model = LinearRegression().fit(X2_train, y2_train)\n",
    "\n",
    "# Use the model to predict the placement for 2024\n",
    "growth_rate_2024 = model.predict([[2024]])\n",
    "\n",
    "# Print the predicted placement for 2024\n",
    "print(f\"Predicted Growth_rate for 2024: {int(growth_rate_2024)}\")\n",
    "\n",
    "\n",
    "\n",
    "# Accuracy \n",
    "\n",
    "from sklearn.metrics import mean_squared_error, r2_score\n",
    "\n",
    "# Predict the placements for the training data\n",
    "y_train_pred = model.predict(X2_train)\n",
    "\n",
    "\n",
    "\n",
    "# Calculate the MSE and R-squared for the training data\n",
    "mse = mean_squared_error(y2_train, y_train_pred)\n",
    "r2 = r2_score(y2_train, y_train_pred)\n",
    "\n",
    "\n",
    "print(f\"R-squared: {r2}\")\n"
   ]
  },
  {
   "cell_type": "code",
   "execution_count": null,
   "id": "7e9a7672",
   "metadata": {},
   "outputs": [],
   "source": []
  },
  {
   "cell_type": "code",
   "execution_count": 51,
   "id": "b4cd0cc5",
   "metadata": {},
   "outputs": [
    {
     "name": "stdout",
     "output_type": "stream",
     "text": [
      "Predicted Growth_rate for 2024: 2\n",
      "R-squared: 0.9868188767040554\n"
     ]
    },
    {
     "name": "stderr",
     "output_type": "stream",
     "text": [
      "C:\\Users\\User\\anaconda3\\lib\\site-packages\\sklearn\\base.py:439: UserWarning: X does not have valid feature names, but LinearRegression was fitted with feature names\n",
      "  warnings.warn(\n"
     ]
    }
   ],
   "source": [
    "import pandas as pd\n",
    "import numpy as np\n",
    "from sklearn.linear_model import LinearRegression\n",
    "\n",
    "# Load the placement data into a Pandas dataframe\n",
    "df = pd.DataFrame({\n",
    "    'Year': ['01-01-2017', '01-01-2018', '01-01-2019','01-01-2020','01-01-2021','01-01-2022','01-01-2023'],\n",
    "    'Growth_rate': ['-2.11','-1.28','-0.57','0.05','0.39','1','2']\n",
    "})\n",
    "\n",
    "# Convert the Year column to a datetime type\n",
    "df['Year'] = pd.to_datetime(df['Year'])\n",
    "\n",
    "# Extract the year from the datetime column and create a new column\n",
    "df['Year_num'] = df['Year'].dt.year\n",
    "\n",
    "# Split the data into training and testing sets\n",
    "X2_train = df[['Year_num']]\n",
    "y2_train = df['Growth_rate']\n",
    "\n",
    "# Fit a linear regression model to the data\n",
    "model = LinearRegression().fit(X2_train, y2_train)\n",
    "\n",
    "# Use the model to predict the placement for 2024\n",
    "growth_rate_2024 = model.predict([[2024]])\n",
    "\n",
    "# Print the predicted placement for 2024\n",
    "print(f\"Predicted Growth_rate for 2024: {int(growth_rate_2024)}\")\n",
    "\n",
    "\n",
    "\n",
    "# Accuracy \n",
    "\n",
    "from sklearn.metrics import mean_squared_error, r2_score\n",
    "\n",
    "# Predict the placements for the training data\n",
    "y_train_pred = model.predict(X2_train)\n",
    "\n",
    "\n",
    "\n",
    "# Calculate the MSE and R-squared for the training data\n",
    "mse = mean_squared_error(y2_train, y_train_pred)\n",
    "r2 = r2_score(y2_train, y_train_pred)\n",
    "\n",
    "\n",
    "print(f\"R-squared: {r2}\")\n"
   ]
  },
  {
   "cell_type": "code",
   "execution_count": null,
   "id": "3dd1b2c5",
   "metadata": {},
   "outputs": [],
   "source": []
  },
  {
   "cell_type": "code",
   "execution_count": 53,
   "id": "e3b2f0ff",
   "metadata": {},
   "outputs": [
    {
     "name": "stdout",
     "output_type": "stream",
     "text": [
      "Predicted Growth_rate for 2024: 1\n",
      "R-squared: 0.9753219685651109\n"
     ]
    },
    {
     "name": "stderr",
     "output_type": "stream",
     "text": [
      "C:\\Users\\User\\anaconda3\\lib\\site-packages\\sklearn\\base.py:439: UserWarning: X does not have valid feature names, but LinearRegression was fitted with feature names\n",
      "  warnings.warn(\n"
     ]
    }
   ],
   "source": [
    "import pandas as pd\n",
    "import numpy as np\n",
    "from sklearn.linear_model import LinearRegression\n",
    "\n",
    "# Load the placement data into a Pandas dataframe\n",
    "df = pd.DataFrame({\n",
    "    'Year': ['01-01-2017', '01-01-2018', '01-01-2019','01-01-2020','01-01-2021'],\n",
    "    'Growth_rate': ['-2.60','-1.88','-1.70','-1.09','-0.44']\n",
    "})\n",
    "\n",
    "# Convert the Year column to a datetime type\n",
    "df['Year'] = pd.to_datetime(df['Year'])\n",
    "\n",
    "# Extract the year from the datetime column and create a new column\n",
    "df['Year_num'] = df['Year'].dt.year\n",
    "\n",
    "# Split the data into training and testing sets\n",
    "X2_train = df[['Year_num']]\n",
    "y2_train = df['Growth_rate']\n",
    "\n",
    "# Fit a linear regression model to the data\n",
    "model = LinearRegression().fit(X2_train, y2_train)\n",
    "\n",
    "# Use the model to predict the placement for 2024\n",
    "growth_rate_2024 = model.predict([[2024]])\n",
    "\n",
    "# Print the predicted placement for 2024\n",
    "print(f\"Predicted Growth_rate for 2024: {int(growth_rate_2024)}\")\n",
    "\n",
    "\n",
    "\n",
    "# Accuracy \n",
    "\n",
    "from sklearn.metrics import mean_squared_error, r2_score\n",
    "\n",
    "# Predict the placements for the training data\n",
    "y_train_pred = model.predict(X2_train)\n",
    "\n",
    "\n",
    "\n",
    "# Calculate the MSE and R-squared for the training data\n",
    "mse = mean_squared_error(y2_train, y_train_pred)\n",
    "r2 = r2_score(y2_train, y_train_pred)\n",
    "\n",
    "\n",
    "print(f\"R-squared: {r2}\")\n"
   ]
  },
  {
   "cell_type": "code",
   "execution_count": null,
   "id": "07ce6d54",
   "metadata": {},
   "outputs": [],
   "source": []
  },
  {
   "cell_type": "code",
   "execution_count": 54,
   "id": "fb5450c8",
   "metadata": {},
   "outputs": [
    {
     "name": "stdout",
     "output_type": "stream",
     "text": [
      "Predicted Growth_rate for 2024: 0\n",
      "R-squared: 0.9891630006067851\n"
     ]
    },
    {
     "name": "stderr",
     "output_type": "stream",
     "text": [
      "C:\\Users\\User\\anaconda3\\lib\\site-packages\\sklearn\\base.py:439: UserWarning: X does not have valid feature names, but LinearRegression was fitted with feature names\n",
      "  warnings.warn(\n"
     ]
    }
   ],
   "source": [
    "import pandas as pd\n",
    "import numpy as np\n",
    "from sklearn.linear_model import LinearRegression\n",
    "\n",
    "# Load the placement data into a Pandas dataframe\n",
    "df = pd.DataFrame({\n",
    "    'Year': ['01-01-2017', '01-01-2018', '01-01-2019','01-01-2020','01-01-2021'],\n",
    "    'Growth_rate': ['-1.38','-1.03','-0.84','-0.40','-0.08']\n",
    "})\n",
    "\n",
    "# Convert the Year column to a datetime type\n",
    "df['Year'] = pd.to_datetime(df['Year'])\n",
    "\n",
    "# Extract the year from the datetime column and create a new column\n",
    "df['Year_num'] = df['Year'].dt.year\n",
    "\n",
    "# Split the data into training and testing sets\n",
    "X2_train = df[['Year_num']]\n",
    "y2_train = df['Growth_rate']\n",
    "\n",
    "# Fit a linear regression model to the data\n",
    "model = LinearRegression().fit(X2_train, y2_train)\n",
    "\n",
    "# Use the model to predict the placement for 2024\n",
    "growth_rate_2024 = model.predict([[2024]])\n",
    "\n",
    "# Print the predicted placement for 2024\n",
    "print(f\"Predicted Growth_rate for 2024: {int(growth_rate_2024)}\")\n",
    "\n",
    "\n",
    "\n",
    "# Accuracy \n",
    "\n",
    "from sklearn.metrics import mean_squared_error, r2_score\n",
    "\n",
    "# Predict the placements for the training data\n",
    "y_train_pred = model.predict(X2_train)\n",
    "\n",
    "\n",
    "\n",
    "# Calculate the MSE and R-squared for the training data\n",
    "mse = mean_squared_error(y2_train, y_train_pred)\n",
    "r2 = r2_score(y2_train, y_train_pred)\n",
    "\n",
    "\n",
    "print(f\"R-squared: {r2}\")\n"
   ]
  },
  {
   "cell_type": "code",
   "execution_count": null,
   "id": "51f27146",
   "metadata": {},
   "outputs": [],
   "source": []
  },
  {
   "cell_type": "code",
   "execution_count": 57,
   "id": "89c933a9",
   "metadata": {},
   "outputs": [
    {
     "name": "stdout",
     "output_type": "stream",
     "text": [
      "Predicted Growth_rate for 2024: 4\n",
      "R-squared: 0.7939051266545722\n"
     ]
    },
    {
     "name": "stderr",
     "output_type": "stream",
     "text": [
      "C:\\Users\\User\\anaconda3\\lib\\site-packages\\sklearn\\base.py:439: UserWarning: X does not have valid feature names, but LinearRegression was fitted with feature names\n",
      "  warnings.warn(\n"
     ]
    }
   ],
   "source": [
    "import pandas as pd\n",
    "import numpy as np\n",
    "from sklearn.linear_model import LinearRegression\n",
    "\n",
    "# Load the placement data into a Pandas dataframe\n",
    "df = pd.DataFrame({\n",
    "    'Year': ['01-01-2017', '01-01-2018', '01-01-2019','01-01-2020','01-01-2021'],\n",
    "    'Growth_rate': ['-3.17','-3.16','-0.04','0.67','0.35']\n",
    "})\n",
    "\n",
    "# Convert the Year column to a datetime type\n",
    "df['Year'] = pd.to_datetime(df['Year'])\n",
    "\n",
    "# Extract the year from the datetime column and create a new column\n",
    "df['Year_num'] = df['Year'].dt.year\n",
    "\n",
    "# Split the data into training and testing sets\n",
    "X2_train = df[['Year_num']]\n",
    "y2_train = df['Growth_rate']\n",
    "\n",
    "# Fit a linear regression model to the data\n",
    "model = LinearRegression().fit(X2_train, y2_train)\n",
    "\n",
    "# Use the model to predict the placement for 2024\n",
    "growth_rate_2024 = model.predict([[2024]])\n",
    "\n",
    "# Print the predicted placement for 2024\n",
    "print(f\"Predicted Growth_rate for 2024: {int(growth_rate_2024)}\")\n",
    "\n",
    "\n",
    "\n",
    "# Accuracy \n",
    "\n",
    "from sklearn.metrics import mean_squared_error, r2_score\n",
    "\n",
    "# Predict the placements for the training data\n",
    "y_train_pred = model.predict(X2_train)\n",
    "\n",
    "\n",
    "\n",
    "# Calculate the MSE and R-squared for the training data\n",
    "mse = mean_squared_error(y2_train, y_train_pred)\n",
    "r2 = r2_score(y2_train, y_train_pred)\n",
    "\n",
    "\n",
    "print(f\"R-squared: {r2}\")\n"
   ]
  },
  {
   "cell_type": "markdown",
   "id": "b532f443",
   "metadata": {},
   "source": []
  },
  {
   "cell_type": "code",
   "execution_count": 91,
   "id": "86238fb9",
   "metadata": {},
   "outputs": [
    {
     "name": "stdout",
     "output_type": "stream",
     "text": [
      "Predicted Growth_rate for 2024: 0\n",
      "R-squared: 0.06453580578262597\n"
     ]
    },
    {
     "name": "stderr",
     "output_type": "stream",
     "text": [
      "C:\\Users\\User\\anaconda3\\lib\\site-packages\\sklearn\\base.py:439: UserWarning: X does not have valid feature names, but LinearRegression was fitted with feature names\n",
      "  warnings.warn(\n"
     ]
    }
   ],
   "source": [
    "import pandas as pd\n",
    "import numpy as np\n",
    "from sklearn.linear_model import LinearRegression\n",
    "\n",
    "# Load the placement data into a Pandas dataframe\n",
    "df = pd.DataFrame({\n",
    "    'Year': ['01-01-2017', '01-01-2018', '01-01-2019','01-01-2020','01-01-2021'],\n",
    "    'Growth_rate': ['1.19','0.42','0.86','0.64','0.85']\n",
    "})\n",
    "\n",
    "# Convert the Year column to a datetime type\n",
    "df['Year'] = pd.to_datetime(df['Year'])\n",
    "\n",
    "# Extract the year from the datetime column and create a new column\n",
    "df['Year_num'] = df['Year'].dt.year\n",
    "\n",
    "# Split the data into training and testing sets\n",
    "X2_train = df[['Year_num']]\n",
    "y2_train = df['Growth_rate']\n",
    "\n",
    "# Fit a linear regression model to the data\n",
    "model = LinearRegression().fit(X2_train, y2_train)\n",
    "\n",
    "# Use the model to predict the placement for 2024\n",
    "growth_rate_2024 = model.predict([[2024]])\n",
    "\n",
    "# Print the predicted placement for 2024\n",
    "print(f\"Predicted Growth_rate for 2024: {int(growth_rate_2024)}\")\n",
    "\n",
    "\n",
    "\n",
    "# Accuracy \n",
    "\n",
    "from sklearn.metrics import mean_squared_error, r2_score\n",
    "\n",
    "# Predict the placements for the training data\n",
    "y_train_pred = model.predict(X2_train)\n",
    "\n",
    "\n",
    "\n",
    "# Calculate the MSE and R-squared for the training data\n",
    "mse = mean_squared_error(y2_train, y_train_pred)\n",
    "r2 = r2_score(y2_train, y_train_pred)\n",
    "\n",
    "\n",
    "print(f\"R-squared: {r2}\")\n"
   ]
  },
  {
   "cell_type": "code",
   "execution_count": 66,
   "id": "4c967c4b",
   "metadata": {},
   "outputs": [
    {
     "name": "stdout",
     "output_type": "stream",
     "text": [
      "Predicted Growth_rate for 2024: 2\n",
      "R-squared: 0.10971275206731057\n"
     ]
    },
    {
     "name": "stderr",
     "output_type": "stream",
     "text": [
      "C:\\Users\\User\\anaconda3\\lib\\site-packages\\sklearn\\base.py:439: UserWarning: X does not have valid feature names, but LinearRegression was fitted with feature names\n",
      "  warnings.warn(\n"
     ]
    }
   ],
   "source": [
    "import pandas as pd\n",
    "import numpy as np\n",
    "from sklearn.linear_model import LinearRegression\n",
    "\n",
    "# Load the placement data into a Pandas dataframe\n",
    "df = pd.DataFrame({\n",
    "    'Year': ['01-01-2017', '01-01-2018', '01-01-2019','01-01-2020','01-01-2021'],\n",
    "    'Growth_rate': ['1.55','1.15','2.05','2.47','1.44']\n",
    "})\n",
    "\n",
    "# Convert the Year column to a datetime type\n",
    "df['Year'] = pd.to_datetime(df['Year'])\n",
    "\n",
    "# Extract the year from the datetime column and create a new column\n",
    "df['Year_num'] = df['Year'].dt.year\n",
    "\n",
    "# Split the data into training and testing sets\n",
    "X2_train = df[['Year_num']]\n",
    "y2_train = df['Growth_rate']\n",
    "\n",
    "# Fit a linear regression model to the data\n",
    "model = LinearRegression().fit(X2_train, y2_train)\n",
    "\n",
    "# Use the model to predict the placement for 2024\n",
    "growth_rate_2024 = model.predict([[2024]])\n",
    "\n",
    "# Print the predicted placement for 2024\n",
    "print(f\"Predicted Growth_rate for 2024: {int(growth_rate_2024)}\")\n",
    "\n",
    "\n",
    "\n",
    "# Accuracy \n",
    "\n",
    "from sklearn.metrics import mean_squared_error, r2_score\n",
    "\n",
    "# Predict the placements for the training data\n",
    "y_train_pred = model.predict(X2_train)\n",
    "\n",
    "\n",
    "\n",
    "# Calculate the MSE and R-squared for the training data\n",
    "mse = mean_squared_error(y2_train, y_train_pred)\n",
    "r2 = r2_score(y2_train, y_train_pred)\n",
    "\n",
    "\n",
    "print(f\"R-squared: {r2}\")\n"
   ]
  },
  {
   "cell_type": "code",
   "execution_count": null,
   "id": "b682b499",
   "metadata": {},
   "outputs": [],
   "source": []
  },
  {
   "cell_type": "code",
   "execution_count": 72,
   "id": "250f5686",
   "metadata": {},
   "outputs": [
    {
     "name": "stdout",
     "output_type": "stream",
     "text": [
      "Predicted Growth_rate for 2024: 0\n",
      "R-squared: 0.13959302325584133\n"
     ]
    },
    {
     "name": "stderr",
     "output_type": "stream",
     "text": [
      "C:\\Users\\User\\anaconda3\\lib\\site-packages\\sklearn\\base.py:439: UserWarning: X does not have valid feature names, but LinearRegression was fitted with feature names\n",
      "  warnings.warn(\n"
     ]
    }
   ],
   "source": [
    "import pandas as pd\n",
    "import numpy as np\n",
    "from sklearn.linear_model import LinearRegression\n",
    "\n",
    "# Load the placement data into a Pandas dataframe\n",
    "df = pd.DataFrame({\n",
    "    'Year': ['01-01-2017', '01-01-2018', '01-01-2019','01-01-2020','01-01-2021'],\n",
    "    'Growth_rate': ['-0.02','0.55','0.24','0.36','0.32']\n",
    "})\n",
    "\n",
    "# Convert the Year column to a datetime type\n",
    "df['Year'] = pd.to_datetime(df['Year'])\n",
    "\n",
    "# Extract the year from the datetime column and create a new column\n",
    "df['Year_num'] = df['Year'].dt.year\n",
    "\n",
    "# Split the data into training and testing sets\n",
    "X2_train = df[['Year_num']]\n",
    "y2_train = df['Growth_rate']\n",
    "\n",
    "# Fit a linear regression model to the data\n",
    "model = LinearRegression().fit(X2_train, y2_train)\n",
    "\n",
    "# Use the model to predict the placement for 2024\n",
    "growth_rate_2024 = model.predict([[2024]])\n",
    "\n",
    "# Print the predicted placement for 2024\n",
    "print(f\"Predicted Growth_rate for 2024: {int(growth_rate_2024)}\")\n",
    "\n",
    "\n",
    "\n",
    "# Accuracy \n",
    "\n",
    "from sklearn.metrics import mean_squared_error, r2_score\n",
    "\n",
    "# Predict the placements for the training data\n",
    "y_train_pred = model.predict(X2_train)\n",
    "\n",
    "\n",
    "\n",
    "# Calculate the MSE and R-squared for the training data\n",
    "mse = mean_squared_error(y2_train, y_train_pred)\n",
    "r2 = r2_score(y2_train, y_train_pred)\n",
    "\n",
    "\n",
    "print(f\"R-squared: {r2}\")\n"
   ]
  },
  {
   "cell_type": "code",
   "execution_count": null,
   "id": "3c5966e3",
   "metadata": {},
   "outputs": [],
   "source": []
  },
  {
   "cell_type": "code",
   "execution_count": 73,
   "id": "61abfa74",
   "metadata": {},
   "outputs": [
    {
     "name": "stdout",
     "output_type": "stream",
     "text": [
      "Predicted Growth_rate for 2024: 0\n",
      "R-squared: 0.5944066439864334\n"
     ]
    },
    {
     "name": "stderr",
     "output_type": "stream",
     "text": [
      "C:\\Users\\User\\anaconda3\\lib\\site-packages\\sklearn\\base.py:439: UserWarning: X does not have valid feature names, but LinearRegression was fitted with feature names\n",
      "  warnings.warn(\n"
     ]
    }
   ],
   "source": [
    "import pandas as pd\n",
    "import numpy as np\n",
    "from sklearn.linear_model import LinearRegression\n",
    "\n",
    "# Load the placement data into a Pandas dataframe\n",
    "df = pd.DataFrame({\n",
    "    'Year': ['01-01-2017', '01-01-2018', '01-01-2019','01-01-2020','01-01-2021'],\n",
    "    'Growth_rate': ['0.11','-0.11','0.34','0.40','0.40']\n",
    "})\n",
    "\n",
    "# Convert the Year column to a datetime type\n",
    "df['Year'] = pd.to_datetime(df['Year'])\n",
    "\n",
    "# Extract the year from the datetime column and create a new column\n",
    "df['Year_num'] = df['Year'].dt.year\n",
    "\n",
    "# Split the data into training and testing sets\n",
    "X2_train = df[['Year_num']]\n",
    "y2_train = df['Growth_rate']\n",
    "\n",
    "# Fit a linear regression model to the data\n",
    "model = LinearRegression().fit(X2_train, y2_train)\n",
    "\n",
    "# Use the model to predict the placement for 2024\n",
    "growth_rate_2024 = model.predict([[2024]])\n",
    "\n",
    "# Print the predicted placement for 2024\n",
    "print(f\"Predicted Growth_rate for 2024: {int(growth_rate_2024)}\")\n",
    "\n",
    "\n",
    "\n",
    "# Accuracy \n",
    "\n",
    "from sklearn.metrics import mean_squared_error, r2_score\n",
    "\n",
    "# Predict the placements for the training data\n",
    "y_train_pred = model.predict(X2_train)\n",
    "\n",
    "\n",
    "\n",
    "# Calculate the MSE and R-squared for the training data\n",
    "mse = mean_squared_error(y2_train, y_train_pred)\n",
    "r2 = r2_score(y2_train, y_train_pred)\n",
    "\n",
    "\n",
    "print(f\"R-squared: {r2}\")\n"
   ]
  },
  {
   "cell_type": "code",
   "execution_count": null,
   "id": "3b609e1e",
   "metadata": {},
   "outputs": [],
   "source": []
  },
  {
   "cell_type": "code",
   "execution_count": 76,
   "id": "900a02c4",
   "metadata": {},
   "outputs": [
    {
     "name": "stdout",
     "output_type": "stream",
     "text": [
      "Predicted Growth_rate for 2024: 2\n",
      "R-squared: 0.5466319967155202\n"
     ]
    },
    {
     "name": "stderr",
     "output_type": "stream",
     "text": [
      "C:\\Users\\User\\anaconda3\\lib\\site-packages\\sklearn\\base.py:439: UserWarning: X does not have valid feature names, but LinearRegression was fitted with feature names\n",
      "  warnings.warn(\n"
     ]
    }
   ],
   "source": [
    "import pandas as pd\n",
    "import numpy as np\n",
    "from sklearn.linear_model import LinearRegression\n",
    "\n",
    "# Load the placement data into a Pandas dataframe\n",
    "df = pd.DataFrame({\n",
    "    'Year': ['01-01-2017', '01-01-2018', '01-01-2019','01-01-2020','01-01-2021'],\n",
    "    'Growth_rate': ['-1.63','-2.32','0.56','0.64','0.05']\n",
    "})\n",
    "\n",
    "# Convert the Year column to a datetime type\n",
    "df['Year'] = pd.to_datetime(df['Year'])\n",
    "\n",
    "# Extract the year from the datetime column and create a new column\n",
    "df['Year_num'] = df['Year'].dt.year\n",
    "\n",
    "# Split the data into training and testing sets\n",
    "X3_train = df[['Year_num']]\n",
    "y3_train = df['Growth_rate']\n",
    "\n",
    "# Fit a linear regression model to the data\n",
    "model = LinearRegression().fit(X3_train, y3_train)\n",
    "\n",
    "# Use the model to predict the placement for 2024\n",
    "growth_rate_2024 = model.predict([[2024]])\n",
    "\n",
    "# Print the predicted placement for 2024\n",
    "print(f\"Predicted Growth_rate for 2024: {int(growth_rate_2024)}\")\n",
    "\n",
    "\n",
    "\n",
    "# Accuracy \n",
    "\n",
    "from sklearn.metrics import mean_squared_error, r2_score\n",
    "\n",
    "# Predict the placements for the training data\n",
    "y_train_pred = model.predict(X3_train)\n",
    "\n",
    "\n",
    "\n",
    "# Calculate the MSE and R-squared for the training data\n",
    "mse = mean_squared_error(y3_train, y_train_pred)\n",
    "r2 = r2_score(y3_train, y_train_pred)\n",
    "\n",
    "\n",
    "print(f\"R-squared: {r2}\")\n"
   ]
  },
  {
   "cell_type": "code",
   "execution_count": null,
   "id": "d00edb77",
   "metadata": {},
   "outputs": [],
   "source": []
  },
  {
   "cell_type": "code",
   "execution_count": 77,
   "id": "3e096a62",
   "metadata": {},
   "outputs": [
    {
     "name": "stdout",
     "output_type": "stream",
     "text": [
      "Predicted Growth_rate for 2024: 0\n",
      "R-squared: 0.5488966058026429\n"
     ]
    },
    {
     "name": "stderr",
     "output_type": "stream",
     "text": [
      "C:\\Users\\User\\anaconda3\\lib\\site-packages\\sklearn\\base.py:439: UserWarning: X does not have valid feature names, but LinearRegression was fitted with feature names\n",
      "  warnings.warn(\n"
     ]
    }
   ],
   "source": [
    "import pandas as pd\n",
    "import numpy as np\n",
    "from sklearn.linear_model import LinearRegression\n",
    "\n",
    "# Load the placement data into a Pandas dataframe\n",
    "df = pd.DataFrame({\n",
    "    'Year': ['01-01-2017', '01-01-2018', '01-01-2019','01-01-2020','01-01-2021'],\n",
    "    'Growth_rate': ['0.97','0.42','0.41','0.62','0.17']\n",
    "})\n",
    "\n",
    "# Convert the Year column to a datetime type\n",
    "df['Year'] = pd.to_datetime(df['Year'])\n",
    "\n",
    "# Extract the year from the datetime column and create a new column\n",
    "df['Year_num'] = df['Year'].dt.year\n",
    "\n",
    "# Split the data into training and testing sets\n",
    "X3_train = df[['Year_num']]\n",
    "y3_train = df['Growth_rate']\n",
    "\n",
    "# Fit a linear regression model to the data\n",
    "model = LinearRegression().fit(X3_train, y3_train)\n",
    "\n",
    "# Use the model to predict the placement for 2024\n",
    "growth_rate_2024 = model.predict([[2024]])\n",
    "\n",
    "# Print the predicted placement for 2024\n",
    "print(f\"Predicted Growth_rate for 2024: {int(growth_rate_2024)}\")\n",
    "\n",
    "\n",
    "\n",
    "# Accuracy \n",
    "\n",
    "from sklearn.metrics import mean_squared_error, r2_score\n",
    "\n",
    "# Predict the placements for the training data\n",
    "y_train_pred = model.predict(X3_train)\n",
    "\n",
    "\n",
    "\n",
    "# Calculate the MSE and R-squared for the training data\n",
    "mse = mean_squared_error(y3_train, y_train_pred)\n",
    "r2 = r2_score(y3_train, y_train_pred)\n",
    "\n",
    "\n",
    "print(f\"R-squared: {r2}\")\n"
   ]
  },
  {
   "cell_type": "code",
   "execution_count": null,
   "id": "18418632",
   "metadata": {},
   "outputs": [],
   "source": []
  },
  {
   "cell_type": "code",
   "execution_count": 79,
   "id": "340ec66e",
   "metadata": {},
   "outputs": [
    {
     "name": "stdout",
     "output_type": "stream",
     "text": [
      "Predicted Growth_rate for 2024: -1\n",
      "R-squared: 0.8456636599471429\n"
     ]
    },
    {
     "name": "stderr",
     "output_type": "stream",
     "text": [
      "C:\\Users\\User\\anaconda3\\lib\\site-packages\\sklearn\\base.py:439: UserWarning: X does not have valid feature names, but LinearRegression was fitted with feature names\n",
      "  warnings.warn(\n"
     ]
    }
   ],
   "source": [
    "import pandas as pd\n",
    "import numpy as np\n",
    "from sklearn.linear_model import LinearRegression\n",
    "\n",
    "# Load the placement data into a Pandas dataframe\n",
    "df = pd.DataFrame({\n",
    "    'Year': ['01-01-2017', '01-01-2018', '01-01-2019','01-01-2020','01-01-2021'],\n",
    "    'Growth_rate': ['1.72','1.14','0.76','0.07','0.37']\n",
    "})\n",
    "\n",
    "# Convert the Year column to a datetime type\n",
    "df['Year'] = pd.to_datetime(df['Year'])\n",
    "\n",
    "# Extract the year from the datetime column and create a new column\n",
    "df['Year_num'] = df['Year'].dt.year\n",
    "\n",
    "# Split the data into training and testing sets\n",
    "X3_train = df[['Year_num']]\n",
    "y3_train = df['Growth_rate']\n",
    "\n",
    "# Fit a linear regression model to the data\n",
    "model = LinearRegression().fit(X3_train, y3_train)\n",
    "\n",
    "# Use the model to predict the placement for 2024\n",
    "growth_rate_2024 = model.predict([[2024]])\n",
    "\n",
    "# Print the predicted placement for 2024\n",
    "print(f\"Predicted Growth_rate for 2024: {int(growth_rate_2024)}\")\n",
    "\n",
    "\n",
    "\n",
    "# Accuracy \n",
    "\n",
    "from sklearn.metrics import mean_squared_error, r2_score\n",
    "\n",
    "# Predict the placements for the training data\n",
    "y_train_pred = model.predict(X3_train)\n",
    "\n",
    "\n",
    "\n",
    "# Calculate the MSE and R-squared for the training data\n",
    "mse = mean_squared_error(y3_train, y_train_pred)\n",
    "r2 = r2_score(y3_train, y_train_pred)\n",
    "\n",
    "\n",
    "print(f\"R-squared: {r2}\")\n"
   ]
  },
  {
   "cell_type": "code",
   "execution_count": null,
   "id": "033d7477",
   "metadata": {},
   "outputs": [],
   "source": []
  },
  {
   "cell_type": "code",
   "execution_count": 80,
   "id": "b6b92d10",
   "metadata": {},
   "outputs": [
    {
     "name": "stdout",
     "output_type": "stream",
     "text": [
      "Predicted Growth_rate for 2024: 0\n",
      "R-squared: 0.7984383476710706\n"
     ]
    },
    {
     "name": "stderr",
     "output_type": "stream",
     "text": [
      "C:\\Users\\User\\anaconda3\\lib\\site-packages\\sklearn\\base.py:439: UserWarning: X does not have valid feature names, but LinearRegression was fitted with feature names\n",
      "  warnings.warn(\n"
     ]
    }
   ],
   "source": [
    "import pandas as pd\n",
    "import numpy as np\n",
    "from sklearn.linear_model import LinearRegression\n",
    "\n",
    "# Load the placement data into a Pandas dataframe\n",
    "df = pd.DataFrame({\n",
    "    'Year': ['01-01-2017', '01-01-2018', '01-01-2019','01-01-2020','01-01-2021'],\n",
    "    'Growth_rate': ['2.07','1.77','1.33','1.24','1.32']\n",
    "})\n",
    "\n",
    "# Convert the Year column to a datetime type\n",
    "df['Year'] = pd.to_datetime(df['Year'])\n",
    "\n",
    "# Extract the year from the datetime column and create a new column\n",
    "df['Year_num'] = df['Year'].dt.year\n",
    "\n",
    "# Split the data into training and testing sets\n",
    "X3_train = df[['Year_num']]\n",
    "y3_train = df['Growth_rate']\n",
    "\n",
    "# Fit a linear regression model to the data\n",
    "model = LinearRegression().fit(X3_train, y3_train)\n",
    "\n",
    "# Use the model to predict the placement for 2024\n",
    "growth_rate_2024 = model.predict([[2024]])\n",
    "\n",
    "# Print the predicted placement for 2024\n",
    "print(f\"Predicted Growth_rate for 2024: {int(growth_rate_2024)}\")\n",
    "\n",
    "\n",
    "\n",
    "# Accuracy \n",
    "\n",
    "from sklearn.metrics import mean_squared_error, r2_score\n",
    "\n",
    "# Predict the placements for the training data\n",
    "y_train_pred = model.predict(X3_train)\n",
    "\n",
    "\n",
    "\n",
    "# Calculate the MSE and R-squared for the training data\n",
    "mse = mean_squared_error(y3_train, y_train_pred)\n",
    "r2 = r2_score(y3_train, y_train_pred)\n",
    "\n",
    "\n",
    "print(f\"R-squared: {r2}\")\n"
   ]
  },
  {
   "cell_type": "code",
   "execution_count": null,
   "id": "1f70f9bd",
   "metadata": {},
   "outputs": [],
   "source": []
  },
  {
   "cell_type": "code",
   "execution_count": 82,
   "id": "b59d2d2e",
   "metadata": {},
   "outputs": [
    {
     "name": "stdout",
     "output_type": "stream",
     "text": [
      "Predicted Growth_rate for 2024: 0\n",
      "R-squared: 0.9829761736923844\n"
     ]
    },
    {
     "name": "stderr",
     "output_type": "stream",
     "text": [
      "C:\\Users\\User\\anaconda3\\lib\\site-packages\\sklearn\\base.py:439: UserWarning: X does not have valid feature names, but LinearRegression was fitted with feature names\n",
      "  warnings.warn(\n"
     ]
    }
   ],
   "source": [
    "import pandas as pd\n",
    "import numpy as np\n",
    "from sklearn.linear_model import LinearRegression\n",
    "\n",
    "# Load the placement data into a Pandas dataframe\n",
    "df = pd.DataFrame({\n",
    "    'Year': ['01-01-2017', '01-01-2018', '01-01-2019','01-01-2020','01-01-2021'],\n",
    "    'Growth_rate':['0.97','0.77','0.69','0.44','0.30']\n",
    "})\n",
    "\n",
    "# Convert the Year column to a datetime type\n",
    "df['Year'] = pd.to_datetime(df['Year'])\n",
    "\n",
    "# Extract the year from the datetime column and create a new column\n",
    "df['Year_num'] = df['Year'].dt.year\n",
    "\n",
    "# Split the data into training and testing sets\n",
    "X3_train = df[['Year_num']]\n",
    "y3_train = df['Growth_rate']\n",
    "\n",
    "# Fit a linear regression model to the data\n",
    "model = LinearRegression().fit(X3_train, y3_train)\n",
    "\n",
    "# Use the model to predict the placement for 2024\n",
    "growth_rate_2024 = model.predict([[2024]])\n",
    "\n",
    "# Print the predicted placement for 2024\n",
    "print(f\"Predicted Growth_rate for 2024: {int(growth_rate_2024)}\")\n",
    "\n",
    "\n",
    "\n",
    "# Accuracy \n",
    "\n",
    "from sklearn.metrics import mean_squared_error, r2_score\n",
    "\n",
    "# Predict the placements for the training data\n",
    "y_train_pred = model.predict(X3_train)\n",
    "\n",
    "\n",
    "\n",
    "# Calculate the MSE and R-squared for the training data\n",
    "mse = mean_squared_error(y3_train, y_train_pred)\n",
    "r2 = r2_score(y3_train, y_train_pred)\n",
    "\n",
    "\n",
    "print(f\"R-squared: {r2}\")\n"
   ]
  },
  {
   "cell_type": "code",
   "execution_count": null,
   "id": "5b19c664",
   "metadata": {},
   "outputs": [],
   "source": []
  },
  {
   "cell_type": "code",
   "execution_count": 84,
   "id": "64c21b0b",
   "metadata": {},
   "outputs": [
    {
     "name": "stdout",
     "output_type": "stream",
     "text": [
      "Predicted Growth_rate for 2024: 0\n",
      "R-squared: 0.8415702769015391\n"
     ]
    },
    {
     "name": "stderr",
     "output_type": "stream",
     "text": [
      "C:\\Users\\User\\anaconda3\\lib\\site-packages\\sklearn\\base.py:439: UserWarning: X does not have valid feature names, but LinearRegression was fitted with feature names\n",
      "  warnings.warn(\n"
     ]
    }
   ],
   "source": [
    "import pandas as pd\n",
    "import numpy as np\n",
    "from sklearn.linear_model import LinearRegression\n",
    "\n",
    "# Load the placement data into a Pandas dataframe\n",
    "df = pd.DataFrame({\n",
    "    'Year': ['01-01-2017', '01-01-2018', '01-01-2019','01-01-2020','01-01-2021'],\n",
    "    'Growth_rate':['-0.20','-0.06','-0.03','0.22','0.15']\n",
    "})\n",
    "\n",
    "# Convert the Year column to a datetime type\n",
    "df['Year'] = pd.to_datetime(df['Year'])\n",
    "\n",
    "# Extract the year from the datetime column and create a new column\n",
    "df['Year_num'] = df['Year'].dt.year\n",
    "\n",
    "# Split the data into training and testing sets\n",
    "X3_train = df[['Year_num']]\n",
    "y3_train = df['Growth_rate']\n",
    "\n",
    "# Fit a linear regression model to the data\n",
    "model = LinearRegression().fit(X3_train, y3_train)\n",
    "\n",
    "# Use the model to predict the placement for 2024\n",
    "growth_rate_2024 = model.predict([[2024]])\n",
    "\n",
    "# Print the predicted placement for 2024\n",
    "print(f\"Predicted Growth_rate for 2024: {int(growth_rate_2024)}\")\n",
    "\n",
    "\n",
    "\n",
    "# Accuracy \n",
    "\n",
    "from sklearn.metrics import mean_squared_error, r2_score\n",
    "\n",
    "# Predict the placements for the training data\n",
    "y_train_pred = model.predict(X3_train)\n",
    "\n",
    "\n",
    "\n",
    "# Calculate the MSE and R-squared for the training data\n",
    "mse = mean_squared_error(y3_train, y_train_pred)\n",
    "r2 = r2_score(y3_train, y_train_pred)\n",
    "\n",
    "\n",
    "print(f\"R-squared: {r2}\")\n"
   ]
  },
  {
   "cell_type": "code",
   "execution_count": null,
   "id": "e2453e5a",
   "metadata": {},
   "outputs": [],
   "source": []
  },
  {
   "cell_type": "code",
   "execution_count": 85,
   "id": "9dd9d747",
   "metadata": {},
   "outputs": [
    {
     "name": "stdout",
     "output_type": "stream",
     "text": [
      "Predicted Growth_rate for 2024: -3\n",
      "R-squared: 0.914354232698742\n"
     ]
    },
    {
     "name": "stderr",
     "output_type": "stream",
     "text": [
      "C:\\Users\\User\\anaconda3\\lib\\site-packages\\sklearn\\base.py:439: UserWarning: X does not have valid feature names, but LinearRegression was fitted with feature names\n",
      "  warnings.warn(\n"
     ]
    }
   ],
   "source": [
    "import pandas as pd\n",
    "import numpy as np\n",
    "from sklearn.linear_model import LinearRegression\n",
    "\n",
    "# Load the placement data into a Pandas dataframe\n",
    "df = pd.DataFrame({\n",
    "    'Year': ['01-01-2017', '01-01-2018', '01-01-2019','01-01-2020','01-01-2021'],\n",
    "    'Growth_rate':['1.61','1.31','0.25','-0.98','-0.86']\n",
    "})\n",
    "\n",
    "# Convert the Year column to a datetime type\n",
    "df['Year'] = pd.to_datetime(df['Year'])\n",
    "\n",
    "# Extract the year from the datetime column and create a new column\n",
    "df['Year_num'] = df['Year'].dt.year\n",
    "\n",
    "# Split the data into training and testing sets\n",
    "X3_train = df[['Year_num']]\n",
    "y3_train = df['Growth_rate']\n",
    "\n",
    "# Fit a linear regression model to the data\n",
    "model = LinearRegression().fit(X3_train, y3_train)\n",
    "\n",
    "# Use the model to predict the placement for 2024\n",
    "growth_rate_2024 = model.predict([[2024]])\n",
    "\n",
    "# Print the predicted placement for 2024\n",
    "print(f\"Predicted Growth_rate for 2024: {int(growth_rate_2024)}\")\n",
    "\n",
    "\n",
    "\n",
    "# Accuracy \n",
    "\n",
    "from sklearn.metrics import mean_squared_error, r2_score\n",
    "\n",
    "# Predict the placements for the training data\n",
    "y_train_pred = model.predict(X3_train)\n",
    "\n",
    "\n",
    "\n",
    "# Calculate the MSE and R-squared for the training data\n",
    "mse = mean_squared_error(y3_train, y_train_pred)\n",
    "r2 = r2_score(y3_train, y_train_pred)\n",
    "\n",
    "\n",
    "print(f\"R-squared: {r2}\")\n"
   ]
  },
  {
   "cell_type": "code",
   "execution_count": null,
   "id": "2549c28c",
   "metadata": {},
   "outputs": [],
   "source": []
  },
  {
   "cell_type": "code",
   "execution_count": 86,
   "id": "291bd33f",
   "metadata": {},
   "outputs": [
    {
     "name": "stdout",
     "output_type": "stream",
     "text": [
      "Predicted Growth_rate for 2024: 0\n",
      "R-squared: 0.9275165888681987\n"
     ]
    },
    {
     "name": "stderr",
     "output_type": "stream",
     "text": [
      "C:\\Users\\User\\anaconda3\\lib\\site-packages\\sklearn\\base.py:439: UserWarning: X does not have valid feature names, but LinearRegression was fitted with feature names\n",
      "  warnings.warn(\n"
     ]
    }
   ],
   "source": [
    "import pandas as pd\n",
    "import numpy as np\n",
    "from sklearn.linear_model import LinearRegression\n",
    "\n",
    "# Load the placement data into a Pandas dataframe\n",
    "df = pd.DataFrame({\n",
    "    'Year': ['01-01-2017', '01-01-2018', '01-01-2019','01-01-2020','01-01-2021'],\n",
    "    'Growth_rate':['3.71','3.64','2.76','2.69','2.08']\n",
    "})\n",
    "\n",
    "# Convert the Year column to a datetime type\n",
    "df['Year'] = pd.to_datetime(df['Year'])\n",
    "\n",
    "# Extract the year from the datetime column and create a new column\n",
    "df['Year_num'] = df['Year'].dt.year\n",
    "\n",
    "# Split the data into training and testing sets\n",
    "X3_train = df[['Year_num']]\n",
    "y3_train = df['Growth_rate']\n",
    "\n",
    "# Fit a linear regression model to the data\n",
    "model = LinearRegression().fit(X3_train, y3_train)\n",
    "\n",
    "# Use the model to predict the placement for 2024\n",
    "growth_rate_2024 = model.predict([[2024]])\n",
    "\n",
    "# Print the predicted placement for 2024\n",
    "print(f\"Predicted Growth_rate for 2024: {int(growth_rate_2024)}\")\n",
    "\n",
    "\n",
    "\n",
    "# Accuracy \n",
    "\n",
    "from sklearn.metrics import mean_squared_error, r2_score\n",
    "\n",
    "# Predict the placements for the training data\n",
    "y_train_pred = model.predict(X3_train)\n",
    "\n",
    "\n",
    "\n",
    "# Calculate the MSE and R-squared for the training data\n",
    "mse = mean_squared_error(y3_train, y_train_pred)\n",
    "r2 = r2_score(y3_train, y_train_pred)\n",
    "\n",
    "\n",
    "print(f\"R-squared: {r2}\")\n"
   ]
  },
  {
   "cell_type": "code",
   "execution_count": null,
   "id": "4329d9a0",
   "metadata": {},
   "outputs": [],
   "source": []
  },
  {
   "cell_type": "code",
   "execution_count": 87,
   "id": "8378a7f8",
   "metadata": {},
   "outputs": [
    {
     "name": "stdout",
     "output_type": "stream",
     "text": [
      "Predicted Growth_rate for 2024: 0\n",
      "R-squared: 0.9004856755215604\n"
     ]
    },
    {
     "name": "stderr",
     "output_type": "stream",
     "text": [
      "C:\\Users\\User\\anaconda3\\lib\\site-packages\\sklearn\\base.py:439: UserWarning: X does not have valid feature names, but LinearRegression was fitted with feature names\n",
      "  warnings.warn(\n"
     ]
    }
   ],
   "source": [
    "import pandas as pd\n",
    "import numpy as np\n",
    "from sklearn.linear_model import LinearRegression\n",
    "\n",
    "# Load the placement data into a Pandas dataframe\n",
    "df = pd.DataFrame({\n",
    "    'Year': ['01-01-2017', '01-01-2018', '01-01-2019','01-01-2020','01-01-2021'],\n",
    "    'Growth_rate':['2.32','2.51','1.71','1.23','0.82']\n",
    "})\n",
    "\n",
    "# Convert the Year column to a datetime type\n",
    "df['Year'] = pd.to_datetime(df['Year'])\n",
    "\n",
    "# Extract the year from the datetime column and create a new column\n",
    "df['Year_num'] = df['Year'].dt.year\n",
    "\n",
    "# Split the data into training and testing sets\n",
    "X3_train = df[['Year_num']]\n",
    "y3_train = df['Growth_rate']\n",
    "\n",
    "# Fit a linear regression model to the data\n",
    "model = LinearRegression().fit(X3_train, y3_train)\n",
    "\n",
    "# Use the model to predict the placement for 2024\n",
    "growth_rate_2024 = model.predict([[2024]])\n",
    "\n",
    "# Print the predicted placement for 2024\n",
    "print(f\"Predicted Growth_rate for 2024: {int(growth_rate_2024)}\")\n",
    "\n",
    "\n",
    "\n",
    "# Accuracy \n",
    "\n",
    "from sklearn.metrics import mean_squared_error, r2_score\n",
    "\n",
    "# Predict the placements for the training data\n",
    "y_train_pred = model.predict(X3_train)\n",
    "\n",
    "\n",
    "\n",
    "# Calculate the MSE and R-squared for the training data\n",
    "mse = mean_squared_error(y3_train, y_train_pred)\n",
    "r2 = r2_score(y3_train, y_train_pred)\n",
    "\n",
    "\n",
    "print(f\"R-squared: {r2}\")\n"
   ]
  },
  {
   "cell_type": "code",
   "execution_count": null,
   "id": "203f189a",
   "metadata": {},
   "outputs": [],
   "source": []
  },
  {
   "cell_type": "code",
   "execution_count": 90,
   "id": "af0c176d",
   "metadata": {},
   "outputs": [
    {
     "name": "stdout",
     "output_type": "stream",
     "text": [
      "Predicted Growth_rate for 2024: 0\n",
      "R-squared: 0.5106047256368532\n"
     ]
    },
    {
     "name": "stderr",
     "output_type": "stream",
     "text": [
      "C:\\Users\\User\\anaconda3\\lib\\site-packages\\sklearn\\base.py:439: UserWarning: X does not have valid feature names, but LinearRegression was fitted with feature names\n",
      "  warnings.warn(\n"
     ]
    }
   ],
   "source": [
    "import pandas as pd\n",
    "import numpy as np\n",
    "from sklearn.linear_model import LinearRegression\n",
    "\n",
    "# Load the placement data into a Pandas dataframe\n",
    "df = pd.DataFrame({\n",
    "    'Year': ['01-01-2017', '01-01-2018', '01-01-2019','01-01-2020','01-01-2021'],\n",
    "    'Growth_rate':['3.79','1.50','1.19','1.45','1.36']\n",
    "})\n",
    "\n",
    "# Convert the Year column to a datetime type\n",
    "df['Year'] = pd.to_datetime(df['Year'])\n",
    "\n",
    "# Extract the year from the datetime column and create a new column\n",
    "df['Year_num'] = df['Year'].dt.year\n",
    "\n",
    "# Split the data into training and testing sets\n",
    "X3_train = df[['Year_num']]\n",
    "y3_train = df['Growth_rate']\n",
    "\n",
    "# Fit a linear regression model to the data\n",
    "model = LinearRegression().fit(X3_train, y3_train)\n",
    "\n",
    "# Use the model to predict the placement for 2024\n",
    "growth_rate_2024 = model.predict([[2024]])\n",
    "\n",
    "# Print the predicted placement for 2024\n",
    "print(f\"Predicted Growth_rate for 2024: {int(growth_rate_2024)}\")\n",
    "\n",
    "\n",
    "\n",
    "# Accuracy \n",
    "\n",
    "from sklearn.metrics import mean_squared_error, r2_score\n",
    "\n",
    "# Predict the placements for the training data\n",
    "y_train_pred = model.predict(X3_train)\n",
    "\n",
    "\n",
    "\n",
    "# Calculate the MSE and R-squared for the training data\n",
    "mse = mean_squared_error(y3_train, y_train_pred)\n",
    "r2 = r2_score(y3_train, y_train_pred)\n",
    "\n",
    "\n",
    "print(f\"R-squared: {r2}\")\n"
   ]
  },
  {
   "cell_type": "code",
   "execution_count": null,
   "id": "7c8f5faa",
   "metadata": {},
   "outputs": [],
   "source": []
  },
  {
   "cell_type": "markdown",
   "id": "6d7d5c26",
   "metadata": {},
   "source": [
    "#  Prediction for no. of startups incubated"
   ]
  },
  {
   "cell_type": "code",
   "execution_count": null,
   "id": "42c64308",
   "metadata": {},
   "outputs": [],
   "source": []
  },
  {
   "cell_type": "code",
   "execution_count": 151,
   "id": "001a0c98",
   "metadata": {},
   "outputs": [
    {
     "name": "stdout",
     "output_type": "stream",
     "text": [
      "Predicted Growth_rate for 2024: 523\n",
      "R-squared: 0.8430343058689675\n"
     ]
    },
    {
     "name": "stderr",
     "output_type": "stream",
     "text": [
      "C:\\Users\\User\\anaconda3\\lib\\site-packages\\sklearn\\base.py:439: UserWarning: X does not have valid feature names, but LinearRegression was fitted with feature names\n",
      "  warnings.warn(\n"
     ]
    }
   ],
   "source": [
    "import pandas as pd\n",
    "import numpy as np\n",
    "from sklearn.linear_model import LinearRegression\n",
    "\n",
    "# Load the placement data into a Pandas dataframe\n",
    "df = pd.DataFrame({\n",
    "    'Year': ['01-01-2016','01-01-2017', '01-01-2018', '01-01-2019','01-01-2020','01-01-2021','01-01-2022'],\n",
    "    'Growth_rate':['67', '78', '83', '322','375','310','468']})\n",
    "\n",
    "# Convert the Year column to a datetime type\n",
    "df['Year'] = pd.to_datetime(df['Year'])\n",
    "\n",
    "# Extract the year from the datetime column and create a new column\n",
    "df['Year_num'] = df['Year'].dt.year\n",
    "\n",
    "# Split the data into training and testing sets\n",
    "X3_train = df[['Year_num']]\n",
    "y3_train = df['Growth_rate']\n",
    "\n",
    "# Fit a linear regression model to the data\n",
    "model = LinearRegression().fit(X3_train, y3_train)\n",
    "\n",
    "# Use the model to predict the placement for 2024\n",
    "growth_rate_2024 = model.predict([[2023]])\n",
    "\n",
    "# Print the predicted placement for 2024\n",
    "print(f\"Predicted Growth_rate for 2024: {int(growth_rate_2024)}\")\n",
    "\n",
    "\n",
    "\n",
    "# Accuracy \n",
    "\n",
    "from sklearn.metrics import mean_squared_error, r2_score\n",
    "\n",
    "# Predict the placements for the training data\n",
    "y_train_pred = model.predict(X3_train)\n",
    "\n",
    "\n",
    "\n",
    "# Calculate the MSE and R-squared for the training data\n",
    "mse = mean_squared_error(y3_train, y_train_pred)\n",
    "r2 = r2_score(y3_train, y_train_pred)\n",
    "\n",
    "\n",
    "print(f\"R-squared: {r2}\")\n"
   ]
  },
  {
   "cell_type": "code",
   "execution_count": null,
   "id": "f805e6a7",
   "metadata": {},
   "outputs": [],
   "source": []
  },
  {
   "cell_type": "code",
   "execution_count": 153,
   "id": "b4b0efdb",
   "metadata": {},
   "outputs": [
    {
     "name": "stdout",
     "output_type": "stream",
     "text": [
      "Predicted Growth_rate for 2024: 1793\n",
      "R-squared: 8.44596174309764e-06\n"
     ]
    },
    {
     "name": "stderr",
     "output_type": "stream",
     "text": [
      "C:\\Users\\User\\anaconda3\\lib\\site-packages\\sklearn\\base.py:439: UserWarning: X does not have valid feature names, but LinearRegression was fitted with feature names\n",
      "  warnings.warn(\n"
     ]
    }
   ],
   "source": [
    "import pandas as pd\n",
    "import numpy as np\n",
    "from sklearn.linear_model import LinearRegression\n",
    "\n",
    "# Load the placement data into a Pandas dataframe\n",
    "df = pd.DataFrame({\n",
    "    'Year': ['01-01-2016','01-01-2017', '01-01-2018', '01-01-2019','01-01-2020','01-01-2021','01-01-2022'],\n",
    "    'Growth_rate':['1871',' 2240', '852',' 1953','2089','1880','1693']})\n",
    "\n",
    "# Convert the Year column to a datetime type\n",
    "df['Year'] = pd.to_datetime(df['Year'])\n",
    "\n",
    "# Extract the year from the datetime column and create a new column\n",
    "df['Year_num'] = df['Year'].dt.year\n",
    "\n",
    "# Split the data into training and testing sets\n",
    "X3_train = df[['Year_num']]\n",
    "y3_train = df['Growth_rate']\n",
    "\n",
    "# Fit a linear regression model to the data\n",
    "model = LinearRegression().fit(X3_train, y3_train)\n",
    "\n",
    "# Use the model to predict the placement for 2024\n",
    "growth_rate_2024 = model.predict([[2024]])\n",
    "\n",
    "# Print the predicted placement for 2024\n",
    "print(f\"Predicted Growth_rate for 2024: {int(growth_rate_2024)}\")\n",
    "\n",
    "\n",
    "\n",
    "# Accuracy \n",
    "\n",
    "from sklearn.metrics import mean_squared_error, r2_score\n",
    "\n",
    "# Predict the placements for the training data\n",
    "y_train_pred = model.predict(X3_train)\n",
    "\n",
    "\n",
    "\n",
    "# Calculate the MSE and R-squared for the training data\n",
    "mse = mean_squared_error(y3_train, y_train_pred)\n",
    "r2 = r2_score(y3_train, y_train_pred)\n",
    "\n",
    "\n",
    "print(f\"R-squared: {r2}\")\n"
   ]
  },
  {
   "cell_type": "code",
   "execution_count": null,
   "id": "2eaf38ad",
   "metadata": {},
   "outputs": [],
   "source": []
  },
  {
   "cell_type": "code",
   "execution_count": 155,
   "id": "3373478f",
   "metadata": {},
   "outputs": [
    {
     "name": "stdout",
     "output_type": "stream",
     "text": [
      "Predicted Growth_rate for 2024: 461\n",
      "R-squared: 0.7889995541829435\n"
     ]
    },
    {
     "name": "stderr",
     "output_type": "stream",
     "text": [
      "C:\\Users\\User\\anaconda3\\lib\\site-packages\\sklearn\\base.py:439: UserWarning: X does not have valid feature names, but LinearRegression was fitted with feature names\n",
      "  warnings.warn(\n"
     ]
    }
   ],
   "source": [
    "import pandas as pd\n",
    "import numpy as np\n",
    "from sklearn.linear_model import LinearRegression\n",
    "\n",
    "# Load the placement data into a Pandas dataframe\n",
    "df = pd.DataFrame({\n",
    "    'Year': ['01-01-2016','01-01-2017', '01-01-2018', '01-01-2019','01-01-2020','01-01-2021','01-01-2022'],\n",
    "    'Growth_rate':['93',' 137',' 85', '285','308','349','319']})\n",
    "\n",
    "# Convert the Year column to a datetime type\n",
    "df['Year'] = pd.to_datetime(df['Year'])\n",
    "\n",
    "# Extract the year from the datetime column and create a new column\n",
    "df['Year_num'] = df['Year'].dt.year\n",
    "\n",
    "# Split the data into training and testing sets\n",
    "X3_train = df[['Year_num']]\n",
    "y3_train = df['Growth_rate']\n",
    "\n",
    "# Fit a linear regression model to the data\n",
    "model = LinearRegression().fit(X3_train, y3_train)\n",
    "\n",
    "# Use the model to predict the placement for 2024\n",
    "growth_rate_2024 = model.predict([[2024]])\n",
    "\n",
    "# Print the predicted placement for 2024\n",
    "print(f\"Predicted Growth_rate for 2024: {int(growth_rate_2024)}\")\n",
    "\n",
    "\n",
    "\n",
    "# Accuracy \n",
    "\n",
    "from sklearn.metrics import mean_squared_error, r2_score\n",
    "\n",
    "# Predict the placements for the training data\n",
    "y_train_pred = model.predict(X3_train)\n",
    "\n",
    "\n",
    "\n",
    "# Calculate the MSE and R-squared for the training data\n",
    "mse = mean_squared_error(y3_train, y_train_pred)\n",
    "r2 = r2_score(y3_train, y_train_pred)\n",
    "\n",
    "\n",
    "print(f\"R-squared: {r2}\")\n"
   ]
  },
  {
   "cell_type": "code",
   "execution_count": null,
   "id": "47a6efa7",
   "metadata": {},
   "outputs": [],
   "source": []
  },
  {
   "cell_type": "code",
   "execution_count": 157,
   "id": "f7fea4fb",
   "metadata": {},
   "outputs": [
    {
     "name": "stdout",
     "output_type": "stream",
     "text": [
      "Predicted Growth_rate for 2024: 71\n",
      "R-squared: 0.13559826915840179\n"
     ]
    },
    {
     "name": "stderr",
     "output_type": "stream",
     "text": [
      "C:\\Users\\User\\anaconda3\\lib\\site-packages\\sklearn\\base.py:439: UserWarning: X does not have valid feature names, but LinearRegression was fitted with feature names\n",
      "  warnings.warn(\n"
     ]
    }
   ],
   "source": [
    "import pandas as pd\n",
    "import numpy as np\n",
    "from sklearn.linear_model import LinearRegression\n",
    "\n",
    "# Load the placement data into a Pandas dataframe\n",
    "df = pd.DataFrame({\n",
    "    'Year': ['01-01-2016','01-01-2017', '01-01-2018', '01-01-2019','01-01-2020','01-01-2021','01-01-2022'],\n",
    "    'Growth_rate':['55',' 42', '22', '73','81','53','59']})\n",
    "\n",
    "# Convert the Year column to a datetime type\n",
    "df['Year'] = pd.to_datetime(df['Year'])\n",
    "\n",
    "# Extract the year from the datetime column and create a new column\n",
    "df['Year_num'] = df['Year'].dt.year\n",
    "\n",
    "# Split the data into training and testing sets\n",
    "X3_train = df[['Year_num']]\n",
    "y3_train = df['Growth_rate']\n",
    "\n",
    "# Fit a linear regression model to the data\n",
    "model = LinearRegression().fit(X3_train, y3_train)\n",
    "\n",
    "# Use the model to predict the placement for 2024\n",
    "growth_rate_2024 = model.predict([[2024]])\n",
    "\n",
    "# Print the predicted placement for 2024\n",
    "print(f\"Predicted Growth_rate for 2024: {int(growth_rate_2024)}\")\n",
    "\n",
    "\n",
    "\n",
    "# Accuracy \n",
    "\n",
    "from sklearn.metrics import mean_squared_error, r2_score\n",
    "\n",
    "# Predict the placements for the training data\n",
    "y_train_pred = model.predict(X3_train)\n",
    "\n",
    "\n",
    "\n",
    "# Calculate the MSE and R-squared for the training data\n",
    "mse = mean_squared_error(y3_train, y_train_pred)\n",
    "r2 = r2_score(y3_train, y_train_pred)\n",
    "\n",
    "\n",
    "print(f\"R-squared: {r2}\")\n"
   ]
  },
  {
   "cell_type": "code",
   "execution_count": null,
   "id": "4c7dcc5f",
   "metadata": {},
   "outputs": [],
   "source": []
  },
  {
   "cell_type": "code",
   "execution_count": 159,
   "id": "84e27b87",
   "metadata": {},
   "outputs": [
    {
     "name": "stdout",
     "output_type": "stream",
     "text": [
      "Predicted Growth_rate for 2024: 218\n",
      "R-squared: 0.7017990812613286\n"
     ]
    },
    {
     "name": "stderr",
     "output_type": "stream",
     "text": [
      "C:\\Users\\User\\anaconda3\\lib\\site-packages\\sklearn\\base.py:439: UserWarning: X does not have valid feature names, but LinearRegression was fitted with feature names\n",
      "  warnings.warn(\n"
     ]
    }
   ],
   "source": [
    "import pandas as pd\n",
    "import numpy as np\n",
    "from sklearn.linear_model import LinearRegression\n",
    "\n",
    "# Load the placement data into a Pandas dataframe\n",
    "df = pd.DataFrame({\n",
    "    'Year': ['01-01-2016','01-01-2017', '01-01-2018', '01-01-2019','01-01-2020','01-01-2021','01-01-2022'],\n",
    "    'Growth_rate':['28', '66', '37', '162','144','133','160']})\n",
    "\n",
    "# Convert the Year column to a datetime type\n",
    "df['Year'] = pd.to_datetime(df['Year'])\n",
    "\n",
    "# Extract the year from the datetime column and create a new column\n",
    "df['Year_num'] = df['Year'].dt.year\n",
    "\n",
    "# Split the data into training and testing sets\n",
    "X3_train = df[['Year_num']]\n",
    "y3_train = df['Growth_rate']\n",
    "\n",
    "# Fit a linear regression model to the data\n",
    "model = LinearRegression().fit(X3_train, y3_train)\n",
    "\n",
    "# Use the model to predict the placement for 2024\n",
    "growth_rate_2024 = model.predict([[2024]])\n",
    "\n",
    "# Print the predicted placement for 2024\n",
    "print(f\"Predicted Growth_rate for 2024: {int(growth_rate_2024)}\")\n",
    "\n",
    "\n",
    "\n",
    "# Accuracy \n",
    "\n",
    "from sklearn.metrics import mean_squared_error, r2_score\n",
    "\n",
    "# Predict the placements for the training data\n",
    "y_train_pred = model.predict(X3_train)\n",
    "\n",
    "\n",
    "\n",
    "# Calculate the MSE and R-squared for the training data\n",
    "mse = mean_squared_error(y3_train, y_train_pred)\n",
    "r2 = r2_score(y3_train, y_train_pred)\n",
    "\n",
    "\n",
    "print(f\"R-squared: {r2}\")\n"
   ]
  },
  {
   "cell_type": "code",
   "execution_count": null,
   "id": "f58c6115",
   "metadata": {},
   "outputs": [],
   "source": []
  },
  {
   "cell_type": "code",
   "execution_count": 161,
   "id": "9041b20a",
   "metadata": {},
   "outputs": [
    {
     "name": "stdout",
     "output_type": "stream",
     "text": [
      "Predicted Growth_rate for 2024: 217\n",
      "R-squared: 0.642762369899196\n"
     ]
    },
    {
     "name": "stderr",
     "output_type": "stream",
     "text": [
      "C:\\Users\\User\\anaconda3\\lib\\site-packages\\sklearn\\base.py:439: UserWarning: X does not have valid feature names, but LinearRegression was fitted with feature names\n",
      "  warnings.warn(\n"
     ]
    }
   ],
   "source": [
    "import pandas as pd\n",
    "import numpy as np\n",
    "from sklearn.linear_model import LinearRegression\n",
    "\n",
    "# Load the placement data into a Pandas dataframe\n",
    "df = pd.DataFrame({\n",
    "    'Year': ['01-01-2016','01-01-2017', '01-01-2018', '01-01-2019','01-01-2020','01-01-2021','01-01-2022'],\n",
    "    'Growth_rate':['101', '78', '62', '140','175','181','161']})\n",
    "\n",
    "# Convert the Year column to a datetime type\n",
    "df['Year'] = pd.to_datetime(df['Year'])\n",
    "\n",
    "# Extract the year from the datetime column and create a new column\n",
    "df['Year_num'] = df['Year'].dt.year\n",
    "\n",
    "# Split the data into training and testing sets\n",
    "X3_train = df[['Year_num']]\n",
    "y3_train = df['Growth_rate']\n",
    "\n",
    "# Fit a linear regression model to the data\n",
    "model = LinearRegression().fit(X3_train, y3_train)\n",
    "\n",
    "# Use the model to predict the placement for 2024\n",
    "growth_rate_2024 = model.predict([[2024]])\n",
    "\n",
    "# Print the predicted placement for 2024\n",
    "print(f\"Predicted Growth_rate for 2024: {int(growth_rate_2024)}\")\n",
    "\n",
    "\n",
    "\n",
    "# Accuracy \n",
    "\n",
    "from sklearn.metrics import mean_squared_error, r2_score\n",
    "\n",
    "# Predict the placements for the training data\n",
    "y_train_pred = model.predict(X3_train)\n",
    "\n",
    "\n",
    "\n",
    "# Calculate the MSE and R-squared for the training data\n",
    "mse = mean_squared_error(y3_train, y_train_pred)\n",
    "r2 = r2_score(y3_train, y_train_pred)\n",
    "\n",
    "\n",
    "print(f\"R-squared: {r2}\")\n"
   ]
  },
  {
   "cell_type": "code",
   "execution_count": null,
   "id": "c3d8baa6",
   "metadata": {},
   "outputs": [],
   "source": []
  },
  {
   "cell_type": "code",
   "execution_count": 163,
   "id": "5d022e2d",
   "metadata": {},
   "outputs": [
    {
     "name": "stdout",
     "output_type": "stream",
     "text": [
      "Predicted Growth_rate for 2024: 21\n",
      "R-squared: 0.6308001893939051\n"
     ]
    },
    {
     "name": "stderr",
     "output_type": "stream",
     "text": [
      "C:\\Users\\User\\anaconda3\\lib\\site-packages\\sklearn\\base.py:439: UserWarning: X does not have valid feature names, but LinearRegression was fitted with feature names\n",
      "  warnings.warn(\n"
     ]
    }
   ],
   "source": [
    "import pandas as pd\n",
    "import numpy as np\n",
    "from sklearn.linear_model import LinearRegression\n",
    "\n",
    "# Load the placement data into a Pandas dataframe\n",
    "df = pd.DataFrame({\n",
    "    'Year': ['01-01-2016','01-01-2017', '01-01-2018', '01-01-2019','01-01-2020','01-01-2021','01-01-2022'],\n",
    "    'Growth_rate':['7', '2', '1', '6','11','11','22']})\n",
    "\n",
    "# Convert the Year column to a datetime type\n",
    "df['Year'] = pd.to_datetime(df['Year'])\n",
    "\n",
    "# Extract the year from the datetime column and create a new column\n",
    "df['Year_num'] = df['Year'].dt.year\n",
    "\n",
    "# Split the data into training and testing sets\n",
    "X3_train = df[['Year_num']]\n",
    "y3_train = df['Growth_rate']\n",
    "\n",
    "# Fit a linear regression model to the data\n",
    "model = LinearRegression().fit(X3_train, y3_train)\n",
    "\n",
    "# Use the model to predict the placement for 2024\n",
    "growth_rate_2024 = model.predict([[2024]])\n",
    "\n",
    "# Print the predicted placement for 2024\n",
    "print(f\"Predicted Growth_rate for 2024: {int(growth_rate_2024)}\")\n",
    "\n",
    "\n",
    "\n",
    "# Accuracy \n",
    "\n",
    "from sklearn.metrics import mean_squared_error, r2_score\n",
    "\n",
    "# Predict the placements for the training data\n",
    "y_train_pred = model.predict(X3_train)\n",
    "\n",
    "\n",
    "\n",
    "# Calculate the MSE and R-squared for the training data\n",
    "mse = mean_squared_error(y3_train, y_train_pred)\n",
    "r2 = r2_score(y3_train, y_train_pred)\n",
    "\n",
    "\n",
    "print(f\"R-squared: {r2}\")\n"
   ]
  },
  {
   "cell_type": "code",
   "execution_count": null,
   "id": "fbd3e339",
   "metadata": {},
   "outputs": [],
   "source": []
  },
  {
   "cell_type": "code",
   "execution_count": 165,
   "id": "f699a825",
   "metadata": {},
   "outputs": [
    {
     "name": "stdout",
     "output_type": "stream",
     "text": [
      "Predicted Growth_rate for 2024: 1976\n",
      "R-squared: 0.8450060779377867\n"
     ]
    },
    {
     "name": "stderr",
     "output_type": "stream",
     "text": [
      "C:\\Users\\User\\anaconda3\\lib\\site-packages\\sklearn\\base.py:439: UserWarning: X does not have valid feature names, but LinearRegression was fitted with feature names\n",
      "  warnings.warn(\n"
     ]
    }
   ],
   "source": [
    "import pandas as pd\n",
    "import numpy as np\n",
    "from sklearn.linear_model import LinearRegression\n",
    "\n",
    "# Load the placement data into a Pandas dataframe\n",
    "df = pd.DataFrame({\n",
    "    'Year': ['01-01-2016','01-01-2017', '01-01-2018', '01-01-2019','01-01-2020','01-01-2021','01-01-2022'],\n",
    "    'Growth_rate':['463', '521', '358', '1004','1378','1335','1517']})\n",
    "\n",
    "# Convert the Year column to a datetime type\n",
    "df['Year'] = pd.to_datetime(df['Year'])\n",
    "\n",
    "# Extract the year from the datetime column and create a new column\n",
    "df['Year_num'] = df['Year'].dt.year\n",
    "\n",
    "# Split the data into training and testing sets\n",
    "X3_train = df[['Year_num']]\n",
    "y3_train = df['Growth_rate']\n",
    "\n",
    "# Fit a linear regression model to the data\n",
    "model = LinearRegression().fit(X3_train, y3_train)\n",
    "\n",
    "# Use the model to predict the placement for 2024\n",
    "growth_rate_2024 = model.predict([[2024]])\n",
    "\n",
    "# Print the predicted placement for 2024\n",
    "print(f\"Predicted Growth_rate for 2024: {int(growth_rate_2024)}\")\n",
    "\n",
    "\n",
    "\n",
    "# Accuracy \n",
    "\n",
    "from sklearn.metrics import mean_squared_error, r2_score\n",
    "\n",
    "# Predict the placements for the training data\n",
    "y_train_pred = model.predict(X3_train)\n",
    "\n",
    "\n",
    "\n",
    "# Calculate the MSE and R-squared for the training data\n",
    "mse = mean_squared_error(y3_train, y_train_pred)\n",
    "r2 = r2_score(y3_train, y_train_pred)\n",
    "\n",
    "\n",
    "print(f\"R-squared: {r2}\")\n"
   ]
  },
  {
   "cell_type": "code",
   "execution_count": null,
   "id": "7c7708ce",
   "metadata": {},
   "outputs": [],
   "source": []
  },
  {
   "cell_type": "code",
   "execution_count": 166,
   "id": "d6bcfa28",
   "metadata": {},
   "outputs": [
    {
     "name": "stdout",
     "output_type": "stream",
     "text": [
      "Predicted Growth_rate for 2024: 1050\n",
      "R-squared: 0.7489471830622259\n"
     ]
    },
    {
     "name": "stderr",
     "output_type": "stream",
     "text": [
      "C:\\Users\\User\\anaconda3\\lib\\site-packages\\sklearn\\base.py:439: UserWarning: X does not have valid feature names, but LinearRegression was fitted with feature names\n",
      "  warnings.warn(\n"
     ]
    }
   ],
   "source": [
    "import pandas as pd\n",
    "import numpy as np\n",
    "from sklearn.linear_model import LinearRegression\n",
    "\n",
    "# Load the placement data into a Pandas dataframe\n",
    "df = pd.DataFrame({\n",
    "    'Year': ['01-01-2016','01-01-2017', '01-01-2018', '01-01-2019','01-01-2020','01-01-2021','01-01-2022'],\n",
    "    'Growth_rate':['185', '386', '293', '824','840','767','826']})\n",
    "\n",
    "# Convert the Year column to a datetime type\n",
    "df['Year'] = pd.to_datetime(df['Year'])\n",
    "\n",
    "# Extract the year from the datetime column and create a new column\n",
    "df['Year_num'] = df['Year'].dt.year\n",
    "\n",
    "# Split the data into training and testing sets\n",
    "X3_train = df[['Year_num']]\n",
    "y3_train = df['Growth_rate']\n",
    "\n",
    "# Fit a linear regression model to the data\n",
    "model = LinearRegression().fit(X3_train, y3_train)\n",
    "\n",
    "# Use the model to predict the placement for 2024\n",
    "growth_rate_2024 = model.predict([[2023]])\n",
    "\n",
    "# Print the predicted placement for 2024\n",
    "print(f\"Predicted Growth_rate for 2024: {int(growth_rate_2024)}\")\n",
    "\n",
    "\n",
    "\n",
    "# Accuracy \n",
    "\n",
    "from sklearn.metrics import mean_squared_error, r2_score\n",
    "\n",
    "# Predict the placements for the training data\n",
    "y_train_pred = model.predict(X3_train)\n",
    "\n",
    "\n",
    "\n",
    "# Calculate the MSE and R-squared for the training data\n",
    "mse = mean_squared_error(y3_train, y_train_pred)\n",
    "r2 = r2_score(y3_train, y_train_pred)\n",
    "\n",
    "\n",
    "print(f\"R-squared: {r2}\")\n"
   ]
  },
  {
   "cell_type": "code",
   "execution_count": null,
   "id": "57c021cb",
   "metadata": {},
   "outputs": [],
   "source": []
  },
  {
   "cell_type": "code",
   "execution_count": 168,
   "id": "41824a56",
   "metadata": {},
   "outputs": [
    {
     "name": "stdout",
     "output_type": "stream",
     "text": [
      "Predicted Growth_rate for 2024: 41\n",
      "R-squared: 0.2973670624677376\n"
     ]
    },
    {
     "name": "stderr",
     "output_type": "stream",
     "text": [
      "C:\\Users\\User\\anaconda3\\lib\\site-packages\\sklearn\\base.py:439: UserWarning: X does not have valid feature names, but LinearRegression was fitted with feature names\n",
      "  warnings.warn(\n"
     ]
    }
   ],
   "source": [
    "import pandas as pd\n",
    "import numpy as np\n",
    "from sklearn.linear_model import LinearRegression\n",
    "\n",
    "# Load the placement data into a Pandas dataframe\n",
    "df = pd.DataFrame({\n",
    "    'Year': ['01-01-2016','01-01-2017', '01-01-2018', '01-01-2019','01-01-2020','01-01-2021','01-01-2022'],\n",
    "    'Growth_rate':['16', '18', '5', '25','49','26','28']})\n",
    "\n",
    "# Convert the Year column to a datetime type\n",
    "df['Year'] = pd.to_datetime(df['Year'])\n",
    "\n",
    "# Extract the year from the datetime column and create a new column\n",
    "df['Year_num'] = df['Year'].dt.year\n",
    "\n",
    "# Split the data into training and testing sets\n",
    "X3_train = df[['Year_num']]\n",
    "y3_train = df['Growth_rate']\n",
    "\n",
    "# Fit a linear regression model to the data\n",
    "model = LinearRegression().fit(X3_train, y3_train)\n",
    "\n",
    "# Use the model to predict the placement for 2024\n",
    "growth_rate_2024 = model.predict([[2024]])\n",
    "\n",
    "# Print the predicted placement for 2024\n",
    "print(f\"Predicted Growth_rate for 2024: {int(growth_rate_2024)}\")\n",
    "\n",
    "\n",
    "\n",
    "# Accuracy \n",
    "\n",
    "from sklearn.metrics import mean_squared_error, r2_score\n",
    "\n",
    "# Predict the placements for the training data\n",
    "y_train_pred = model.predict(X3_train)\n",
    "\n",
    "\n",
    "\n",
    "# Calculate the MSE and R-squared for the training data\n",
    "mse = mean_squared_error(y3_train, y_train_pred)\n",
    "r2 = r2_score(y3_train, y_train_pred)\n",
    "\n",
    "\n",
    "print(f\"R-squared: {r2}\")\n"
   ]
  },
  {
   "cell_type": "code",
   "execution_count": null,
   "id": "5ffa3bb7",
   "metadata": {},
   "outputs": [],
   "source": []
  },
  {
   "cell_type": "code",
   "execution_count": 170,
   "id": "5ae1edad",
   "metadata": {},
   "outputs": [
    {
     "name": "stdout",
     "output_type": "stream",
     "text": [
      "Predicted Growth_rate for 2024: 154\n",
      "R-squared: 0.8159151504497013\n"
     ]
    },
    {
     "name": "stderr",
     "output_type": "stream",
     "text": [
      "C:\\Users\\User\\anaconda3\\lib\\site-packages\\sklearn\\base.py:439: UserWarning: X does not have valid feature names, but LinearRegression was fitted with feature names\n",
      "  warnings.warn(\n"
     ]
    }
   ],
   "source": [
    "import pandas as pd\n",
    "import numpy as np\n",
    "from sklearn.linear_model import LinearRegression\n",
    "\n",
    "# Load the placement data into a Pandas dataframe\n",
    "df = pd.DataFrame({\n",
    "    'Year': ['01-01-2016','01-01-2017', '01-01-2018', '01-01-2019','01-01-2020','01-01-2021','01-01-2022'],\n",
    "    'Growth_rate':['37', '40', '20', '72','99','94','132']})\n",
    "\n",
    "# Convert the Year column to a datetime type\n",
    "df['Year'] = pd.to_datetime(df['Year'])\n",
    "\n",
    "# Extract the year from the datetime column and create a new column\n",
    "df['Year_num'] = df['Year'].dt.year\n",
    "\n",
    "# Split the data into training and testing sets\n",
    "X3_train = df[['Year_num']]\n",
    "y3_train = df['Growth_rate']\n",
    "\n",
    "# Fit a linear regression model to the data\n",
    "model = LinearRegression().fit(X3_train, y3_train)\n",
    "\n",
    "# Use the model to predict the placement for 2024\n",
    "growth_rate_2024 = model.predict([[2024]])\n",
    "\n",
    "# Print the predicted placement for 2024\n",
    "print(f\"Predicted Growth_rate for 2024: {int(growth_rate_2024)}\")\n",
    "\n",
    "\n",
    "\n",
    "# Accuracy \n",
    "\n",
    "from sklearn.metrics import mean_squared_error, r2_score\n",
    "\n",
    "# Predict the placements for the training data\n",
    "y_train_pred = model.predict(X3_train)\n",
    "\n",
    "\n",
    "\n",
    "# Calculate the MSE and R-squared for the training data\n",
    "mse = mean_squared_error(y3_train, y_train_pred)\n",
    "r2 = r2_score(y3_train, y_train_pred)\n",
    "\n",
    "\n",
    "print(f\"R-squared: {r2}\")\n"
   ]
  },
  {
   "cell_type": "code",
   "execution_count": null,
   "id": "5b2bbcfd",
   "metadata": {},
   "outputs": [],
   "source": []
  },
  {
   "cell_type": "code",
   "execution_count": 172,
   "id": "df0aceb5",
   "metadata": {},
   "outputs": [
    {
     "name": "stdout",
     "output_type": "stream",
     "text": [
      "Predicted Growth_rate for 2024: 284\n",
      "R-squared: 0.5379605276519692\n"
     ]
    },
    {
     "name": "stderr",
     "output_type": "stream",
     "text": [
      "C:\\Users\\User\\anaconda3\\lib\\site-packages\\sklearn\\base.py:439: UserWarning: X does not have valid feature names, but LinearRegression was fitted with feature names\n",
      "  warnings.warn(\n"
     ]
    }
   ],
   "source": [
    "import pandas as pd\n",
    "import numpy as np\n",
    "from sklearn.linear_model import LinearRegression\n",
    "\n",
    "# Load the placement data into a Pandas dataframe\n",
    "df = pd.DataFrame({\n",
    "    'Year': ['01-01-2016','01-01-2017', '01-01-2018', '01-01-2019','01-01-2020','01-01-2021','01-01-2022'],\n",
    "    'Growth_rate':['130', '129', '57', '187','206','266','206']})\n",
    "\n",
    "# Convert the Year column to a datetime type\n",
    "df['Year'] = pd.to_datetime(df['Year'])\n",
    "\n",
    "# Extract the year from the datetime column and create a new column\n",
    "df['Year_num'] = df['Year'].dt.year\n",
    "\n",
    "# Split the data into training and testing sets\n",
    "X3_train = df[['Year_num']]\n",
    "y3_train = df['Growth_rate']\n",
    "\n",
    "# Fit a linear regression model to the data\n",
    "model = LinearRegression().fit(X3_train, y3_train)\n",
    "\n",
    "# Use the model to predict the placement for 2024\n",
    "growth_rate_2024 = model.predict([[2024]])\n",
    "\n",
    "# Print the predicted placement for 2024\n",
    "print(f\"Predicted Growth_rate for 2024: {int(growth_rate_2024)}\")\n",
    "\n",
    "\n",
    "\n",
    "# Accuracy \n",
    "\n",
    "from sklearn.metrics import mean_squared_error, r2_score\n",
    "\n",
    "# Predict the placements for the training data\n",
    "y_train_pred = model.predict(X3_train)\n",
    "\n",
    "\n",
    "\n",
    "# Calculate the MSE and R-squared for the training data\n",
    "mse = mean_squared_error(y3_train, y_train_pred)\n",
    "r2 = r2_score(y3_train, y_train_pred)\n",
    "\n",
    "\n",
    "print(f\"R-squared: {r2}\")\n"
   ]
  },
  {
   "cell_type": "code",
   "execution_count": null,
   "id": "bdc46959",
   "metadata": {},
   "outputs": [],
   "source": []
  },
  {
   "cell_type": "code",
   "execution_count": 174,
   "id": "d5b42565",
   "metadata": {},
   "outputs": [
    {
     "name": "stdout",
     "output_type": "stream",
     "text": [
      "Predicted Growth_rate for 2024: 172\n",
      "R-squared: 0.2492036447144247\n"
     ]
    },
    {
     "name": "stderr",
     "output_type": "stream",
     "text": [
      "C:\\Users\\User\\anaconda3\\lib\\site-packages\\sklearn\\base.py:439: UserWarning: X does not have valid feature names, but LinearRegression was fitted with feature names\n",
      "  warnings.warn(\n"
     ]
    }
   ],
   "source": [
    "import pandas as pd\n",
    "import numpy as np\n",
    "from sklearn.linear_model import LinearRegression\n",
    "\n",
    "# Load the placement data into a Pandas dataframe\n",
    "df = pd.DataFrame({\n",
    "    'Year': ['01-01-2016','01-01-2017', '01-01-2018', '01-01-2019','01-01-2020','01-01-2021','01-01-2022'],\n",
    "    'Growth_rate':['105', '148', '71', '166','115','146','169']})\n",
    "\n",
    "# Convert the Year column to a datetime type\n",
    "df['Year'] = pd.to_datetime(df['Year'])\n",
    "\n",
    "# Extract the year from the datetime column and create a new column\n",
    "df['Year_num'] = df['Year'].dt.year\n",
    "\n",
    "# Split the data into training and testing sets\n",
    "X3_train = df[['Year_num']]\n",
    "y3_train = df['Growth_rate']\n",
    "\n",
    "# Fit a linear regression model to the data\n",
    "model = LinearRegression().fit(X3_train, y3_train)\n",
    "\n",
    "# Use the model to predict the placement for 2024\n",
    "growth_rate_2024 = model.predict([[2024]])\n",
    "\n",
    "# Print the predicted placement for 2024\n",
    "print(f\"Predicted Growth_rate for 2024: {int(growth_rate_2024)}\")\n",
    "\n",
    "\n",
    "\n",
    "# Accuracy \n",
    "\n",
    "from sklearn.metrics import mean_squared_error, r2_score\n",
    "\n",
    "# Predict the placements for the training data\n",
    "y_train_pred = model.predict(X3_train)\n",
    "\n",
    "\n",
    "\n",
    "# Calculate the MSE and R-squared for the training data\n",
    "mse = mean_squared_error(y3_train, y_train_pred)\n",
    "r2 = r2_score(y3_train, y_train_pred)\n",
    "\n",
    "\n",
    "print(f\"R-squared: {r2}\")\n"
   ]
  },
  {
   "cell_type": "code",
   "execution_count": null,
   "id": "6bdc1ef1",
   "metadata": {},
   "outputs": [],
   "source": []
  },
  {
   "cell_type": "code",
   "execution_count": 176,
   "id": "f40fe8fb",
   "metadata": {},
   "outputs": [
    {
     "name": "stdout",
     "output_type": "stream",
     "text": [
      "Predicted Growth_rate for 2024: 1232\n",
      "R-squared: 0.7420252471634357\n"
     ]
    },
    {
     "name": "stderr",
     "output_type": "stream",
     "text": [
      "C:\\Users\\User\\anaconda3\\lib\\site-packages\\sklearn\\base.py:439: UserWarning: X does not have valid feature names, but LinearRegression was fitted with feature names\n",
      "  warnings.warn(\n"
     ]
    }
   ],
   "source": [
    "import pandas as pd\n",
    "import numpy as np\n",
    "from sklearn.linear_model import LinearRegression\n",
    "\n",
    "# Load the placement data into a Pandas dataframe\n",
    "df = pd.DataFrame({\n",
    "    'Year': ['01-01-2016','01-01-2017', '01-01-2018', '01-01-2019','01-01-2020','01-01-2021','01-01-2022'],\n",
    "    'Growth_rate':['334', '362', '232', '802','906','844','916']})\n",
    "\n",
    "# Convert the Year column to a datetime type\n",
    "df['Year'] = pd.to_datetime(df['Year'])\n",
    "\n",
    "# Extract the year from the datetime column and create a new column\n",
    "df['Year_num'] = df['Year'].dt.year\n",
    "\n",
    "# Split the data into training and testing sets\n",
    "X3_train = df[['Year_num']]\n",
    "y3_train = df['Growth_rate']\n",
    "\n",
    "# Fit a linear regression model to the data\n",
    "model = LinearRegression().fit(X3_train, y3_train)\n",
    "\n",
    "# Use the model to predict the placement for 2024\n",
    "growth_rate_2024 = model.predict([[2024]])\n",
    "\n",
    "# Print the predicted placement for 2024\n",
    "print(f\"Predicted Growth_rate for 2024: {int(growth_rate_2024)}\")\n",
    "\n",
    "\n",
    "\n",
    "# Accuracy \n",
    "\n",
    "from sklearn.metrics import mean_squared_error, r2_score\n",
    "\n",
    "# Predict the placements for the training data\n",
    "y_train_pred = model.predict(X3_train)\n",
    "\n",
    "\n",
    "\n",
    "# Calculate the MSE and R-squared for the training data\n",
    "mse = mean_squared_error(y3_train, y_train_pred)\n",
    "r2 = r2_score(y3_train, y_train_pred)\n",
    "\n",
    "\n",
    "print(f\"R-squared: {r2}\")\n"
   ]
  },
  {
   "cell_type": "code",
   "execution_count": null,
   "id": "5d26ba00",
   "metadata": {},
   "outputs": [],
   "source": []
  },
  {
   "cell_type": "code",
   "execution_count": 178,
   "id": "05ec6f45",
   "metadata": {},
   "outputs": [
    {
     "name": "stdout",
     "output_type": "stream",
     "text": [
      "Predicted Growth_rate for 2024: 303\n",
      "R-squared: 0.4550003605740284\n"
     ]
    },
    {
     "name": "stderr",
     "output_type": "stream",
     "text": [
      "C:\\Users\\User\\anaconda3\\lib\\site-packages\\sklearn\\base.py:439: UserWarning: X does not have valid feature names, but LinearRegression was fitted with feature names\n",
      "  warnings.warn(\n"
     ]
    }
   ],
   "source": [
    "import pandas as pd\n",
    "import numpy as np\n",
    "from sklearn.linear_model import LinearRegression\n",
    "\n",
    "# Load the placement data into a Pandas dataframe\n",
    "df = pd.DataFrame({\n",
    "    'Year': ['01-01-2016','01-01-2017', '01-01-2018', '01-01-2019','01-01-2020','01-01-2021','01-01-2022'],\n",
    "    'Growth_rate':['124', '130', '62', '257','254','242','210']})\n",
    "\n",
    "# Convert the Year column to a datetime type\n",
    "df['Year'] = pd.to_datetime(df['Year'])\n",
    "\n",
    "# Extract the year from the datetime column and create a new column\n",
    "df['Year_num'] = df['Year'].dt.year\n",
    "\n",
    "# Split the data into training and testing sets\n",
    "X3_train = df[['Year_num']]\n",
    "y3_train = df['Growth_rate']\n",
    "\n",
    "# Fit a linear regression model to the data\n",
    "model = LinearRegression().fit(X3_train, y3_train)\n",
    "\n",
    "# Use the model to predict the placement for 2024\n",
    "growth_rate_2024 = model.predict([[2024]])\n",
    "\n",
    "# Print the predicted placement for 2024\n",
    "print(f\"Predicted Growth_rate for 2024: {int(growth_rate_2024)}\")\n",
    "\n",
    "\n",
    "\n",
    "# Accuracy \n",
    "\n",
    "from sklearn.metrics import mean_squared_error, r2_score\n",
    "\n",
    "# Predict the placements for the training data\n",
    "y_train_pred = model.predict(X3_train)\n",
    "\n",
    "\n",
    "\n",
    "# Calculate the MSE and R-squared for the training data\n",
    "mse = mean_squared_error(y3_train, y_train_pred)\n",
    "r2 = r2_score(y3_train, y_train_pred)\n",
    "\n",
    "\n",
    "print(f\"R-squared: {r2}\")\n"
   ]
  },
  {
   "cell_type": "code",
   "execution_count": null,
   "id": "d1d08a07",
   "metadata": {},
   "outputs": [],
   "source": []
  },
  {
   "cell_type": "code",
   "execution_count": 180,
   "id": "be9fcbcb",
   "metadata": {},
   "outputs": [
    {
     "name": "stdout",
     "output_type": "stream",
     "text": [
      "Predicted Growth_rate for 2024: 228\n",
      "R-squared: 0.18672770248032877\n"
     ]
    },
    {
     "name": "stderr",
     "output_type": "stream",
     "text": [
      "C:\\Users\\User\\anaconda3\\lib\\site-packages\\sklearn\\base.py:439: UserWarning: X does not have valid feature names, but LinearRegression was fitted with feature names\n",
      "  warnings.warn(\n"
     ]
    }
   ],
   "source": [
    "import pandas as pd\n",
    "import numpy as np\n",
    "from sklearn.linear_model import LinearRegression\n",
    "\n",
    "# Load the placement data into a Pandas dataframe\n",
    "df = pd.DataFrame({\n",
    "    'Year': ['01-01-2016','01-01-2017', '01-01-2018', '01-01-2019','01-01-2020','01-01-2021','01-01-2022'],\n",
    "    'Growth_rate':['136','138','94','255','231','184','165']})\n",
    "\n",
    "# Convert the Year column to a datetime type\n",
    "df['Year'] = pd.to_datetime(df['Year'])\n",
    "\n",
    "# Extract the year from the datetime column and create a new column\n",
    "df['Year_num'] = df['Year'].dt.year\n",
    "\n",
    "# Split the data into training and testing sets\n",
    "X3_train = df[['Year_num']]\n",
    "y3_train = df['Growth_rate']\n",
    "\n",
    "# Fit a linear regression model to the data\n",
    "model = LinearRegression().fit(X3_train, y3_train)\n",
    "\n",
    "# Use the model to predict the placement for 2024\n",
    "growth_rate_2024 = model.predict([[2024]])\n",
    "\n",
    "# Print the predicted placement for 2024\n",
    "print(f\"Predicted Growth_rate for 2024: {int(growth_rate_2024)}\")\n",
    "\n",
    "\n",
    "\n",
    "# Accuracy \n",
    "\n",
    "from sklearn.metrics import mean_squared_error, r2_score\n",
    "\n",
    "# Predict the placements for the training data\n",
    "y_train_pred = model.predict(X3_train)\n",
    "\n",
    "\n",
    "\n",
    "# Calculate the MSE and R-squared for the training data\n",
    "mse = mean_squared_error(y3_train, y_train_pred)\n",
    "r2 = r2_score(y3_train, y_train_pred)\n",
    "\n",
    "\n",
    "print(f\"R-squared: {r2}\")\n"
   ]
  },
  {
   "cell_type": "code",
   "execution_count": null,
   "id": "56e73bd9",
   "metadata": {},
   "outputs": [],
   "source": []
  },
  {
   "cell_type": "code",
   "execution_count": 182,
   "id": "96ff038c",
   "metadata": {},
   "outputs": [
    {
     "name": "stdout",
     "output_type": "stream",
     "text": [
      "Predicted Growth_rate for 2024: 1576\n",
      "R-squared: 0.49265327311446505\n"
     ]
    },
    {
     "name": "stderr",
     "output_type": "stream",
     "text": [
      "C:\\Users\\User\\anaconda3\\lib\\site-packages\\sklearn\\base.py:439: UserWarning: X does not have valid feature names, but LinearRegression was fitted with feature names\n",
      "  warnings.warn(\n"
     ]
    }
   ],
   "source": [
    "import pandas as pd\n",
    "import numpy as np\n",
    "from sklearn.linear_model import LinearRegression\n",
    "\n",
    "# Load the placement data into a Pandas dataframe\n",
    "df = pd.DataFrame({\n",
    "    'Year': ['01-01-2016','01-01-2017', '01-01-2018', '01-01-2019','01-01-2020','01-01-2021','01-01-2022'],\n",
    "    'Growth_rate':['7755','8170','2559','4890','4686','3863','3432']})\n",
    "\n",
    "# Convert the Year column to a datetime type\n",
    "df['Year'] = pd.to_datetime(df['Year'])\n",
    "\n",
    "# Extract the year from the datetime column and create a new column\n",
    "df['Year_num'] = df['Year'].dt.year\n",
    "\n",
    "# Split the data into training and testing sets\n",
    "X3_train = df[['Year_num']]\n",
    "y3_train = df['Growth_rate']\n",
    "\n",
    "# Fit a linear regression model to the data\n",
    "model = LinearRegression().fit(X3_train, y3_train)\n",
    "\n",
    "# Use the model to predict the placement for 2024\n",
    "growth_rate_2024 = model.predict([[2024]])\n",
    "\n",
    "# Print the predicted placement for 2024\n",
    "print(f\"Predicted Growth_rate for 2024: {int(growth_rate_2024)}\")\n",
    "\n",
    "\n",
    "\n",
    "# Accuracy \n",
    "\n",
    "from sklearn.metrics import mean_squared_error, r2_score\n",
    "\n",
    "# Predict the placements for the training data\n",
    "y_train_pred = model.predict(X3_train)\n",
    "\n",
    "\n",
    "\n",
    "# Calculate the MSE and R-squared for the training data\n",
    "mse = mean_squared_error(y3_train, y_train_pred)\n",
    "r2 = r2_score(y3_train, y_train_pred)\n",
    "\n",
    "\n",
    "print(f\"R-squared: {r2}\")\n"
   ]
  },
  {
   "cell_type": "code",
   "execution_count": null,
   "id": "74c0e977",
   "metadata": {},
   "outputs": [],
   "source": []
  },
  {
   "cell_type": "code",
   "execution_count": 184,
   "id": "78c56375",
   "metadata": {},
   "outputs": [
    {
     "name": "stdout",
     "output_type": "stream",
     "text": [
      "Predicted Growth_rate for 2024: 726\n",
      "R-squared: 0.34433360966808135\n"
     ]
    },
    {
     "name": "stderr",
     "output_type": "stream",
     "text": [
      "C:\\Users\\User\\anaconda3\\lib\\site-packages\\sklearn\\base.py:439: UserWarning: X does not have valid feature names, but LinearRegression was fitted with feature names\n",
      "  warnings.warn(\n"
     ]
    }
   ],
   "source": [
    "import pandas as pd\n",
    "import numpy as np\n",
    "from sklearn.linear_model import LinearRegression\n",
    "\n",
    "# Load the placement data into a Pandas dataframe\n",
    "df = pd.DataFrame({\n",
    "    'Year': ['01-01-2016','01-01-2017', '01-01-2018', '01-01-2019','01-01-2020','01-01-2021','01-01-2022'],\n",
    "    'Growth_rate':['426','503','243','690','545','597','646']})\n",
    "\n",
    "# Convert the Year column to a datetime type\n",
    "df['Year'] = pd.to_datetime(df['Year'])\n",
    "\n",
    "# Extract the year from the datetime column and create a new column\n",
    "df['Year_num'] = df['Year'].dt.year\n",
    "\n",
    "# Split the data into training and testing sets\n",
    "X3_train = df[['Year_num']]\n",
    "y3_train = df['Growth_rate']\n",
    "\n",
    "# Fit a linear regression model to the data\n",
    "model = LinearRegression().fit(X3_train, y3_train)\n",
    "\n",
    "# Use the model to predict the placement for 2024\n",
    "growth_rate_2024 = model.predict([[2024]])\n",
    "\n",
    "# Print the predicted placement for 2024\n",
    "print(f\"Predicted Growth_rate for 2024: {int(growth_rate_2024)}\")\n",
    "\n",
    "\n",
    "\n",
    "# Accuracy \n",
    "\n",
    "from sklearn.metrics import mean_squared_error, r2_score\n",
    "\n",
    "# Predict the placements for the training data\n",
    "y_train_pred = model.predict(X3_train)\n",
    "\n",
    "\n",
    "\n",
    "# Calculate the MSE and R-squared for the training data\n",
    "mse = mean_squared_error(y3_train, y_train_pred)\n",
    "r2 = r2_score(y3_train, y_train_pred)\n",
    "\n",
    "\n",
    "print(f\"R-squared: {r2}\")\n"
   ]
  },
  {
   "cell_type": "code",
   "execution_count": null,
   "id": "6754846f",
   "metadata": {},
   "outputs": [],
   "source": []
  },
  {
   "cell_type": "code",
   "execution_count": 187,
   "id": "ee483403",
   "metadata": {},
   "outputs": [
    {
     "name": "stdout",
     "output_type": "stream",
     "text": [
      "Predicted Growth_rate for 2024: 218\n",
      "R-squared: 0.26259125094241653\n"
     ]
    },
    {
     "name": "stderr",
     "output_type": "stream",
     "text": [
      "C:\\Users\\User\\anaconda3\\lib\\site-packages\\sklearn\\base.py:439: UserWarning: X does not have valid feature names, but LinearRegression was fitted with feature names\n",
      "  warnings.warn(\n"
     ]
    }
   ],
   "source": [
    "import pandas as pd\n",
    "import numpy as np\n",
    "from sklearn.linear_model import LinearRegression\n",
    "\n",
    "# Load the placement data into a Pandas dataframe\n",
    "df = pd.DataFrame({\n",
    "    'Year': ['01-01-2016','01-01-2017', '01-01-2018', '01-01-2019','01-01-2020','01-01-2021','01-01-2022'],\n",
    "    'Growth_rate':['150','130','70','184','225','148','199']})\n",
    "\n",
    "# Convert the Year column to a datetime type\n",
    "df['Year'] = pd.to_datetime(df['Year'])\n",
    "\n",
    "# Extract the year from the datetime column and create a new column\n",
    "df['Year_num'] = df['Year'].dt.year\n",
    "\n",
    "# Split the data into training and testing sets\n",
    "X3_train = df[['Year_num']]\n",
    "y3_train = df['Growth_rate']\n",
    "\n",
    "# Fit a linear regression model to the data\n",
    "model = LinearRegression().fit(X3_train, y3_train)\n",
    "\n",
    "# Use the model to predict the placement for 2024\n",
    "growth_rate_2024 = model.predict([[2024]])\n",
    "\n",
    "# Print the predicted placement for 2024\n",
    "print(f\"Predicted Growth_rate for 2024: {int(growth_rate_2024)}\")\n",
    "\n",
    "\n",
    "\n",
    "# Accuracy \n",
    "\n",
    "from sklearn.metrics import mean_squared_error, r2_score\n",
    "\n",
    "# Predict the placements for the training data\n",
    "y_train_pred = model.predict(X3_train)\n",
    "\n",
    "\n",
    "\n",
    "# Calculate the MSE and R-squared for the training data\n",
    "mse = mean_squared_error(y3_train, y_train_pred)\n",
    "r2 = r2_score(y3_train, y_train_pred)\n",
    "\n",
    "\n",
    "print(f\"R-squared: {r2}\")\n"
   ]
  },
  {
   "cell_type": "code",
   "execution_count": null,
   "id": "77e0cffd",
   "metadata": {},
   "outputs": [],
   "source": []
  },
  {
   "cell_type": "code",
   "execution_count": 189,
   "id": "85529507",
   "metadata": {},
   "outputs": [
    {
     "name": "stdout",
     "output_type": "stream",
     "text": [
      "Predicted Growth_rate for 2024: 553\n",
      "R-squared: 0.6326733269138456\n"
     ]
    },
    {
     "name": "stderr",
     "output_type": "stream",
     "text": [
      "C:\\Users\\User\\anaconda3\\lib\\site-packages\\sklearn\\base.py:439: UserWarning: X does not have valid feature names, but LinearRegression was fitted with feature names\n",
      "  warnings.warn(\n"
     ]
    }
   ],
   "source": [
    "import pandas as pd\n",
    "import numpy as np\n",
    "from sklearn.linear_model import LinearRegression\n",
    "\n",
    "# Load the placement data into a Pandas dataframe\n",
    "df = pd.DataFrame({\n",
    "    'Year': ['01-01-2016','01-01-2017', '01-01-2018', '01-01-2019','01-01-2020','01-01-2021','01-01-2022'],\n",
    "    'Growth_rate':['169','189','93','431','371','367','441']})\n",
    "\n",
    "# Convert the Year column to a datetime type\n",
    "df['Year'] = pd.to_datetime(df['Year'])\n",
    "\n",
    "# Extract the year from the datetime column and create a new column\n",
    "df['Year_num'] = df['Year'].dt.year\n",
    "\n",
    "# Split the data into training and testing sets\n",
    "X3_train = df[['Year_num']]\n",
    "y3_train = df['Growth_rate']\n",
    "\n",
    "# Fit a linear regression model to the data\n",
    "model = LinearRegression().fit(X3_train, y3_train)\n",
    "\n",
    "# Use the model to predict the placement for 2024\n",
    "growth_rate_2024 = model.predict([[2024]])\n",
    "\n",
    "# Print the predicted placement for 2024\n",
    "print(f\"Predicted Growth_rate for 2024: {int(growth_rate_2024)}\")\n",
    "\n",
    "\n",
    "\n",
    "# Accuracy \n",
    "\n",
    "from sklearn.metrics import mean_squared_error, r2_score\n",
    "\n",
    "# Predict the placements for the training data\n",
    "y_train_pred = model.predict(X3_train)\n",
    "\n",
    "\n",
    "\n",
    "# Calculate the MSE and R-squared for the training data\n",
    "mse = mean_squared_error(y3_train, y_train_pred)\n",
    "r2 = r2_score(y3_train, y_train_pred)\n",
    "\n",
    "\n",
    "print(f\"R-squared: {r2}\")\n"
   ]
  },
  {
   "cell_type": "code",
   "execution_count": null,
   "id": "435828dc",
   "metadata": {},
   "outputs": [],
   "source": []
  },
  {
   "cell_type": "code",
   "execution_count": 191,
   "id": "4681a0c1",
   "metadata": {},
   "outputs": [
    {
     "name": "stdout",
     "output_type": "stream",
     "text": [
      "Predicted Growth_rate for 2024: 382\n",
      "R-squared: 0.3442079637485487\n"
     ]
    },
    {
     "name": "stderr",
     "output_type": "stream",
     "text": [
      "C:\\Users\\User\\anaconda3\\lib\\site-packages\\sklearn\\base.py:439: UserWarning: X does not have valid feature names, but LinearRegression was fitted with feature names\n",
      "  warnings.warn(\n"
     ]
    }
   ],
   "source": [
    "import pandas as pd\n",
    "import numpy as np\n",
    "from sklearn.linear_model import LinearRegression\n",
    "\n",
    "# Load the placement data into a Pandas dataframe\n",
    "df = pd.DataFrame({\n",
    "    'Year': ['01-01-2016','01-01-2017', '01-01-2018', '01-01-2019','01-01-2020','01-01-2021','01-01-2022'],\n",
    "    'Growth_rate':['286','247','196','254','386','359','317']})\n",
    "\n",
    "# Convert the Year column to a datetime type\n",
    "df['Year'] = pd.to_datetime(df['Year'])\n",
    "\n",
    "# Extract the year from the datetime column and create a new column\n",
    "df['Year_num'] = df['Year'].dt.year\n",
    "\n",
    "# Split the data into training and testing sets\n",
    "X3_train = df[['Year_num']]\n",
    "y3_train = df['Growth_rate']\n",
    "\n",
    "# Fit a linear regression model to the data\n",
    "model = LinearRegression().fit(X3_train, y3_train)\n",
    "\n",
    "# Use the model to predict the placement for 2024\n",
    "growth_rate_2024 = model.predict([[2024]])\n",
    "\n",
    "# Print the predicted placement for 2024\n",
    "print(f\"Predicted Growth_rate for 2024: {int(growth_rate_2024)}\")\n",
    "\n",
    "\n",
    "\n",
    "# Accuracy \n",
    "\n",
    "from sklearn.metrics import mean_squared_error, r2_score\n",
    "\n",
    "# Predict the placements for the training data\n",
    "y_train_pred = model.predict(X3_train)\n",
    "\n",
    "\n",
    "\n",
    "# Calculate the MSE and R-squared for the training data\n",
    "mse = mean_squared_error(y3_train, y_train_pred)\n",
    "r2 = r2_score(y3_train, y_train_pred)\n",
    "\n",
    "\n",
    "print(f\"R-squared: {r2}\")\n"
   ]
  },
  {
   "cell_type": "code",
   "execution_count": null,
   "id": "1afeb936",
   "metadata": {},
   "outputs": [],
   "source": []
  },
  {
   "cell_type": "code",
   "execution_count": 193,
   "id": "dcd7b5f1",
   "metadata": {},
   "outputs": [
    {
     "name": "stdout",
     "output_type": "stream",
     "text": [
      "Predicted Growth_rate for 2024: 33\n",
      "R-squared: 0.42182507987218654\n"
     ]
    },
    {
     "name": "stderr",
     "output_type": "stream",
     "text": [
      "C:\\Users\\User\\anaconda3\\lib\\site-packages\\sklearn\\base.py:439: UserWarning: X does not have valid feature names, but LinearRegression was fitted with feature names\n",
      "  warnings.warn(\n"
     ]
    }
   ],
   "source": [
    "import pandas as pd\n",
    "import numpy as np\n",
    "from sklearn.linear_model import LinearRegression\n",
    "\n",
    "# Load the placement data into a Pandas dataframe\n",
    "df = pd.DataFrame({\n",
    "    'Year': ['01-01-2016','01-01-2017', '01-01-2018', '01-01-2019','01-01-2020','01-01-2021','01-01-2022'],\n",
    "    'Growth_rate':['18','18','7','28','25','25','29']})\n",
    "\n",
    "# Convert the Year column to a datetime type\n",
    "df['Year'] = pd.to_datetime(df['Year'])\n",
    "\n",
    "# Extract the year from the datetime column and create a new column\n",
    "df['Year_num'] = df['Year'].dt.year\n",
    "\n",
    "# Split the data into training and testing sets\n",
    "X3_train = df[['Year_num']]\n",
    "y3_train = df['Growth_rate']\n",
    "\n",
    "# Fit a linear regression model to the data\n",
    "model = LinearRegression().fit(X3_train, y3_train)\n",
    "\n",
    "# Use the model to predict the placement for 2024\n",
    "growth_rate_2024 = model.predict([[2024]])\n",
    "\n",
    "# Print the predicted placement for 2024\n",
    "print(f\"Predicted Growth_rate for 2024: {int(growth_rate_2024)}\")\n",
    "\n",
    "\n",
    "\n",
    "# Accuracy \n",
    "\n",
    "from sklearn.metrics import mean_squared_error, r2_score\n",
    "\n",
    "# Predict the placements for the training data\n",
    "y_train_pred = model.predict(X3_train)\n",
    "\n",
    "\n",
    "\n",
    "# Calculate the MSE and R-squared for the training data\n",
    "mse = mean_squared_error(y3_train, y_train_pred)\n",
    "r2 = r2_score(y3_train, y_train_pred)\n",
    "\n",
    "\n",
    "print(f\"R-squared: {r2}\")\n"
   ]
  },
  {
   "cell_type": "code",
   "execution_count": null,
   "id": "16a64aae",
   "metadata": {},
   "outputs": [],
   "source": []
  },
  {
   "cell_type": "code",
   "execution_count": 195,
   "id": "013318be",
   "metadata": {},
   "outputs": [
    {
     "name": "stdout",
     "output_type": "stream",
     "text": [
      "Predicted Growth_rate for 2024: 2509\n",
      "R-squared: 0.12685530664636202\n"
     ]
    },
    {
     "name": "stderr",
     "output_type": "stream",
     "text": [
      "C:\\Users\\User\\anaconda3\\lib\\site-packages\\sklearn\\base.py:439: UserWarning: X does not have valid feature names, but LinearRegression was fitted with feature names\n",
      "  warnings.warn(\n"
     ]
    }
   ],
   "source": [
    "import pandas as pd\n",
    "import numpy as np\n",
    "from sklearn.linear_model import LinearRegression\n",
    "\n",
    "# Load the placement data into a Pandas dataframe\n",
    "df = pd.DataFrame({\n",
    "    'Year': ['01-01-2016','01-01-2017', '01-01-2018', '01-01-2019','01-01-2020','01-01-2021','01-01-2022'],\n",
    "    'Growth_rate':['1373','1453','819','2456','2887','2679','1136']})\n",
    "\n",
    "# Convert the Year column to a datetime type\n",
    "df['Year'] = pd.to_datetime(df['Year'])\n",
    "\n",
    "# Extract the year from the datetime column and create a new column\n",
    "df['Year_num'] = df['Year'].dt.year\n",
    "\n",
    "# Split the data into training and testing sets\n",
    "X3_train = df[['Year_num']]\n",
    "y3_train = df['Growth_rate']\n",
    "\n",
    "# Fit a linear regression model to the data\n",
    "model = LinearRegression().fit(X3_train, y3_train)\n",
    "\n",
    "# Use the model to predict the placement for 2024\n",
    "growth_rate_2024 = model.predict([[2024]])\n",
    "\n",
    "# Print the predicted placement for 2024\n",
    "print(f\"Predicted Growth_rate for 2024: {int(growth_rate_2024)}\")\n",
    "\n",
    "\n",
    "\n",
    "# Accuracy \n",
    "\n",
    "from sklearn.metrics import mean_squared_error, r2_score\n",
    "\n",
    "# Predict the placements for the training data\n",
    "y_train_pred = model.predict(X3_train)\n",
    "\n",
    "\n",
    "\n",
    "# Calculate the MSE and R-squared for the training data\n",
    "mse = mean_squared_error(y3_train, y_train_pred)\n",
    "r2 = r2_score(y3_train, y_train_pred)\n",
    "\n",
    "\n",
    "print(f\"R-squared: {r2}\")\n"
   ]
  },
  {
   "cell_type": "code",
   "execution_count": null,
   "id": "ba8119a4",
   "metadata": {},
   "outputs": [],
   "source": []
  },
  {
   "cell_type": "code",
   "execution_count": 197,
   "id": "c62883e0",
   "metadata": {},
   "outputs": [
    {
     "name": "stdout",
     "output_type": "stream",
     "text": [
      "Predicted Growth_rate for 2024: 2561\n",
      "R-squared: 0.5265866716246017\n"
     ]
    },
    {
     "name": "stderr",
     "output_type": "stream",
     "text": [
      "C:\\Users\\User\\anaconda3\\lib\\site-packages\\sklearn\\base.py:439: UserWarning: X does not have valid feature names, but LinearRegression was fitted with feature names\n",
      "  warnings.warn(\n"
     ]
    }
   ],
   "source": [
    "import pandas as pd\n",
    "import numpy as np\n",
    "from sklearn.linear_model import LinearRegression\n",
    "\n",
    "# Load the placement data into a Pandas dataframe\n",
    "df = pd.DataFrame({\n",
    "    'Year': ['01-01-2016','01-01-2017', '01-01-2018', '01-01-2019','01-01-2020','01-01-2021','01-01-2022'],\n",
    "    'Growth_rate':['684','1392','868','2125','2160','1929','1764']})\n",
    "\n",
    "# Convert the Year column to a datetime type\n",
    "df['Year'] = pd.to_datetime(df['Year'])\n",
    "\n",
    "# Extract the year from the datetime column and create a new column\n",
    "df['Year_num'] = df['Year'].dt.year\n",
    "\n",
    "# Split the data into training and testing sets\n",
    "X3_train = df[['Year_num']]\n",
    "y3_train = df['Growth_rate']\n",
    "\n",
    "# Fit a linear regression model to the data\n",
    "model = LinearRegression().fit(X3_train, y3_train)\n",
    "\n",
    "# Use the model to predict the placement for 2024\n",
    "growth_rate_2024 = model.predict([[2024]])\n",
    "\n",
    "# Print the predicted placement for 2024\n",
    "print(f\"Predicted Growth_rate for 2024: {int(growth_rate_2024)}\")\n",
    "\n",
    "\n",
    "\n",
    "# Accuracy \n",
    "\n",
    "from sklearn.metrics import mean_squared_error, r2_score\n",
    "\n",
    "# Predict the placements for the training data\n",
    "y_train_pred = model.predict(X3_train)\n",
    "\n",
    "\n",
    "\n",
    "# Calculate the MSE and R-squared for the training data\n",
    "mse = mean_squared_error(y3_train, y_train_pred)\n",
    "r2 = r2_score(y3_train, y_train_pred)\n",
    "\n",
    "\n",
    "print(f\"R-squared: {r2}\")\n"
   ]
  },
  {
   "cell_type": "code",
   "execution_count": null,
   "id": "70b6c785",
   "metadata": {},
   "outputs": [],
   "source": []
  },
  {
   "cell_type": "code",
   "execution_count": 199,
   "id": "ac59d9c6",
   "metadata": {},
   "outputs": [
    {
     "name": "stdout",
     "output_type": "stream",
     "text": [
      "Predicted Growth_rate for 2024: 41\n",
      "R-squared: 0.2973670624677376\n"
     ]
    },
    {
     "name": "stderr",
     "output_type": "stream",
     "text": [
      "C:\\Users\\User\\anaconda3\\lib\\site-packages\\sklearn\\base.py:439: UserWarning: X does not have valid feature names, but LinearRegression was fitted with feature names\n",
      "  warnings.warn(\n"
     ]
    }
   ],
   "source": [
    "import pandas as pd\n",
    "import numpy as np\n",
    "from sklearn.linear_model import LinearRegression\n",
    "\n",
    "# Load the placement data into a Pandas dataframe\n",
    "df = pd.DataFrame({\n",
    "    'Year': ['01-01-2016','01-01-2017', '01-01-2018', '01-01-2019','01-01-2020','01-01-2021','01-01-2022'],\n",
    "    'Growth_rate':['16', '18', '5', '25','49','26','28']})\n",
    "\n",
    "# Convert the Year column to a datetime type\n",
    "df['Year'] = pd.to_datetime(df['Year'])\n",
    "\n",
    "# Extract the year from the datetime column and create a new column\n",
    "df['Year_num'] = df['Year'].dt.year\n",
    "\n",
    "# Split the data into training and testing sets\n",
    "X3_train = df[['Year_num']]\n",
    "y3_train = df['Growth_rate']\n",
    "\n",
    "# Fit a linear regression model to the data\n",
    "model = LinearRegression().fit(X3_train, y3_train)\n",
    "\n",
    "# Use the model to predict the placement for 2024\n",
    "growth_rate_2024 = model.predict([[2024]])\n",
    "\n",
    "# Print the predicted placement for 2024\n",
    "print(f\"Predicted Growth_rate for 2024: {int(growth_rate_2024)}\")\n",
    "\n",
    "\n",
    "\n",
    "# Accuracy \n",
    "\n",
    "from sklearn.metrics import mean_squared_error, r2_score\n",
    "\n",
    "# Predict the placements for the training data\n",
    "y_train_pred = model.predict(X3_train)\n",
    "\n",
    "\n",
    "\n",
    "# Calculate the MSE and R-squared for the training data\n",
    "mse = mean_squared_error(y3_train, y_train_pred)\n",
    "r2 = r2_score(y3_train, y_train_pred)\n",
    "\n",
    "\n",
    "print(f\"R-squared: {r2}\")\n"
   ]
  },
  {
   "cell_type": "code",
   "execution_count": null,
   "id": "c4fe0d79",
   "metadata": {},
   "outputs": [],
   "source": []
  },
  {
   "cell_type": "code",
   "execution_count": 201,
   "id": "cabed9ec",
   "metadata": {},
   "outputs": [
    {
     "name": "stdout",
     "output_type": "stream",
     "text": [
      "Predicted Growth_rate for 2024: 284\n",
      "R-squared: 0.5990555399788275\n"
     ]
    },
    {
     "name": "stderr",
     "output_type": "stream",
     "text": [
      "C:\\Users\\User\\anaconda3\\lib\\site-packages\\sklearn\\base.py:439: UserWarning: X does not have valid feature names, but LinearRegression was fitted with feature names\n",
      "  warnings.warn(\n"
     ]
    }
   ],
   "source": [
    "import pandas as pd\n",
    "import numpy as np\n",
    "from sklearn.linear_model import LinearRegression\n",
    "\n",
    "# Load the placement data into a Pandas dataframe\n",
    "df = pd.DataFrame({\n",
    "    'Year': ['01-01-2016','01-01-2017', '01-01-2018', '01-01-2019','01-01-2020','01-01-2021','01-01-2022'],\n",
    "    'Growth_rate':['135','143','76','190','209','183','273']})\n",
    "\n",
    "# Convert the Year column to a datetime type\n",
    "df['Year'] = pd.to_datetime(df['Year'])\n",
    "\n",
    "# Extract the year from the datetime column and create a new column\n",
    "df['Year_num'] = df['Year'].dt.year\n",
    "\n",
    "# Split the data into training and testing sets\n",
    "X3_train = df[['Year_num']]\n",
    "y3_train = df['Growth_rate']\n",
    "\n",
    "# Fit a linear regression model to the data\n",
    "model = LinearRegression().fit(X3_train, y3_train)\n",
    "\n",
    "# Use the model to predict the placement for 2024\n",
    "growth_rate_2024 = model.predict([[2024]])\n",
    "\n",
    "# Print the predicted placement for 2024\n",
    "print(f\"Predicted Growth_rate for 2024: {int(growth_rate_2024)}\")\n",
    "\n",
    "\n",
    "\n",
    "# Accuracy \n",
    "\n",
    "from sklearn.metrics import mean_squared_error, r2_score\n",
    "\n",
    "# Predict the placements for the training data\n",
    "y_train_pred = model.predict(X3_train)\n",
    "\n",
    "\n",
    "\n",
    "# Calculate the MSE and R-squared for the training data\n",
    "mse = mean_squared_error(y3_train, y_train_pred)\n",
    "r2 = r2_score(y3_train, y_train_pred)\n",
    "\n",
    "\n",
    "print(f\"R-squared: {r2}\")\n"
   ]
  },
  {
   "cell_type": "code",
   "execution_count": null,
   "id": "fdea8a25",
   "metadata": {},
   "outputs": [],
   "source": []
  },
  {
   "cell_type": "code",
   "execution_count": 203,
   "id": "d8adecae",
   "metadata": {},
   "outputs": [
    {
     "name": "stdout",
     "output_type": "stream",
     "text": [
      "Predicted Growth_rate for 2024: 335\n",
      "R-squared: 0.7097970808249556\n"
     ]
    },
    {
     "name": "stderr",
     "output_type": "stream",
     "text": [
      "C:\\Users\\User\\anaconda3\\lib\\site-packages\\sklearn\\base.py:439: UserWarning: X does not have valid feature names, but LinearRegression was fitted with feature names\n",
      "  warnings.warn(\n"
     ]
    }
   ],
   "source": [
    "import pandas as pd\n",
    "import numpy as np\n",
    "from sklearn.linear_model import LinearRegression\n",
    "\n",
    "# Load the placement data into a Pandas dataframe\n",
    "df = pd.DataFrame({\n",
    "    'Year': ['01-01-2016','01-01-2017', '01-01-2018', '01-01-2019','01-01-2020','01-01-2021','01-01-2022'],\n",
    "    'Growth_rate':['130', '129', '57', '187','206','266','280']})\n",
    "\n",
    "# Convert the Year column to a datetime type\n",
    "df['Year'] = pd.to_datetime(df['Year'])\n",
    "\n",
    "# Extract the year from the datetime column and create a new column\n",
    "df['Year_num'] = df['Year'].dt.year\n",
    "\n",
    "# Split the data into training and testing sets\n",
    "X3_train = df[['Year_num']]\n",
    "y3_train = df['Growth_rate']\n",
    "\n",
    "# Fit a linear regression model to the data\n",
    "model = LinearRegression().fit(X3_train, y3_train)\n",
    "\n",
    "# Use the model to predict the placement for 2024\n",
    "growth_rate_2024 = model.predict([[2024]])\n",
    "\n",
    "# Print the predicted placement for 2024\n",
    "print(f\"Predicted Growth_rate for 2024: {int(growth_rate_2024)}\")\n",
    "\n",
    "\n",
    "\n",
    "# Accuracy \n",
    "\n",
    "from sklearn.metrics import mean_squared_error, r2_score\n",
    "\n",
    "# Predict the placements for the training data\n",
    "y_train_pred = model.predict(X3_train)\n",
    "\n",
    "\n",
    "\n",
    "# Calculate the MSE and R-squared for the training data\n",
    "mse = mean_squared_error(y3_train, y_train_pred)\n",
    "r2 = r2_score(y3_train, y_train_pred)\n",
    "\n",
    "\n",
    "print(f\"R-squared: {r2}\")\n"
   ]
  },
  {
   "cell_type": "code",
   "execution_count": null,
   "id": "788469d6",
   "metadata": {},
   "outputs": [],
   "source": []
  },
  {
   "cell_type": "code",
   "execution_count": 205,
   "id": "59714409",
   "metadata": {},
   "outputs": [
    {
     "name": "stdout",
     "output_type": "stream",
     "text": [
      "Predicted Growth_rate for 2024: 269\n",
      "R-squared: 0.12567285162434316\n"
     ]
    },
    {
     "name": "stderr",
     "output_type": "stream",
     "text": [
      "C:\\Users\\User\\anaconda3\\lib\\site-packages\\sklearn\\base.py:439: UserWarning: X does not have valid feature names, but LinearRegression was fitted with feature names\n",
      "  warnings.warn(\n"
     ]
    }
   ],
   "source": [
    "import pandas as pd\n",
    "import numpy as np\n",
    "from sklearn.linear_model import LinearRegression\n",
    "\n",
    "# Load the placement data into a Pandas dataframe\n",
    "df = pd.DataFrame({\n",
    "    'Year': ['01-01-2016','01-01-2017', '01-01-2018', '01-01-2019','01-01-2020','01-01-2021','01-01-2022'],\n",
    "    'Growth_rate':['427','416','191','382','299','299','343']})\n",
    "\n",
    "# Convert the Year column to a datetime type\n",
    "df['Year'] = pd.to_datetime(df['Year'])\n",
    "\n",
    "# Extract the year from the datetime column and create a new column\n",
    "df['Year_num'] = df['Year'].dt.year\n",
    "\n",
    "# Split the data into training and testing sets\n",
    "X3_train = df[['Year_num']]\n",
    "y3_train = df['Growth_rate']\n",
    "\n",
    "# Fit a linear regression model to the data\n",
    "model = LinearRegression().fit(X3_train, y3_train)\n",
    "\n",
    "# Use the model to predict the placement for 2024\n",
    "growth_rate_2024 = model.predict([[2024]])\n",
    "\n",
    "# Print the predicted placement for 2024\n",
    "print(f\"Predicted Growth_rate for 2024: {int(growth_rate_2024)}\")\n",
    "\n",
    "\n",
    "\n",
    "# Accuracy \n",
    "\n",
    "from sklearn.metrics import mean_squared_error, r2_score\n",
    "\n",
    "# Predict the placements for the training data\n",
    "y_train_pred = model.predict(X3_train)\n",
    "\n",
    "\n",
    "\n",
    "# Calculate the MSE and R-squared for the training data\n",
    "mse = mean_squared_error(y3_train, y_train_pred)\n",
    "r2 = r2_score(y3_train, y_train_pred)\n",
    "\n",
    "\n",
    "print(f\"R-squared: {r2}\")\n"
   ]
  },
  {
   "cell_type": "code",
   "execution_count": null,
   "id": "17692ad1",
   "metadata": {},
   "outputs": [],
   "source": []
  },
  {
   "cell_type": "code",
   "execution_count": 207,
   "id": "a15afade",
   "metadata": {},
   "outputs": [
    {
     "name": "stdout",
     "output_type": "stream",
     "text": [
      "Predicted Growth_rate for 2024: 1232\n",
      "R-squared: 0.7420252471634357\n"
     ]
    },
    {
     "name": "stderr",
     "output_type": "stream",
     "text": [
      "C:\\Users\\User\\anaconda3\\lib\\site-packages\\sklearn\\base.py:439: UserWarning: X does not have valid feature names, but LinearRegression was fitted with feature names\n",
      "  warnings.warn(\n"
     ]
    }
   ],
   "source": [
    "import pandas as pd\n",
    "import numpy as np\n",
    "from sklearn.linear_model import LinearRegression\n",
    "\n",
    "# Load the placement data into a Pandas dataframe\n",
    "df = pd.DataFrame({\n",
    "    'Year': ['01-01-2016','01-01-2017', '01-01-2018', '01-01-2019','01-01-2020','01-01-2021','01-01-2022'],\n",
    "    'Growth_rate':['334', '362', '232', '802','906','844','916']})\n",
    "\n",
    "# Convert the Year column to a datetime type\n",
    "df['Year'] = pd.to_datetime(df['Year'])\n",
    "\n",
    "# Extract the year from the datetime column and create a new column\n",
    "df['Year_num'] = df['Year'].dt.year\n",
    "\n",
    "# Split the data into training and testing sets\n",
    "X3_train = df[['Year_num']]\n",
    "y3_train = df['Growth_rate']\n",
    "\n",
    "# Fit a linear regression model to the data\n",
    "model = LinearRegression().fit(X3_train, y3_train)\n",
    "\n",
    "# Use the model to predict the placement for 2024\n",
    "growth_rate_2024 = model.predict([[2024]])\n",
    "\n",
    "# Print the predicted placement for 2024\n",
    "print(f\"Predicted Growth_rate for 2024: {int(growth_rate_2024)}\")\n",
    "\n",
    "\n",
    "\n",
    "# Accuracy \n",
    "\n",
    "from sklearn.metrics import mean_squared_error, r2_score\n",
    "\n",
    "# Predict the placements for the training data\n",
    "y_train_pred = model.predict(X3_train)\n",
    "\n",
    "\n",
    "\n",
    "# Calculate the MSE and R-squared for the training data\n",
    "mse = mean_squared_error(y3_train, y_train_pred)\n",
    "r2 = r2_score(y3_train, y_train_pred)\n",
    "\n",
    "\n",
    "print(f\"R-squared: {r2}\")\n"
   ]
  },
  {
   "cell_type": "code",
   "execution_count": null,
   "id": "0c58fb77",
   "metadata": {},
   "outputs": [],
   "source": []
  },
  {
   "cell_type": "code",
   "execution_count": 209,
   "id": "ffb18c78",
   "metadata": {},
   "outputs": [
    {
     "name": "stdout",
     "output_type": "stream",
     "text": [
      "Predicted Growth_rate for 2024: 370\n",
      "R-squared: 0.6819080971357705\n"
     ]
    },
    {
     "name": "stderr",
     "output_type": "stream",
     "text": [
      "C:\\Users\\User\\anaconda3\\lib\\site-packages\\sklearn\\base.py:439: UserWarning: X does not have valid feature names, but LinearRegression was fitted with feature names\n",
      "  warnings.warn(\n"
     ]
    }
   ],
   "source": [
    "import pandas as pd\n",
    "import numpy as np\n",
    "from sklearn.linear_model import LinearRegression\n",
    "\n",
    "# Load the placement data into a Pandas dataframe\n",
    "df = pd.DataFrame({\n",
    "    'Year': ['01-01-2016','01-01-2017', '01-01-2018', '01-01-2019','01-01-2020','01-01-2021','01-01-2022'],\n",
    "    'Growth_rate':['124', '130', '62', '257','254','242','310']})\n",
    "\n",
    "# Convert the Year column to a datetime type\n",
    "df['Year'] = pd.to_datetime(df['Year'])\n",
    "\n",
    "# Extract the year from the datetime column and create a new column\n",
    "df['Year_num'] = df['Year'].dt.year\n",
    "\n",
    "# Split the data into training and testing sets\n",
    "X3_train = df[['Year_num']]\n",
    "y3_train = df['Growth_rate']\n",
    "\n",
    "# Fit a linear regression model to the data\n",
    "model = LinearRegression().fit(X3_train, y3_train)\n",
    "\n",
    "# Use the model to predict the placement for 2024\n",
    "growth_rate_2024 = model.predict([[2024]])\n",
    "\n",
    "# Print the predicted placement for 2024\n",
    "print(f\"Predicted Growth_rate for 2024: {int(growth_rate_2024)}\")\n",
    "\n",
    "\n",
    "\n",
    "# Accuracy \n",
    "\n",
    "from sklearn.metrics import mean_squared_error, r2_score\n",
    "\n",
    "# Predict the placements for the training data\n",
    "y_train_pred = model.predict(X3_train)\n",
    "\n",
    "\n",
    "\n",
    "# Calculate the MSE and R-squared for the training data\n",
    "mse = mean_squared_error(y3_train, y_train_pred)\n",
    "r2 = r2_score(y3_train, y_train_pred)\n",
    "\n",
    "\n",
    "print(f\"R-squared: {r2}\")\n"
   ]
  },
  {
   "cell_type": "code",
   "execution_count": null,
   "id": "837de5b2",
   "metadata": {},
   "outputs": [],
   "source": []
  },
  {
   "cell_type": "code",
   "execution_count": 211,
   "id": "6a1df73f",
   "metadata": {},
   "outputs": [
    {
     "name": "stdout",
     "output_type": "stream",
     "text": [
      "Predicted Growth_rate for 2024: 228\n",
      "R-squared: 0.18672770248032877\n"
     ]
    },
    {
     "name": "stderr",
     "output_type": "stream",
     "text": [
      "C:\\Users\\User\\anaconda3\\lib\\site-packages\\sklearn\\base.py:439: UserWarning: X does not have valid feature names, but LinearRegression was fitted with feature names\n",
      "  warnings.warn(\n"
     ]
    }
   ],
   "source": [
    "import pandas as pd\n",
    "import numpy as np\n",
    "from sklearn.linear_model import LinearRegression\n",
    "\n",
    "# Load the placement data into a Pandas dataframe\n",
    "df = pd.DataFrame({\n",
    "    'Year': ['01-01-2016','01-01-2017', '01-01-2018', '01-01-2019','01-01-2020','01-01-2021','01-01-2022'],\n",
    "    'Growth_rate':['136','138','94','255','231','184','165']})\n",
    "\n",
    "# Convert the Year column to a datetime type\n",
    "df['Year'] = pd.to_datetime(df['Year'])\n",
    "\n",
    "# Extract the year from the datetime column and create a new column\n",
    "df['Year_num'] = df['Year'].dt.year\n",
    "\n",
    "# Split the data into training and testing sets\n",
    "X3_train = df[['Year_num']]\n",
    "y3_train = df['Growth_rate']\n",
    "\n",
    "# Fit a linear regression model to the data\n",
    "model = LinearRegression().fit(X3_train, y3_train)\n",
    "\n",
    "# Use the model to predict the placement for 2024\n",
    "growth_rate_2024 = model.predict([[2024]])\n",
    "\n",
    "# Print the predicted placement for 2024\n",
    "print(f\"Predicted Growth_rate for 2024: {int(growth_rate_2024)}\")\n",
    "\n",
    "\n",
    "\n",
    "# Accuracy \n",
    "\n",
    "from sklearn.metrics import mean_squared_error, r2_score\n",
    "\n",
    "# Predict the placements for the training data\n",
    "y_train_pred = model.predict(X3_train)\n",
    "\n",
    "\n",
    "\n",
    "# Calculate the MSE and R-squared for the training data\n",
    "mse = mean_squared_error(y3_train, y_train_pred)\n",
    "r2 = r2_score(y3_train, y_train_pred)\n",
    "\n",
    "\n",
    "print(f\"R-squared: {r2}\")\n"
   ]
  },
  {
   "cell_type": "code",
   "execution_count": null,
   "id": "81d55a21",
   "metadata": {},
   "outputs": [],
   "source": []
  },
  {
   "cell_type": "code",
   "execution_count": 213,
   "id": "be6a7c35",
   "metadata": {},
   "outputs": [
    {
     "name": "stdout",
     "output_type": "stream",
     "text": [
      "Predicted Growth_rate for 2024: 1576\n",
      "R-squared: 0.49265327311446505\n"
     ]
    },
    {
     "name": "stderr",
     "output_type": "stream",
     "text": [
      "C:\\Users\\User\\anaconda3\\lib\\site-packages\\sklearn\\base.py:439: UserWarning: X does not have valid feature names, but LinearRegression was fitted with feature names\n",
      "  warnings.warn(\n"
     ]
    }
   ],
   "source": [
    "import pandas as pd\n",
    "import numpy as np\n",
    "from sklearn.linear_model import LinearRegression\n",
    "\n",
    "# Load the placement data into a Pandas dataframe\n",
    "df = pd.DataFrame({\n",
    "    'Year': ['01-01-2016','01-01-2017', '01-01-2018', '01-01-2019','01-01-2020','01-01-2021','01-01-2022'],\n",
    "    'Growth_rate':['7755','8170','2559','4890','4686','3863','3432']})\n",
    "\n",
    "# Convert the Year column to a datetime type\n",
    "df['Year'] = pd.to_datetime(df['Year'])\n",
    "\n",
    "# Extract the year from the datetime column and create a new column\n",
    "df['Year_num'] = df['Year'].dt.year\n",
    "\n",
    "# Split the data into training and testing sets\n",
    "X3_train = df[['Year_num']]\n",
    "y3_train = df['Growth_rate']\n",
    "\n",
    "# Fit a linear regression model to the data\n",
    "model = LinearRegression().fit(X3_train, y3_train)\n",
    "\n",
    "# Use the model to predict the placement for 2024\n",
    "growth_rate_2024 = model.predict([[2024]])\n",
    "\n",
    "# Print the predicted placement for 2024\n",
    "print(f\"Predicted Growth_rate for 2024: {int(growth_rate_2024)}\")\n",
    "\n",
    "\n",
    "\n",
    "# Accuracy \n",
    "\n",
    "from sklearn.metrics import mean_squared_error, r2_score\n",
    "\n",
    "# Predict the placements for the training data\n",
    "y_train_pred = model.predict(X3_train)\n",
    "\n",
    "\n",
    "\n",
    "# Calculate the MSE and R-squared for the training data\n",
    "mse = mean_squared_error(y3_train, y_train_pred)\n",
    "r2 = r2_score(y3_train, y_train_pred)\n",
    "\n",
    "\n",
    "print(f\"R-squared: {r2}\")\n"
   ]
  },
  {
   "cell_type": "code",
   "execution_count": null,
   "id": "7035967b",
   "metadata": {},
   "outputs": [],
   "source": []
  },
  {
   "cell_type": "code",
   "execution_count": 215,
   "id": "827923fc",
   "metadata": {},
   "outputs": [
    {
     "name": "stdout",
     "output_type": "stream",
     "text": [
      "Predicted Growth_rate for 2024: 726\n",
      "R-squared: 0.34433360966808135\n"
     ]
    },
    {
     "name": "stderr",
     "output_type": "stream",
     "text": [
      "C:\\Users\\User\\anaconda3\\lib\\site-packages\\sklearn\\base.py:439: UserWarning: X does not have valid feature names, but LinearRegression was fitted with feature names\n",
      "  warnings.warn(\n"
     ]
    }
   ],
   "source": [
    "import pandas as pd\n",
    "import numpy as np\n",
    "from sklearn.linear_model import LinearRegression\n",
    "\n",
    "# Load the placement data into a Pandas dataframe\n",
    "df = pd.DataFrame({\n",
    "    'Year': ['01-01-2016','01-01-2017', '01-01-2018', '01-01-2019','01-01-2020','01-01-2021','01-01-2022'],\n",
    "    'Growth_rate':['426','503','243','690','545','597','646']})\n",
    "\n",
    "# Convert the Year column to a datetime type\n",
    "df['Year'] = pd.to_datetime(df['Year'])\n",
    "\n",
    "# Extract the year from the datetime column and create a new column\n",
    "df['Year_num'] = df['Year'].dt.year\n",
    "\n",
    "# Split the data into training and testing sets\n",
    "X3_train = df[['Year_num']]\n",
    "y3_train = df['Growth_rate']\n",
    "\n",
    "# Fit a linear regression model to the data\n",
    "model = LinearRegression().fit(X3_train, y3_train)\n",
    "\n",
    "# Use the model to predict the placement for 2024\n",
    "growth_rate_2024 = model.predict([[2024]])\n",
    "\n",
    "# Print the predicted placement for 2024\n",
    "print(f\"Predicted Growth_rate for 2024: {int(growth_rate_2024)}\")\n",
    "\n",
    "\n",
    "\n",
    "# Accuracy \n",
    "\n",
    "from sklearn.metrics import mean_squared_error, r2_score\n",
    "\n",
    "# Predict the placements for the training data\n",
    "y_train_pred = model.predict(X3_train)\n",
    "\n",
    "\n",
    "\n",
    "# Calculate the MSE and R-squared for the training data\n",
    "mse = mean_squared_error(y3_train, y_train_pred)\n",
    "r2 = r2_score(y3_train, y_train_pred)\n",
    "\n",
    "\n",
    "print(f\"R-squared: {r2}\")\n"
   ]
  },
  {
   "cell_type": "code",
   "execution_count": null,
   "id": "ebe90850",
   "metadata": {},
   "outputs": [],
   "source": []
  },
  {
   "cell_type": "code",
   "execution_count": 217,
   "id": "d109c9ab",
   "metadata": {},
   "outputs": [
    {
     "name": "stdout",
     "output_type": "stream",
     "text": [
      "Predicted Growth_rate for 2024: 218\n",
      "R-squared: 0.26259125094241653\n"
     ]
    },
    {
     "name": "stderr",
     "output_type": "stream",
     "text": [
      "C:\\Users\\User\\anaconda3\\lib\\site-packages\\sklearn\\base.py:439: UserWarning: X does not have valid feature names, but LinearRegression was fitted with feature names\n",
      "  warnings.warn(\n"
     ]
    }
   ],
   "source": [
    "import pandas as pd\n",
    "import numpy as np\n",
    "from sklearn.linear_model import LinearRegression\n",
    "\n",
    "# Load the placement data into a Pandas dataframe\n",
    "df = pd.DataFrame({\n",
    "    'Year': ['01-01-2016','01-01-2017', '01-01-2018', '01-01-2019','01-01-2020','01-01-2021','01-01-2022'],\n",
    "    'Growth_rate':['150','130','70','184','225','148','199']})\n",
    "\n",
    "# Convert the Year column to a datetime type\n",
    "df['Year'] = pd.to_datetime(df['Year'])\n",
    "\n",
    "# Extract the year from the datetime column and create a new column\n",
    "df['Year_num'] = df['Year'].dt.year\n",
    "\n",
    "# Split the data into training and testing sets\n",
    "X3_train = df[['Year_num']]\n",
    "y3_train = df['Growth_rate']\n",
    "\n",
    "# Fit a linear regression model to the data\n",
    "model = LinearRegression().fit(X3_train, y3_train)\n",
    "\n",
    "# Use the model to predict the placement for 2024\n",
    "growth_rate_2024 = model.predict([[2024]])\n",
    "\n",
    "# Print the predicted placement for 2024\n",
    "print(f\"Predicted Growth_rate for 2024: {int(growth_rate_2024)}\")\n",
    "\n",
    "\n",
    "\n",
    "# Accuracy \n",
    "\n",
    "from sklearn.metrics import mean_squared_error, r2_score\n",
    "\n",
    "# Predict the placements for the training data\n",
    "y_train_pred = model.predict(X3_train)\n",
    "\n",
    "\n",
    "\n",
    "# Calculate the MSE and R-squared for the training data\n",
    "mse = mean_squared_error(y3_train, y_train_pred)\n",
    "r2 = r2_score(y3_train, y_train_pred)\n",
    "\n",
    "\n",
    "print(f\"R-squared: {r2}\")\n"
   ]
  },
  {
   "cell_type": "code",
   "execution_count": null,
   "id": "d5f596f0",
   "metadata": {},
   "outputs": [],
   "source": []
  },
  {
   "cell_type": "code",
   "execution_count": 219,
   "id": "60593cc3",
   "metadata": {},
   "outputs": [
    {
     "name": "stdout",
     "output_type": "stream",
     "text": [
      "Predicted Growth_rate for 2024: 553\n",
      "R-squared: 0.6326733269138456\n"
     ]
    },
    {
     "name": "stderr",
     "output_type": "stream",
     "text": [
      "C:\\Users\\User\\anaconda3\\lib\\site-packages\\sklearn\\base.py:439: UserWarning: X does not have valid feature names, but LinearRegression was fitted with feature names\n",
      "  warnings.warn(\n"
     ]
    }
   ],
   "source": [
    "import pandas as pd\n",
    "import numpy as np\n",
    "from sklearn.linear_model import LinearRegression\n",
    "\n",
    "# Load the placement data into a Pandas dataframe\n",
    "df = pd.DataFrame({\n",
    "    'Year': ['01-01-2016','01-01-2017', '01-01-2018', '01-01-2019','01-01-2020','01-01-2021','01-01-2022'],\n",
    "    'Growth_rate':['169','189','93','431','371','367','441']})\n",
    "\n",
    "# Convert the Year column to a datetime type\n",
    "df['Year'] = pd.to_datetime(df['Year'])\n",
    "\n",
    "# Extract the year from the datetime column and create a new column\n",
    "df['Year_num'] = df['Year'].dt.year\n",
    "\n",
    "# Split the data into training and testing sets\n",
    "X3_train = df[['Year_num']]\n",
    "y3_train = df['Growth_rate']\n",
    "\n",
    "# Fit a linear regression model to the data\n",
    "model = LinearRegression().fit(X3_train, y3_train)\n",
    "\n",
    "# Use the model to predict the placement for 2024\n",
    "growth_rate_2024 = model.predict([[2024]])\n",
    "\n",
    "# Print the predicted placement for 2024\n",
    "print(f\"Predicted Growth_rate for 2024: {int(growth_rate_2024)}\")\n",
    "\n",
    "\n",
    "\n",
    "# Accuracy \n",
    "\n",
    "from sklearn.metrics import mean_squared_error, r2_score\n",
    "\n",
    "# Predict the placements for the training data\n",
    "y_train_pred = model.predict(X3_train)\n",
    "\n",
    "\n",
    "\n",
    "# Calculate the MSE and R-squared for the training data\n",
    "mse = mean_squared_error(y3_train, y_train_pred)\n",
    "r2 = r2_score(y3_train, y_train_pred)\n",
    "\n",
    "\n",
    "print(f\"R-squared: {r2}\")\n"
   ]
  },
  {
   "cell_type": "code",
   "execution_count": null,
   "id": "46df34a1",
   "metadata": {},
   "outputs": [],
   "source": []
  },
  {
   "cell_type": "code",
   "execution_count": 221,
   "id": "c8313ad1",
   "metadata": {},
   "outputs": [
    {
     "name": "stdout",
     "output_type": "stream",
     "text": [
      "Predicted Growth_rate for 2024: 382\n",
      "R-squared: 0.3442079637485487\n"
     ]
    },
    {
     "name": "stderr",
     "output_type": "stream",
     "text": [
      "C:\\Users\\User\\anaconda3\\lib\\site-packages\\sklearn\\base.py:439: UserWarning: X does not have valid feature names, but LinearRegression was fitted with feature names\n",
      "  warnings.warn(\n"
     ]
    }
   ],
   "source": [
    "import pandas as pd\n",
    "import numpy as np\n",
    "from sklearn.linear_model import LinearRegression\n",
    "\n",
    "# Load the placement data into a Pandas dataframe\n",
    "df = pd.DataFrame({\n",
    "    'Year': ['01-01-2016','01-01-2017', '01-01-2018', '01-01-2019','01-01-2020','01-01-2021','01-01-2022'],\n",
    "    'Growth_rate':['286','247','196','254','386','359','317']})\n",
    "\n",
    "# Convert the Year column to a datetime type\n",
    "df['Year'] = pd.to_datetime(df['Year'])\n",
    "\n",
    "# Extract the year from the datetime column and create a new column\n",
    "df['Year_num'] = df['Year'].dt.year\n",
    "\n",
    "# Split the data into training and testing sets\n",
    "X3_train = df[['Year_num']]\n",
    "y3_train = df['Growth_rate']\n",
    "\n",
    "# Fit a linear regression model to the data\n",
    "model = LinearRegression().fit(X3_train, y3_train)\n",
    "\n",
    "# Use the model to predict the placement for 2024\n",
    "growth_rate_2024 = model.predict([[2024]])\n",
    "\n",
    "# Print the predicted placement for 2024\n",
    "print(f\"Predicted Growth_rate for 2024: {int(growth_rate_2024)}\")\n",
    "\n",
    "\n",
    "\n",
    "# Accuracy \n",
    "\n",
    "from sklearn.metrics import mean_squared_error, r2_score\n",
    "\n",
    "# Predict the placements for the training data\n",
    "y_train_pred = model.predict(X3_train)\n",
    "\n",
    "\n",
    "\n",
    "# Calculate the MSE and R-squared for the training data\n",
    "mse = mean_squared_error(y3_train, y_train_pred)\n",
    "r2 = r2_score(y3_train, y_train_pred)\n",
    "\n",
    "\n",
    "print(f\"R-squared: {r2}\")\n"
   ]
  },
  {
   "cell_type": "code",
   "execution_count": null,
   "id": "24fc20fd",
   "metadata": {},
   "outputs": [],
   "source": []
  },
  {
   "cell_type": "code",
   "execution_count": 223,
   "id": "6d59c59b",
   "metadata": {},
   "outputs": [
    {
     "name": "stdout",
     "output_type": "stream",
     "text": [
      "Predicted Growth_rate for 2024: 33\n",
      "R-squared: 0.42182507987218654\n"
     ]
    },
    {
     "name": "stderr",
     "output_type": "stream",
     "text": [
      "C:\\Users\\User\\anaconda3\\lib\\site-packages\\sklearn\\base.py:439: UserWarning: X does not have valid feature names, but LinearRegression was fitted with feature names\n",
      "  warnings.warn(\n"
     ]
    }
   ],
   "source": [
    "import pandas as pd\n",
    "import numpy as np\n",
    "from sklearn.linear_model import LinearRegression\n",
    "\n",
    "# Load the placement data into a Pandas dataframe\n",
    "df = pd.DataFrame({\n",
    "    'Year': ['01-01-2016','01-01-2017', '01-01-2018', '01-01-2019','01-01-2020','01-01-2021','01-01-2022'],\n",
    "    'Growth_rate':['18','18','7','28','25','25','29']})\n",
    "\n",
    "# Convert the Year column to a datetime type\n",
    "df['Year'] = pd.to_datetime(df['Year'])\n",
    "\n",
    "# Extract the year from the datetime column and create a new column\n",
    "df['Year_num'] = df['Year'].dt.year\n",
    "\n",
    "# Split the data into training and testing sets\n",
    "X3_train = df[['Year_num']]\n",
    "y3_train = df['Growth_rate']\n",
    "\n",
    "# Fit a linear regression model to the data\n",
    "model = LinearRegression().fit(X3_train, y3_train)\n",
    "\n",
    "# Use the model to predict the placement for 2024\n",
    "growth_rate_2024 = model.predict([[2024]])\n",
    "\n",
    "# Print the predicted placement for 2024\n",
    "print(f\"Predicted Growth_rate for 2024: {int(growth_rate_2024)}\")\n",
    "\n",
    "\n",
    "\n",
    "# Accuracy \n",
    "\n",
    "from sklearn.metrics import mean_squared_error, r2_score\n",
    "\n",
    "# Predict the placements for the training data\n",
    "y_train_pred = model.predict(X3_train)\n",
    "\n",
    "\n",
    "\n",
    "# Calculate the MSE and R-squared for the training data\n",
    "mse = mean_squared_error(y3_train, y_train_pred)\n",
    "r2 = r2_score(y3_train, y_train_pred)\n",
    "\n",
    "\n",
    "print(f\"R-squared: {r2}\")\n"
   ]
  },
  {
   "cell_type": "code",
   "execution_count": null,
   "id": "ae5edac3",
   "metadata": {},
   "outputs": [],
   "source": []
  },
  {
   "cell_type": "code",
   "execution_count": 225,
   "id": "fc0f7817",
   "metadata": {},
   "outputs": [
    {
     "name": "stdout",
     "output_type": "stream",
     "text": [
      "Predicted Growth_rate for 2024: 2509\n",
      "R-squared: 0.12685530664636202\n"
     ]
    },
    {
     "name": "stderr",
     "output_type": "stream",
     "text": [
      "C:\\Users\\User\\anaconda3\\lib\\site-packages\\sklearn\\base.py:439: UserWarning: X does not have valid feature names, but LinearRegression was fitted with feature names\n",
      "  warnings.warn(\n"
     ]
    }
   ],
   "source": [
    "import pandas as pd\n",
    "import numpy as np\n",
    "from sklearn.linear_model import LinearRegression\n",
    "\n",
    "# Load the placement data into a Pandas dataframe\n",
    "df = pd.DataFrame({\n",
    "    'Year': ['01-01-2016','01-01-2017', '01-01-2018', '01-01-2019','01-01-2020','01-01-2021','01-01-2022'],\n",
    "    'Growth_rate':['1373','1453','819','2456','2887','2679','1136']})\n",
    "\n",
    "# Convert the Year column to a datetime type\n",
    "df['Year'] = pd.to_datetime(df['Year'])\n",
    "\n",
    "# Extract the year from the datetime column and create a new column\n",
    "df['Year_num'] = df['Year'].dt.year\n",
    "\n",
    "# Split the data into training and testing sets\n",
    "X3_train = df[['Year_num']]\n",
    "y3_train = df['Growth_rate']\n",
    "\n",
    "# Fit a linear regression model to the data\n",
    "model = LinearRegression().fit(X3_train, y3_train)\n",
    "\n",
    "# Use the model to predict the placement for 2024\n",
    "growth_rate_2024 = model.predict([[2024]])\n",
    "\n",
    "# Print the predicted placement for 2024\n",
    "print(f\"Predicted Growth_rate for 2024: {int(growth_rate_2024)}\")\n",
    "\n",
    "\n",
    "\n",
    "# Accuracy \n",
    "\n",
    "from sklearn.metrics import mean_squared_error, r2_score\n",
    "\n",
    "# Predict the placements for the training data\n",
    "y_train_pred = model.predict(X3_train)\n",
    "\n",
    "\n",
    "\n",
    "# Calculate the MSE and R-squared for the training data\n",
    "mse = mean_squared_error(y3_train, y_train_pred)\n",
    "r2 = r2_score(y3_train, y_train_pred)\n",
    "\n",
    "\n",
    "print(f\"R-squared: {r2}\")\n"
   ]
  },
  {
   "cell_type": "code",
   "execution_count": null,
   "id": "96cd2e41",
   "metadata": {},
   "outputs": [],
   "source": []
  },
  {
   "cell_type": "code",
   "execution_count": 227,
   "id": "b026f3ed",
   "metadata": {},
   "outputs": [
    {
     "name": "stdout",
     "output_type": "stream",
     "text": [
      "Predicted Growth_rate for 2024: 2561\n",
      "R-squared: 0.5265866716246017\n"
     ]
    },
    {
     "name": "stderr",
     "output_type": "stream",
     "text": [
      "C:\\Users\\User\\anaconda3\\lib\\site-packages\\sklearn\\base.py:439: UserWarning: X does not have valid feature names, but LinearRegression was fitted with feature names\n",
      "  warnings.warn(\n"
     ]
    }
   ],
   "source": [
    "import pandas as pd\n",
    "import numpy as np\n",
    "from sklearn.linear_model import LinearRegression\n",
    "\n",
    "# Load the placement data into a Pandas dataframe\n",
    "df = pd.DataFrame({\n",
    "    'Year': ['01-01-2016','01-01-2017', '01-01-2018', '01-01-2019','01-01-2020','01-01-2021','01-01-2022'],\n",
    "    'Growth_rate':['684','1392','868','2125','2160','1929','1764']})\n",
    "\n",
    "# Convert the Year column to a datetime type\n",
    "df['Year'] = pd.to_datetime(df['Year'])\n",
    "\n",
    "# Extract the year from the datetime column and create a new column\n",
    "df['Year_num'] = df['Year'].dt.year\n",
    "\n",
    "# Split the data into training and testing sets\n",
    "X3_train = df[['Year_num']]\n",
    "y3_train = df['Growth_rate']\n",
    "\n",
    "# Fit a linear regression model to the data\n",
    "model = LinearRegression().fit(X3_train, y3_train)\n",
    "\n",
    "# Use the model to predict the placement for 2024\n",
    "growth_rate_2024 = model.predict([[2024]])\n",
    "\n",
    "# Print the predicted placement for 2024\n",
    "print(f\"Predicted Growth_rate for 2024: {int(growth_rate_2024)}\")\n",
    "\n",
    "\n",
    "\n",
    "# Accuracy \n",
    "\n",
    "from sklearn.metrics import mean_squared_error, r2_score\n",
    "\n",
    "# Predict the placements for the training data\n",
    "y_train_pred = model.predict(X3_train)\n",
    "\n",
    "\n",
    "\n",
    "# Calculate the MSE and R-squared for the training data\n",
    "mse = mean_squared_error(y3_train, y_train_pred)\n",
    "r2 = r2_score(y3_train, y_train_pred)\n",
    "\n",
    "\n",
    "print(f\"R-squared: {r2}\")\n"
   ]
  },
  {
   "cell_type": "code",
   "execution_count": null,
   "id": "7f04fe1b",
   "metadata": {},
   "outputs": [],
   "source": []
  },
  {
   "cell_type": "code",
   "execution_count": 229,
   "id": "66e28d59",
   "metadata": {},
   "outputs": [
    {
     "name": "stdout",
     "output_type": "stream",
     "text": [
      "Predicted Growth_rate for 2024: 41\n",
      "R-squared: 0.2973670624677376\n"
     ]
    },
    {
     "name": "stderr",
     "output_type": "stream",
     "text": [
      "C:\\Users\\User\\anaconda3\\lib\\site-packages\\sklearn\\base.py:439: UserWarning: X does not have valid feature names, but LinearRegression was fitted with feature names\n",
      "  warnings.warn(\n"
     ]
    }
   ],
   "source": [
    "import pandas as pd\n",
    "import numpy as np\n",
    "from sklearn.linear_model import LinearRegression\n",
    "\n",
    "# Load the placement data into a Pandas dataframe\n",
    "df = pd.DataFrame({\n",
    "    'Year': ['01-01-2016','01-01-2017', '01-01-2018', '01-01-2019','01-01-2020','01-01-2021','01-01-2022'],\n",
    "    'Growth_rate':['16', '18', '5', '25','49','26','28']})\n",
    "\n",
    "# Convert the Year column to a datetime type\n",
    "df['Year'] = pd.to_datetime(df['Year'])\n",
    "\n",
    "# Extract the year from the datetime column and create a new column\n",
    "df['Year_num'] = df['Year'].dt.year\n",
    "\n",
    "# Split the data into training and testing sets\n",
    "X3_train = df[['Year_num']]\n",
    "y3_train = df['Growth_rate']\n",
    "\n",
    "# Fit a linear regression model to the data\n",
    "model = LinearRegression().fit(X3_train, y3_train)\n",
    "\n",
    "# Use the model to predict the placement for 2024\n",
    "growth_rate_2024 = model.predict([[2024]])\n",
    "\n",
    "# Print the predicted placement for 2024\n",
    "print(f\"Predicted Growth_rate for 2024: {int(growth_rate_2024)}\")\n",
    "\n",
    "\n",
    "\n",
    "# Accuracy \n",
    "\n",
    "from sklearn.metrics import mean_squared_error, r2_score\n",
    "\n",
    "# Predict the placements for the training data\n",
    "y_train_pred = model.predict(X3_train)\n",
    "\n",
    "\n",
    "\n",
    "# Calculate the MSE and R-squared for the training data\n",
    "mse = mean_squared_error(y3_train, y_train_pred)\n",
    "r2 = r2_score(y3_train, y_train_pred)\n",
    "\n",
    "\n",
    "print(f\"R-squared: {r2}\")\n"
   ]
  },
  {
   "cell_type": "code",
   "execution_count": null,
   "id": "420f7cd3",
   "metadata": {},
   "outputs": [],
   "source": []
  },
  {
   "cell_type": "code",
   "execution_count": 231,
   "id": "0aef5242",
   "metadata": {},
   "outputs": [
    {
     "name": "stdout",
     "output_type": "stream",
     "text": [
      "Predicted Growth_rate for 2024: 284\n",
      "R-squared: 0.5990555399788275\n"
     ]
    },
    {
     "name": "stderr",
     "output_type": "stream",
     "text": [
      "C:\\Users\\User\\anaconda3\\lib\\site-packages\\sklearn\\base.py:439: UserWarning: X does not have valid feature names, but LinearRegression was fitted with feature names\n",
      "  warnings.warn(\n"
     ]
    }
   ],
   "source": [
    "import pandas as pd\n",
    "import numpy as np\n",
    "from sklearn.linear_model import LinearRegression\n",
    "\n",
    "# Load the placement data into a Pandas dataframe\n",
    "df = pd.DataFrame({\n",
    "    'Year': ['01-01-2016','01-01-2017', '01-01-2018', '01-01-2019','01-01-2020','01-01-2021','01-01-2022'],\n",
    "    'Growth_rate':['135','143','76','190','209','183','273']})\n",
    "\n",
    "# Convert the Year column to a datetime type\n",
    "df['Year'] = pd.to_datetime(df['Year'])\n",
    "\n",
    "# Extract the year from the datetime column and create a new column\n",
    "df['Year_num'] = df['Year'].dt.year\n",
    "\n",
    "# Split the data into training and testing sets\n",
    "X3_train = df[['Year_num']]\n",
    "y3_train = df['Growth_rate']\n",
    "\n",
    "# Fit a linear regression model to the data\n",
    "model = LinearRegression().fit(X3_train, y3_train)\n",
    "\n",
    "# Use the model to predict the placement for 2024\n",
    "growth_rate_2024 = model.predict([[2024]])\n",
    "\n",
    "# Print the predicted placement for 2024\n",
    "print(f\"Predicted Growth_rate for 2024: {int(growth_rate_2024)}\")\n",
    "\n",
    "\n",
    "\n",
    "# Accuracy \n",
    "\n",
    "from sklearn.metrics import mean_squared_error, r2_score\n",
    "\n",
    "# Predict the placements for the training data\n",
    "y_train_pred = model.predict(X3_train)\n",
    "\n",
    "\n",
    "\n",
    "# Calculate the MSE and R-squared for the training data\n",
    "mse = mean_squared_error(y3_train, y_train_pred)\n",
    "r2 = r2_score(y3_train, y_train_pred)\n",
    "\n",
    "\n",
    "print(f\"R-squared: {r2}\")\n"
   ]
  },
  {
   "cell_type": "code",
   "execution_count": null,
   "id": "8e3432a1",
   "metadata": {},
   "outputs": [],
   "source": []
  },
  {
   "cell_type": "code",
   "execution_count": 233,
   "id": "87efa688",
   "metadata": {},
   "outputs": [
    {
     "name": "stdout",
     "output_type": "stream",
     "text": [
      "Predicted Growth_rate for 2024: 335\n",
      "R-squared: 0.7097970808249556\n"
     ]
    },
    {
     "name": "stderr",
     "output_type": "stream",
     "text": [
      "C:\\Users\\User\\anaconda3\\lib\\site-packages\\sklearn\\base.py:439: UserWarning: X does not have valid feature names, but LinearRegression was fitted with feature names\n",
      "  warnings.warn(\n"
     ]
    }
   ],
   "source": [
    "import pandas as pd\n",
    "import numpy as np\n",
    "from sklearn.linear_model import LinearRegression\n",
    "\n",
    "# Load the placement data into a Pandas dataframe\n",
    "df = pd.DataFrame({\n",
    "    'Year': ['01-01-2016','01-01-2017', '01-01-2018', '01-01-2019','01-01-2020','01-01-2021','01-01-2022'],\n",
    "    'Growth_rate': [130, 129, 57, 187,206,266,280]})\n",
    "\n",
    "# Convert the Year column to a datetime type\n",
    "df['Year'] = pd.to_datetime(df['Year'])\n",
    "\n",
    "# Extract the year from the datetime column and create a new column\n",
    "df['Year_num'] = df['Year'].dt.year\n",
    "\n",
    "# Split the data into training and testing sets\n",
    "X3_train = df[['Year_num']]\n",
    "y3_train = df['Growth_rate']\n",
    "\n",
    "# Fit a linear regression model to the data\n",
    "model = LinearRegression().fit(X3_train, y3_train)\n",
    "\n",
    "# Use the model to predict the placement for 2024\n",
    "growth_rate_2024 = model.predict([[2024]])\n",
    "\n",
    "# Print the predicted placement for 2024\n",
    "print(f\"Predicted Growth_rate for 2024: {int(growth_rate_2024)}\")\n",
    "\n",
    "\n",
    "\n",
    "# Accuracy \n",
    "\n",
    "from sklearn.metrics import mean_squared_error, r2_score\n",
    "\n",
    "# Predict the placements for the training data\n",
    "y_train_pred = model.predict(X3_train)\n",
    "\n",
    "\n",
    "\n",
    "# Calculate the MSE and R-squared for the training data\n",
    "mse = mean_squared_error(y3_train, y_train_pred)\n",
    "r2 = r2_score(y3_train, y_train_pred)\n",
    "\n",
    "\n",
    "print(f\"R-squared: {r2}\")\n"
   ]
  },
  {
   "cell_type": "code",
   "execution_count": null,
   "id": "2265b6a7",
   "metadata": {},
   "outputs": [],
   "source": []
  },
  {
   "cell_type": "code",
   "execution_count": 235,
   "id": "bccfdd31",
   "metadata": {},
   "outputs": [
    {
     "name": "stdout",
     "output_type": "stream",
     "text": [
      "Predicted Growth_rate for 2024: 269\n",
      "R-squared: 0.12567285162434316\n"
     ]
    },
    {
     "name": "stderr",
     "output_type": "stream",
     "text": [
      "C:\\Users\\User\\anaconda3\\lib\\site-packages\\sklearn\\base.py:439: UserWarning: X does not have valid feature names, but LinearRegression was fitted with feature names\n",
      "  warnings.warn(\n"
     ]
    }
   ],
   "source": [
    "import pandas as pd\n",
    "import numpy as np\n",
    "from sklearn.linear_model import LinearRegression\n",
    "\n",
    "# Load the placement data into a Pandas dataframe\n",
    "df = pd.DataFrame({\n",
    "    'Year': ['01-01-2016','01-01-2017', '01-01-2018', '01-01-2019','01-01-2020','01-01-2021','01-01-2022'],\n",
    "    'Growth_rate':[427,416,191,382,299,299,343]})\n",
    "\n",
    "# Convert the Year column to a datetime type\n",
    "df['Year'] = pd.to_datetime(df['Year'])\n",
    "\n",
    "# Extract the year from the datetime column and create a new column\n",
    "df['Year_num'] = df['Year'].dt.year\n",
    "\n",
    "# Split the data into training and testing sets\n",
    "X3_train = df[['Year_num']]\n",
    "y3_train = df['Growth_rate']\n",
    "\n",
    "# Fit a linear regression model to the data\n",
    "model = LinearRegression().fit(X3_train, y3_train)\n",
    "\n",
    "# Use the model to predict the placement for 2024\n",
    "growth_rate_2024 = model.predict([[2024]])\n",
    "\n",
    "# Print the predicted placement for 2024\n",
    "print(f\"Predicted Growth_rate for 2024: {int(growth_rate_2024)}\")\n",
    "\n",
    "\n",
    "\n",
    "# Accuracy \n",
    "\n",
    "from sklearn.metrics import mean_squared_error, r2_score\n",
    "\n",
    "# Predict the placements for the training data\n",
    "y_train_pred = model.predict(X3_train)\n",
    "\n",
    "\n",
    "\n",
    "# Calculate the MSE and R-squared for the training data\n",
    "mse = mean_squared_error(y3_train, y_train_pred)\n",
    "r2 = r2_score(y3_train, y_train_pred)\n",
    "\n",
    "\n",
    "print(f\"R-squared: {r2}\")\n"
   ]
  },
  {
   "cell_type": "code",
   "execution_count": null,
   "id": "268fdf88",
   "metadata": {},
   "outputs": [],
   "source": []
  },
  {
   "cell_type": "code",
   "execution_count": null,
   "id": "d851448e",
   "metadata": {},
   "outputs": [],
   "source": []
  },
  {
   "cell_type": "code",
   "execution_count": null,
   "id": "f4f02a9f",
   "metadata": {},
   "outputs": [],
   "source": []
  },
  {
   "cell_type": "code",
   "execution_count": 237,
   "id": "21e74120",
   "metadata": {},
   "outputs": [
    {
     "name": "stdout",
     "output_type": "stream",
     "text": [
      "Predicted Growth_rate for 2024: 1232\n",
      "R-squared: 0.7420252471634357\n"
     ]
    },
    {
     "name": "stderr",
     "output_type": "stream",
     "text": [
      "C:\\Users\\User\\anaconda3\\lib\\site-packages\\sklearn\\base.py:439: UserWarning: X does not have valid feature names, but LinearRegression was fitted with feature names\n",
      "  warnings.warn(\n"
     ]
    }
   ],
   "source": [
    "import pandas as pd\n",
    "import numpy as np\n",
    "from sklearn.linear_model import LinearRegression\n",
    "\n",
    "# Load the placement data into a Pandas dataframe\n",
    "df = pd.DataFrame({\n",
    "    'Year': ['01-01-2016','01-01-2017', '01-01-2018', '01-01-2019','01-01-2020','01-01-2021','01-01-2022'],\n",
    "    'Growth_rate':[334, 362, 232, 802,906,844,916]})\n",
    "\n",
    "# Convert the Year column to a datetime type\n",
    "df['Year'] = pd.to_datetime(df['Year'])\n",
    "\n",
    "# Extract the year from the datetime column and create a new column\n",
    "df['Year_num'] = df['Year'].dt.year\n",
    "\n",
    "# Split the data into training and testing sets\n",
    "X3_train = df[['Year_num']]\n",
    "y3_train = df['Growth_rate']\n",
    "\n",
    "# Fit a linear regression model to the data\n",
    "model = LinearRegression().fit(X3_train, y3_train)\n",
    "\n",
    "# Use the model to predict the placement for 2024\n",
    "growth_rate_2024 = model.predict([[2024]])\n",
    "\n",
    "# Print the predicted placement for 2024\n",
    "print(f\"Predicted Growth_rate for 2024: {int(growth_rate_2024)}\")\n",
    "\n",
    "\n",
    "\n",
    "# Accuracy \n",
    "\n",
    "from sklearn.metrics import mean_squared_error, r2_score\n",
    "\n",
    "# Predict the placements for the training data\n",
    "y_train_pred = model.predict(X3_train)\n",
    "\n",
    "\n",
    "\n",
    "# Calculate the MSE and R-squared for the training data\n",
    "mse = mean_squared_error(y3_train, y_train_pred)\n",
    "r2 = r2_score(y3_train, y_train_pred)\n",
    "\n",
    "\n",
    "print(f\"R-squared: {r2}\")\n"
   ]
  },
  {
   "cell_type": "code",
   "execution_count": null,
   "id": "a154ba34",
   "metadata": {},
   "outputs": [],
   "source": []
  },
  {
   "cell_type": "code",
   "execution_count": 239,
   "id": "1c8b2cd1",
   "metadata": {},
   "outputs": [
    {
     "name": "stdout",
     "output_type": "stream",
     "text": [
      "Predicted Growth_rate for 2024: 370\n",
      "R-squared: 0.6819080971357705\n"
     ]
    },
    {
     "name": "stderr",
     "output_type": "stream",
     "text": [
      "C:\\Users\\User\\anaconda3\\lib\\site-packages\\sklearn\\base.py:439: UserWarning: X does not have valid feature names, but LinearRegression was fitted with feature names\n",
      "  warnings.warn(\n"
     ]
    }
   ],
   "source": [
    "import pandas as pd\n",
    "import numpy as np\n",
    "from sklearn.linear_model import LinearRegression\n",
    "\n",
    "# Load the placement data into a Pandas dataframe\n",
    "df = pd.DataFrame({\n",
    "    'Year': ['01-01-2016','01-01-2017', '01-01-2018', '01-01-2019','01-01-2020','01-01-2021','01-01-2022'],\n",
    "    'Growth_rate':[124, 130, 62, 257,254,242,310]})\n",
    "\n",
    "# Convert the Year column to a datetime type\n",
    "df['Year'] = pd.to_datetime(df['Year'])\n",
    "\n",
    "# Extract the year from the datetime column and create a new column\n",
    "df['Year_num'] = df['Year'].dt.year\n",
    "\n",
    "# Split the data into training and testing sets\n",
    "X3_train = df[['Year_num']]\n",
    "y3_train = df['Growth_rate']\n",
    "\n",
    "# Fit a linear regression model to the data\n",
    "model = LinearRegression().fit(X3_train, y3_train)\n",
    "\n",
    "# Use the model to predict the placement for 2024\n",
    "growth_rate_2024 = model.predict([[2024]])\n",
    "\n",
    "# Print the predicted placement for 2024\n",
    "print(f\"Predicted Growth_rate for 2024: {int(growth_rate_2024)}\")\n",
    "\n",
    "\n",
    "\n",
    "# Accuracy \n",
    "\n",
    "from sklearn.metrics import mean_squared_error, r2_score\n",
    "\n",
    "# Predict the placements for the training data\n",
    "y_train_pred = model.predict(X3_train)\n",
    "\n",
    "\n",
    "\n",
    "# Calculate the MSE and R-squared for the training data\n",
    "mse = mean_squared_error(y3_train, y_train_pred)\n",
    "r2 = r2_score(y3_train, y_train_pred)\n",
    "\n",
    "\n",
    "print(f\"R-squared: {r2}\")\n"
   ]
  },
  {
   "cell_type": "code",
   "execution_count": null,
   "id": "ba8e7479",
   "metadata": {},
   "outputs": [],
   "source": []
  },
  {
   "cell_type": "code",
   "execution_count": null,
   "id": "0fbe9a2a",
   "metadata": {},
   "outputs": [],
   "source": []
  }
 ],
 "metadata": {
  "kernelspec": {
   "display_name": "Python 3 (ipykernel)",
   "language": "python",
   "name": "python3"
  },
  "language_info": {
   "codemirror_mode": {
    "name": "ipython",
    "version": 3
   },
   "file_extension": ".py",
   "mimetype": "text/x-python",
   "name": "python",
   "nbconvert_exporter": "python",
   "pygments_lexer": "ipython3",
   "version": "3.9.7"
  }
 },
 "nbformat": 4,
 "nbformat_minor": 5
}
