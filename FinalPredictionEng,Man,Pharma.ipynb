{
 "cells": [
  {
   "cell_type": "code",
   "execution_count": null,
   "id": "395ceeda",
   "metadata": {
    "scrolled": true
   },
   "outputs": [],
   "source": []
  },
  {
   "cell_type": "markdown",
   "id": "5a7e3e0f",
   "metadata": {},
   "source": [
    "# Prediction of upcomming year eng , management, pharma"
   ]
  },
  {
   "cell_type": "code",
   "execution_count": 4,
   "id": "da706a9f",
   "metadata": {},
   "outputs": [
    {
     "name": "stdout",
     "output_type": "stream",
     "text": [
      "Predicted placement for 2023: 13083\n"
     ]
    },
    {
     "name": "stderr",
     "output_type": "stream",
     "text": [
      "C:\\Users\\User\\anaconda3\\lib\\site-packages\\sklearn\\base.py:439: UserWarning: X does not have valid feature names, but LinearRegression was fitted with feature names\n",
      "  warnings.warn(\n"
     ]
    }
   ],
   "source": [
    "# Eng\n",
    "\n",
    "import pandas as pd\n",
    "import numpy as np\n",
    "from sklearn.linear_model import LinearRegression\n",
    "\n",
    "\n",
    "# Load the placement data into a Pandas dataframe\n",
    "df = pd.DataFrame({\n",
    "    'Year': ['01-01-2013', '01-01-2014', '01-01-2015', '01-01-2016', '01-01-2017', '01-01-2018', '01-01-2019', '01-01-2020', '01-01-2021', '01-01-2022'],\n",
    "    'Placements': [16036, 16572, 16795, 15635, 18353, 15829, 15601, 14800, 13818, 11533]\n",
    "})\n",
    "\n",
    "# Convert the Year column to a datetime type\n",
    "df['Year'] = pd.to_datetime(df['Year'])\n",
    "\n",
    "# Extract the year from the datetime column and create a new column\n",
    "df['Year_num'] = df['Year'].dt.year\n",
    "\n",
    "# Split the data into training and testing sets\n",
    "X_train = df[['Year_num']]\n",
    "y_train = df['Placements']\n",
    "\n",
    "# Fit a linear regression model to the data\n",
    "model = LinearRegression().fit(X_train, y_train)\n",
    "\n",
    "# Use the model to predict the placement for 2023\n",
    "placement_2023 = model.predict([[2023]])\n",
    "\n",
    "# Print the predicted placement for 2023\n",
    "print(f\"Predicted placement for 2023: {int(placement_2023)}\")\n",
    "\n",
    "\n"
   ]
  },
  {
   "cell_type": "code",
   "execution_count": 14,
   "id": "6ed5042a",
   "metadata": {},
   "outputs": [
    {
     "name": "stderr",
     "output_type": "stream",
     "text": [
      "C:\\Users\\User\\anaconda3\\lib\\site-packages\\statsmodels\\tsa\\base\\tsa_model.py:524: ValueWarning: No frequency information was provided, so inferred frequency AS-JAN will be used.\n",
      "  warnings.warn('No frequency information was'\n",
      "C:\\Users\\User\\anaconda3\\lib\\site-packages\\statsmodels\\tsa\\base\\tsa_model.py:524: ValueWarning: No frequency information was provided, so inferred frequency AS-JAN will be used.\n",
      "  warnings.warn('No frequency information was'\n",
      "C:\\Users\\User\\anaconda3\\lib\\site-packages\\statsmodels\\tsa\\base\\tsa_model.py:524: ValueWarning: No frequency information was provided, so inferred frequency AS-JAN will be used.\n",
      "  warnings.warn('No frequency information was'\n",
      "C:\\Users\\User\\anaconda3\\lib\\site-packages\\statsmodels\\tsa\\statespace\\sarimax.py:978: UserWarning: Non-invertible starting MA parameters found. Using zeros as starting parameters.\n",
      "  warn('Non-invertible starting MA parameters found.'\n"
     ]
    },
    {
     "name": "stdout",
     "output_type": "stream",
     "text": [
      "Predicted Total Intake for 2023: 64293\n"
     ]
    },
    {
     "name": "stderr",
     "output_type": "stream",
     "text": [
      "C:\\Users\\User\\anaconda3\\lib\\site-packages\\statsmodels\\base\\model.py:566: ConvergenceWarning: Maximum Likelihood optimization failed to converge. Check mle_retvals\n",
      "  warnings.warn(\"Maximum Likelihood optimization failed to \"\n"
     ]
    }
   ],
   "source": [
    "#Eng\n",
    "\n",
    "import pandas as pd\n",
    "import numpy as np\n",
    "import matplotlib.pyplot as plt\n",
    "from statsmodels.tsa.arima.model import ARIMA\n",
    "\n",
    "# Load the Total Intake data into a Pandas dataframe\n",
    "df = pd.DataFrame({\n",
    "    'Year': ['01-01-2013', '01-01-2014', '01-01-2015', '01-01-2016', '01-01-2017', '01-01-2018', '01-01-2019', '01-01-2020', '01-01-2021', '01-01-2022'],\n",
    "    'Total Intake': [143362, 152478, 156802, 144517, 127074, 112834, 94567, 78504, 71286, 66815]\n",
    "})\n",
    "\n",
    "# Convert the Year column to a datetime type\n",
    "df['Year'] = pd.to_datetime(df['Year'])\n",
    "\n",
    "# Set the Year column as the index of the dataframe\n",
    "df.set_index('Year', inplace=True)\n",
    "\n",
    "# Train an ARIMA model\n",
    "model = ARIMA(df, order=(2, 1, 2))\n",
    "model_fit = model.fit()\n",
    "\n",
    "# Use the model to make predictions for 2023\n",
    "forecast = model_fit.forecast(steps=1)\n",
    "\n",
    "# Print the predicted Total Intake for 2023\n",
    "print(f\"Predicted Total Intake for 2023: {int(forecast[0])}\")\n",
    "\n",
    "\n"
   ]
  },
  {
   "cell_type": "code",
   "execution_count": 15,
   "id": "2bcf764e",
   "metadata": {},
   "outputs": [
    {
     "name": "stdout",
     "output_type": "stream",
     "text": [
      "Predicted enrollment for 2023: 28130\n"
     ]
    },
    {
     "name": "stderr",
     "output_type": "stream",
     "text": [
      "C:\\Users\\User\\anaconda3\\lib\\site-packages\\statsmodels\\tsa\\base\\tsa_model.py:524: ValueWarning: No frequency information was provided, so inferred frequency AS-JAN will be used.\n",
      "  warnings.warn('No frequency information was'\n",
      "C:\\Users\\User\\anaconda3\\lib\\site-packages\\statsmodels\\tsa\\base\\tsa_model.py:524: ValueWarning: No frequency information was provided, so inferred frequency AS-JAN will be used.\n",
      "  warnings.warn('No frequency information was'\n",
      "C:\\Users\\User\\anaconda3\\lib\\site-packages\\statsmodels\\tsa\\base\\tsa_model.py:524: ValueWarning: No frequency information was provided, so inferred frequency AS-JAN will be used.\n",
      "  warnings.warn('No frequency information was'\n",
      "C:\\Users\\User\\anaconda3\\lib\\site-packages\\statsmodels\\tsa\\statespace\\sarimax.py:966: UserWarning: Non-stationary starting autoregressive parameters found. Using zeros as starting parameters.\n",
      "  warn('Non-stationary starting autoregressive parameters'\n"
     ]
    }
   ],
   "source": [
    "#Eng\n",
    "\n",
    "import pandas as pd\n",
    "from statsmodels.tsa.arima.model import ARIMA\n",
    "\n",
    "# Create a Pandas dataframe with the enrollment data\n",
    "df = pd.DataFrame({\n",
    "    'Year': ['01-01-2013', '01-01-2014', '01-01-2015', '01-01-2016', '01-01-2017', '01-01-2018', '01-01-2019', '01-01-2020', '01-01-2021', '01-01-2022'],\n",
    "    'Total Enr': [66311, 63157, 63157, 63157, 40467, 41285, 36296, 35050, 31802, 28131]\n",
    "})\n",
    "\n",
    "# Convert the 'Year' column to datetime and set it as the index\n",
    "df['Year'] = pd.to_datetime(df['Year'])\n",
    "df.set_index('Year', inplace=True)\n",
    "\n",
    "# Fit an ARIMA model to the data\n",
    "model = ARIMA(df, order=(2, 1, 2))\n",
    "model_fit = model.fit()\n",
    "\n",
    "# Predict enrollment for 2023\n",
    "forecast = model_fit.forecast(steps=1)\n",
    "print(f\"Predicted enrollment for 2023: {int(forecast[0])}\")\n",
    "\n"
   ]
  },
  {
   "cell_type": "code",
   "execution_count": 16,
   "id": "1025fd66",
   "metadata": {},
   "outputs": [
    {
     "name": "stdout",
     "output_type": "stream",
     "text": [
      "Predicted placement for 2023: 2894\n"
     ]
    },
    {
     "name": "stderr",
     "output_type": "stream",
     "text": [
      "C:\\Users\\User\\anaconda3\\lib\\site-packages\\sklearn\\base.py:439: UserWarning: X does not have valid feature names, but LinearRegression was fitted with feature names\n",
      "  warnings.warn(\n"
     ]
    }
   ],
   "source": [
    "# Management\n",
    "\n",
    "import pandas as pd\n",
    "import numpy as np\n",
    "from sklearn.linear_model import LinearRegression\n",
    "\n",
    "# Load the placement data into a Pandas dataframe\n",
    "df = pd.DataFrame({\n",
    "    'Year': ['01-01-2013', '01-01-2014', '01-01-2015', '01-01-2016', '01-01-2017', '01-01-2018', '01-01-2019', '01-01-2020', '01-01-2021', '01-01-2022'],\n",
    "    'Placements': [2697,2616,2712,2628,2696,2538,2692,3010,2707,3004]})\n",
    "\n",
    "# Convert the Year column to a datetime type\n",
    "df['Year'] = pd.to_datetime(df['Year'])\n",
    "\n",
    "# Extract the year from the datetime column and create a new column\n",
    "df['Year_num'] = df['Year'].dt.year\n",
    "\n",
    "# Split the data into training and testing sets\n",
    "X_train = df[['Year_num']]\n",
    "y_train = df['Placements']\n",
    "\n",
    "# Fit a linear regression model to the data\n",
    "model = LinearRegression().fit(X_train, y_train)\n",
    "\n",
    "# Use the model to predict the placement for 2023\n",
    "placement_2023 = model.predict([[2023]])\n",
    "\n",
    "# Print the predicted placement for 2023\n",
    "print(f\"Predicted placement for 2023: {int(placement_2023)}\")\n"
   ]
  },
  {
   "cell_type": "code",
   "execution_count": 17,
   "id": "afff6804",
   "metadata": {},
   "outputs": [
    {
     "name": "stderr",
     "output_type": "stream",
     "text": [
      "C:\\Users\\User\\anaconda3\\lib\\site-packages\\statsmodels\\tsa\\base\\tsa_model.py:524: ValueWarning: No frequency information was provided, so inferred frequency AS-JAN will be used.\n",
      "  warnings.warn('No frequency information was'\n",
      "C:\\Users\\User\\anaconda3\\lib\\site-packages\\statsmodels\\tsa\\base\\tsa_model.py:524: ValueWarning: No frequency information was provided, so inferred frequency AS-JAN will be used.\n",
      "  warnings.warn('No frequency information was'\n",
      "C:\\Users\\User\\anaconda3\\lib\\site-packages\\statsmodels\\tsa\\base\\tsa_model.py:524: ValueWarning: No frequency information was provided, so inferred frequency AS-JAN will be used.\n",
      "  warnings.warn('No frequency information was'\n",
      "C:\\Users\\User\\anaconda3\\lib\\site-packages\\statsmodels\\tsa\\statespace\\sarimax.py:978: UserWarning: Non-invertible starting MA parameters found. Using zeros as starting parameters.\n",
      "  warn('Non-invertible starting MA parameters found.'\n"
     ]
    },
    {
     "name": "stdout",
     "output_type": "stream",
     "text": [
      "Predicted Total Intake for 2023: 10138\n"
     ]
    },
    {
     "name": "stderr",
     "output_type": "stream",
     "text": [
      "C:\\Users\\User\\anaconda3\\lib\\site-packages\\statsmodels\\base\\model.py:566: ConvergenceWarning: Maximum Likelihood optimization failed to converge. Check mle_retvals\n",
      "  warnings.warn(\"Maximum Likelihood optimization failed to \"\n"
     ]
    }
   ],
   "source": [
    "#Management\n",
    "\n",
    "import pandas as pd\n",
    "import numpy as np\n",
    "import matplotlib.pyplot as plt\n",
    "from statsmodels.tsa.arima.model import ARIMA\n",
    "\n",
    "# Load the Total Intake data into a Pandas dataframe\n",
    "df = pd.DataFrame({\n",
    "    'Year': ['01-01-2013', '01-01-2014', '01-01-2015', '01-01-2016', '01-01-2017', '01-01-2018', '01-01-2019', '01-01-2020', '01-01-2021', '01-01-2022'],\n",
    "    'Total Intake': [17066,16671,16014,15614,14485,12496,10739,9854,9524,9591]})\n",
    "\n",
    "# Convert the Year column to a datetime type\n",
    "df['Year'] = pd.to_datetime(df['Year'])\n",
    "\n",
    "# Set the Year column as the index of the dataframe\n",
    "df.set_index('Year', inplace=True)\n",
    "\n",
    "# Train an ARIMA model\n",
    "model = ARIMA(df, order=(2, 1, 2))\n",
    "model_fit = model.fit()\n",
    "\n",
    "# Use the model to make predictions for 2023\n",
    "forecast = model_fit.forecast(steps=1)\n",
    "\n",
    "# Print the predicted Total Intake for 2023\n",
    "print(f\"Predicted Total Intake for 2023: {int(forecast[0])}\")\n",
    "\n",
    "\n"
   ]
  },
  {
   "cell_type": "code",
   "execution_count": 18,
   "id": "aa584b38",
   "metadata": {},
   "outputs": [
    {
     "name": "stdout",
     "output_type": "stream",
     "text": [
      "Predicted enrollment for 2023: 5740\n"
     ]
    },
    {
     "name": "stderr",
     "output_type": "stream",
     "text": [
      "C:\\Users\\User\\anaconda3\\lib\\site-packages\\statsmodels\\tsa\\base\\tsa_model.py:524: ValueWarning: No frequency information was provided, so inferred frequency AS-JAN will be used.\n",
      "  warnings.warn('No frequency information was'\n",
      "C:\\Users\\User\\anaconda3\\lib\\site-packages\\statsmodels\\tsa\\base\\tsa_model.py:524: ValueWarning: No frequency information was provided, so inferred frequency AS-JAN will be used.\n",
      "  warnings.warn('No frequency information was'\n",
      "C:\\Users\\User\\anaconda3\\lib\\site-packages\\statsmodels\\tsa\\base\\tsa_model.py:524: ValueWarning: No frequency information was provided, so inferred frequency AS-JAN will be used.\n",
      "  warnings.warn('No frequency information was'\n"
     ]
    }
   ],
   "source": [
    "#Management\n",
    "\n",
    "import pandas as pd\n",
    "from statsmodels.tsa.arima.model import ARIMA\n",
    "\n",
    "# Create a Pandas dataframe with the enrollment data\n",
    "df = pd.DataFrame({\n",
    "    'Year': ['01-01-2013', '01-01-2014', '01-01-2015', '01-01-2016', '01-01-2017', '01-01-2018', '01-01-2019', '01-01-2020', '01-01-2021', '01-01-2022'],\n",
    "    'Total Enr': [5644,5432,6615,6018,5419,5802,5983,5655,5633,5421]})\n",
    "\n",
    "# Convert the 'Year' column to datetime and set it as the index\n",
    "df['Year'] = pd.to_datetime(df['Year'])\n",
    "df.set_index('Year', inplace=True)\n",
    "\n",
    "# Fit an ARIMA model to the data\n",
    "model = ARIMA(df, order=(2, 1, 2))\n",
    "model_fit = model.fit()\n",
    "\n",
    "# Predict enrollment for 2023\n",
    "forecast = model_fit.forecast(steps=1)\n",
    "print(f\"Predicted enrollment for 2023: {int(forecast[0])}\")\n",
    "\n"
   ]
  },
  {
   "cell_type": "code",
   "execution_count": 2,
   "id": "16353283",
   "metadata": {},
   "outputs": [
    {
     "name": "stdout",
     "output_type": "stream",
     "text": [
      "Predicted placement for 2024: 72\n"
     ]
    },
    {
     "name": "stderr",
     "output_type": "stream",
     "text": [
      "C:\\Users\\User\\anaconda3\\lib\\site-packages\\sklearn\\base.py:439: UserWarning: X does not have valid feature names, but LinearRegression was fitted with feature names\n",
      "  warnings.warn(\n"
     ]
    }
   ],
   "source": [
    "# Pharmacy\n",
    "\n",
    "import pandas as pd\n",
    "import numpy as np\n",
    "from sklearn.linear_model import LinearRegression\n",
    "\n",
    "# Load the placement data into a Pandas dataframe\n",
    "df = pd.DataFrame({\n",
    "    'Year': ['01-01-2013', '01-01-2014', '01-01-2015', '01-01-2016', '01-01-2017', '01-01-2018', '01-01-2019', '01-01-2020', '01-01-2021', '01-01-2022', '01-01-2023'],\n",
    "    'Placements': [38.4,38.3,40.5,41.2,40.2,43.7,49.1,58.2,67.5,70.1,69.5]})\n",
    "\n",
    "# Convert the Year column to a datetime type\n",
    "df['Year'] = pd.to_datetime(df['Year'])\n",
    "\n",
    "# Extract the year from the datetime column and create a new column\n",
    "df['Year_num'] = df['Year'].dt.year\n",
    "\n",
    "# Split the data into training and testing sets\n",
    "X_train = df[['Year_num']]\n",
    "y_train = df['Placements']\n",
    "\n",
    "# Fit a linear regression model to the data\n",
    "model = LinearRegression().fit(X_train, y_train)\n",
    "\n",
    "# Use the model to predict the placement for 2023\n",
    "placement_2024 = model.predict([[2024]])\n",
    "\n",
    "# Print the predicted placement for 2023\n",
    "print(f\"Predicted placement for 2024: {int(placement_2024)}\")\n"
   ]
  },
  {
   "cell_type": "code",
   "execution_count": 20,
   "id": "f0689a96",
   "metadata": {},
   "outputs": [
    {
     "name": "stderr",
     "output_type": "stream",
     "text": [
      "C:\\Users\\User\\anaconda3\\lib\\site-packages\\statsmodels\\tsa\\base\\tsa_model.py:524: ValueWarning: No frequency information was provided, so inferred frequency AS-JAN will be used.\n",
      "  warnings.warn('No frequency information was'\n",
      "C:\\Users\\User\\anaconda3\\lib\\site-packages\\statsmodels\\tsa\\base\\tsa_model.py:524: ValueWarning: No frequency information was provided, so inferred frequency AS-JAN will be used.\n",
      "  warnings.warn('No frequency information was'\n",
      "C:\\Users\\User\\anaconda3\\lib\\site-packages\\statsmodels\\tsa\\base\\tsa_model.py:524: ValueWarning: No frequency information was provided, so inferred frequency AS-JAN will be used.\n",
      "  warnings.warn('No frequency information was'\n",
      "C:\\Users\\User\\anaconda3\\lib\\site-packages\\statsmodels\\tsa\\statespace\\sarimax.py:966: UserWarning: Non-stationary starting autoregressive parameters found. Using zeros as starting parameters.\n",
      "  warn('Non-stationary starting autoregressive parameters'\n",
      "C:\\Users\\User\\anaconda3\\lib\\site-packages\\statsmodels\\tsa\\statespace\\sarimax.py:978: UserWarning: Non-invertible starting MA parameters found. Using zeros as starting parameters.\n",
      "  warn('Non-invertible starting MA parameters found.'\n"
     ]
    },
    {
     "name": "stdout",
     "output_type": "stream",
     "text": [
      "Predicted Total Intake for 2023: 7774\n"
     ]
    },
    {
     "name": "stderr",
     "output_type": "stream",
     "text": [
      "C:\\Users\\User\\anaconda3\\lib\\site-packages\\statsmodels\\base\\model.py:566: ConvergenceWarning: Maximum Likelihood optimization failed to converge. Check mle_retvals\n",
      "  warnings.warn(\"Maximum Likelihood optimization failed to \"\n"
     ]
    }
   ],
   "source": [
    "#Pharmacy\n",
    "\n",
    "import pandas as pd\n",
    "import numpy as np\n",
    "import matplotlib.pyplot as plt\n",
    "from statsmodels.tsa.arima.model import ARIMA\n",
    "\n",
    "# Load the Total Intake data into a Pandas dataframe\n",
    "df = pd.DataFrame({\n",
    "    'Year': ['01-01-2013', '01-01-2014', '01-01-2015', '01-01-2016', '01-01-2017', '01-01-2018', '01-01-2019', '01-01-2020', '01-01-2021', '01-01-2022'],\n",
    "    'Total Intake': [4567,4717,5335,6529,6910,7914,9659,10668,8926,6967]})\n",
    "\n",
    "# Convert the Year column to a datetime type\n",
    "df['Year'] = pd.to_datetime(df['Year'])\n",
    "\n",
    "# Set the Year column as the index of the dataframe\n",
    "df.set_index('Year', inplace=True)\n",
    "\n",
    "# Train an ARIMA model\n",
    "model = ARIMA(df, order=(2, 1, 2))\n",
    "model_fit = model.fit()\n",
    "\n",
    "# Use the model to make predictions for 2023\n",
    "forecast = model_fit.forecast(steps=1)\n",
    "\n",
    "# Print the predicted Total Intake for 2023\n",
    "print(f\"Predicted Total Intake for 2023: {int(forecast[0])}\")\n",
    "\n",
    "\n"
   ]
  },
  {
   "cell_type": "code",
   "execution_count": 21,
   "id": "b194c5bd",
   "metadata": {},
   "outputs": [
    {
     "name": "stderr",
     "output_type": "stream",
     "text": [
      "C:\\Users\\User\\anaconda3\\lib\\site-packages\\statsmodels\\tsa\\base\\tsa_model.py:524: ValueWarning: No frequency information was provided, so inferred frequency AS-JAN will be used.\n",
      "  warnings.warn('No frequency information was'\n",
      "C:\\Users\\User\\anaconda3\\lib\\site-packages\\statsmodels\\tsa\\base\\tsa_model.py:524: ValueWarning: No frequency information was provided, so inferred frequency AS-JAN will be used.\n",
      "  warnings.warn('No frequency information was'\n",
      "C:\\Users\\User\\anaconda3\\lib\\site-packages\\statsmodels\\tsa\\base\\tsa_model.py:524: ValueWarning: No frequency information was provided, so inferred frequency AS-JAN will be used.\n",
      "  warnings.warn('No frequency information was'\n",
      "C:\\Users\\User\\anaconda3\\lib\\site-packages\\statsmodels\\base\\model.py:566: ConvergenceWarning: Maximum Likelihood optimization failed to converge. Check mle_retvals\n",
      "  warnings.warn(\"Maximum Likelihood optimization failed to \"\n"
     ]
    },
    {
     "name": "stdout",
     "output_type": "stream",
     "text": [
      "Predicted enrollment for 2023: 3228\n"
     ]
    }
   ],
   "source": [
    "#pharma\n",
    "\n",
    "import pandas as pd\n",
    "from statsmodels.tsa.arima.model import ARIMA\n",
    "\n",
    "# Create a Pandas dataframe with the enrollment data\n",
    "df = pd.DataFrame({\n",
    "    'Year': ['01-01-2013', '01-01-2014', '01-01-2015', '01-01-2016', '01-01-2017', '01-01-2018', '01-01-2019', '01-01-2020', '01-01-2021', '01-01-2022'],\n",
    "    'Total Enr': [2982,2979,3582,3674,4500,4892,6080,4818,2716,2080]})\n",
    "\n",
    "# Convert the 'Year' column to datetime and set it as the index\n",
    "df['Year'] = pd.to_datetime(df['Year'])\n",
    "df.set_index('Year', inplace=True)\n",
    "\n",
    "# Fit an ARIMA model to the data\n",
    "model = ARIMA(df, order=(2, 1, 2))\n",
    "model_fit = model.fit()\n",
    "\n",
    "# Predict enrollment for 2023\n",
    "forecast = model_fit.forecast(steps=1)\n",
    "print(f\"Predicted enrollment for 2023: {int(forecast[0])}\")\n",
    "\n"
   ]
  },
  {
   "cell_type": "code",
   "execution_count": null,
   "id": "6ca3479e",
   "metadata": {},
   "outputs": [],
   "source": []
  },
  {
   "cell_type": "code",
   "execution_count": null,
   "id": "84d18260",
   "metadata": {},
   "outputs": [],
   "source": []
  },
  {
   "cell_type": "code",
   "execution_count": null,
   "id": "24f209b9",
   "metadata": {},
   "outputs": [],
   "source": []
  },
  {
   "cell_type": "code",
   "execution_count": null,
   "id": "38de4438",
   "metadata": {},
   "outputs": [],
   "source": []
  },
  {
   "cell_type": "code",
   "execution_count": null,
   "id": "b2d2b955",
   "metadata": {},
   "outputs": [],
   "source": []
  },
  {
   "cell_type": "code",
   "execution_count": null,
   "id": "1141ee3f",
   "metadata": {},
   "outputs": [],
   "source": []
  },
  {
   "cell_type": "code",
   "execution_count": null,
   "id": "cbe09f74",
   "metadata": {},
   "outputs": [],
   "source": []
  },
  {
   "cell_type": "code",
   "execution_count": null,
   "id": "e95f7a54",
   "metadata": {},
   "outputs": [],
   "source": []
  },
  {
   "cell_type": "code",
   "execution_count": null,
   "id": "5ad3168e",
   "metadata": {},
   "outputs": [],
   "source": []
  },
  {
   "cell_type": "code",
   "execution_count": null,
   "id": "23004e9d",
   "metadata": {},
   "outputs": [],
   "source": []
  },
  {
   "cell_type": "code",
   "execution_count": null,
   "id": "11c7e6fd",
   "metadata": {},
   "outputs": [],
   "source": []
  },
  {
   "cell_type": "code",
   "execution_count": null,
   "id": "9d1ef3c7",
   "metadata": {},
   "outputs": [],
   "source": []
  },
  {
   "cell_type": "code",
   "execution_count": null,
   "id": "71d9bdff",
   "metadata": {},
   "outputs": [],
   "source": []
  },
  {
   "cell_type": "code",
   "execution_count": null,
   "id": "5ac7d9dc",
   "metadata": {},
   "outputs": [],
   "source": []
  },
  {
   "cell_type": "code",
   "execution_count": null,
   "id": "cdbfbb8a",
   "metadata": {},
   "outputs": [],
   "source": []
  },
  {
   "cell_type": "code",
   "execution_count": null,
   "id": "f10478c9",
   "metadata": {},
   "outputs": [],
   "source": []
  }
 ],
 "metadata": {
  "kernelspec": {
   "display_name": "Python 3 (ipykernel)",
   "language": "python",
   "name": "python3"
  },
  "language_info": {
   "codemirror_mode": {
    "name": "ipython",
    "version": 3
   },
   "file_extension": ".py",
   "mimetype": "text/x-python",
   "name": "python",
   "nbconvert_exporter": "python",
   "pygments_lexer": "ipython3",
   "version": "3.9.7"
  }
 },
 "nbformat": 4,
 "nbformat_minor": 5
}
