{
 "cells": [
  {
   "cell_type": "markdown",
   "id": "f261ac46",
   "metadata": {},
   "source": [
    "# Prection of students taking eng , management,pharma"
   ]
  },
  {
   "cell_type": "code",
   "execution_count": 1,
   "id": "2fb23f62",
   "metadata": {},
   "outputs": [
    {
     "name": "stdout",
     "output_type": "stream",
     "text": [
      "Predicted Growth_rate for 2024: 47379\n",
      "R-squared: 0.91792411053628\n"
     ]
    },
    {
     "name": "stderr",
     "output_type": "stream",
     "text": [
      "C:\\Users\\User\\anaconda3\\lib\\site-packages\\sklearn\\base.py:439: UserWarning: X does not have valid feature names, but LinearRegression was fitted with feature names\n",
      "  warnings.warn(\n"
     ]
    }
   ],
   "source": [
    "import pandas as pd\n",
    "import numpy as np\n",
    "from sklearn.linear_model import LinearRegression\n",
    "\n",
    "# Load the placement data into a Pandas dataframe\n",
    "df = pd.DataFrame({\n",
    "    'Year': [  '01-01-2013','01-01-2014','01-01-2015','01-01-2016','01-01-2017', '01-01-2018', '01-01-2019','01-01-2020','01-01-2021','01-01-2022','01-01-2023'],\n",
    "    'Growth_rate': [143362,152478,156802,144517,127074,112834,94567,78504,71286,66815,65314]\n",
    "})\n",
    "\n",
    "# Convert the Year column to a datetime type\n",
    "df['Year'] = pd.to_datetime(df['Year'])\n",
    "\n",
    "# Extract the year from the datetime column and create a new column\n",
    "df['Year_num'] = df['Year'].dt.year\n",
    "\n",
    "# Split the data into training and testing sets\n",
    "X2_train = df[['Year_num']]\n",
    "y2_train = df['Growth_rate']\n",
    "\n",
    "# Fit a linear regression model to the data\n",
    "model = LinearRegression().fit(X2_train, y2_train)\n",
    "\n",
    "# Use the model to predict the placement for 2024\n",
    "placement_2024 = model.predict([[2024]])\n",
    "\n",
    "# Print the predicted placement for 2024\n",
    "print(f\"Predicted Growth_rate for 2024: {int(placement_2024)}\")\n",
    "\n",
    "\n",
    "\n",
    "# Accuracy \n",
    "\n",
    "from sklearn.metrics import mean_squared_error, r2_score\n",
    "\n",
    "# Predict the placements for the training data\n",
    "y_train_pred = model.predict(X2_train)\n",
    "\n",
    "\n",
    "\n",
    "# Calculate the MSE and R-squared for the training data\n",
    "mse = mean_squared_error(y2_train, y_train_pred)\n",
    "r2 = r2_score(y2_train, y_train_pred)\n",
    "\n",
    "\n",
    "print(f\"R-squared: {r2}\")\n"
   ]
  },
  {
   "cell_type": "code",
   "execution_count": 2,
   "id": "e09df2cc",
   "metadata": {},
   "outputs": [
    {
     "name": "stdout",
     "output_type": "stream",
     "text": [
      "Predicted Growth_rate for 2024: 8467\n",
      "R-squared: 0.8748170391711597\n"
     ]
    },
    {
     "name": "stderr",
     "output_type": "stream",
     "text": [
      "C:\\Users\\User\\anaconda3\\lib\\site-packages\\sklearn\\base.py:439: UserWarning: X does not have valid feature names, but LinearRegression was fitted with feature names\n",
      "  warnings.warn(\n"
     ]
    }
   ],
   "source": [
    "import pandas as pd\n",
    "import numpy as np\n",
    "from sklearn.linear_model import LinearRegression\n",
    "\n",
    "# Load the placement data into a Pandas dataframe\n",
    "df = pd.DataFrame({\n",
    "    'Year': [  '01-01-2013','01-01-2014','01-01-2015','01-01-2016','01-01-2017', '01-01-2018', '01-01-2019','01-01-2020','01-01-2021','01-01-2022','01-01-2023'],\n",
    "    'Growth_rate': [66311,63157,63157,63157,40467,41285,36296,35050,31802,28131,0]\n",
    "})\n",
    "\n",
    "# Convert the Year column to a datetime type\n",
    "df['Year'] = pd.to_datetime(df['Year'])\n",
    "\n",
    "# Extract the year from the datetime column and create a new column\n",
    "df['Year_num'] = df['Year'].dt.year\n",
    "\n",
    "# Split the data into training and testing sets\n",
    "X2_train = df[['Year_num']]\n",
    "y2_train = df['Growth_rate']\n",
    "\n",
    "# Fit a linear regression model to the data\n",
    "model = LinearRegression().fit(X2_train, y2_train)\n",
    "\n",
    "# Use the model to predict the placement for 2024\n",
    "placement_2024 = model.predict([[2024]])\n",
    "\n",
    "# Print the predicted placement for 2024\n",
    "print(f\"Predicted Growth_rate for 2024: {int(placement_2024)}\")\n",
    "\n",
    "\n",
    "\n",
    "# Accuracy \n",
    "\n",
    "from sklearn.metrics import mean_squared_error, r2_score\n",
    "\n",
    "# Predict the placements for the training data\n",
    "y_train_pred = model.predict(X2_train)\n",
    "\n",
    "\n",
    "\n",
    "# Calculate the MSE and R-squared for the training data\n",
    "mse = mean_squared_error(y2_train, y_train_pred)\n",
    "r2 = r2_score(y2_train, y_train_pred)\n",
    "\n",
    "\n",
    "print(f\"R-squared: {r2}\")\n"
   ]
  },
  {
   "cell_type": "code",
   "execution_count": 3,
   "id": "525beaf9",
   "metadata": {},
   "outputs": [
    {
     "name": "stdout",
     "output_type": "stream",
     "text": [
      "Predicted Growth_rate for 2024: 8078\n",
      "R-squared: 0.8431752132677448\n"
     ]
    },
    {
     "name": "stderr",
     "output_type": "stream",
     "text": [
      "C:\\Users\\User\\anaconda3\\lib\\site-packages\\sklearn\\base.py:439: UserWarning: X does not have valid feature names, but LinearRegression was fitted with feature names\n",
      "  warnings.warn(\n"
     ]
    }
   ],
   "source": [
    "import pandas as pd\n",
    "import numpy as np\n",
    "from sklearn.linear_model import LinearRegression\n",
    "\n",
    "# Load the placement data into a Pandas dataframe\n",
    "df = pd.DataFrame({\n",
    "    'Year': [  '01-01-2013','01-01-2014','01-01-2015','01-01-2016','01-01-2017', '01-01-2018', '01-01-2019','01-01-2020','01-01-2021','01-01-2022','01-01-2023'],\n",
    "    'Growth_rate': [17066,16671,16014,15614,14485,12496,10739,9854,9524,9591,11461]\n",
    "})\n",
    "\n",
    "# Convert the Year column to a datetime type\n",
    "df['Year'] = pd.to_datetime(df['Year'])\n",
    "\n",
    "# Extract the year from the datetime column and create a new column\n",
    "df['Year_num'] = df['Year'].dt.year\n",
    "\n",
    "# Split the data into training and testing sets\n",
    "X2_train = df[['Year_num']]\n",
    "y2_train = df['Growth_rate']\n",
    "\n",
    "# Fit a linear regression model to the data\n",
    "model = LinearRegression().fit(X2_train, y2_train)\n",
    "\n",
    "# Use the model to predict the placement for 2024\n",
    "placement_2024 = model.predict([[2024]])\n",
    "\n",
    "# Print the predicted placement for 2024\n",
    "print(f\"Predicted Growth_rate for 2024: {int(placement_2024)}\")\n",
    "\n",
    "\n",
    "\n",
    "# Accuracy \n",
    "\n",
    "from sklearn.metrics import mean_squared_error, r2_score\n",
    "\n",
    "# Predict the placements for the training data\n",
    "y_train_pred = model.predict(X2_train)\n",
    "\n",
    "\n",
    "\n",
    "# Calculate the MSE and R-squared for the training data\n",
    "mse = mean_squared_error(y2_train, y_train_pred)\n",
    "r2 = r2_score(y2_train, y_train_pred)\n",
    "\n",
    "\n",
    "print(f\"R-squared: {r2}\")\n"
   ]
  },
  {
   "cell_type": "code",
   "execution_count": 4,
   "id": "2dcb6253",
   "metadata": {},
   "outputs": [
    {
     "name": "stdout",
     "output_type": "stream",
     "text": [
      "Predicted Growth_rate for 2024: 5549\n",
      "R-squared: 0.09142053121456784\n"
     ]
    },
    {
     "name": "stderr",
     "output_type": "stream",
     "text": [
      "C:\\Users\\User\\anaconda3\\lib\\site-packages\\sklearn\\base.py:439: UserWarning: X does not have valid feature names, but LinearRegression was fitted with feature names\n",
      "  warnings.warn(\n"
     ]
    }
   ],
   "source": [
    "import pandas as pd\n",
    "import numpy as np\n",
    "from sklearn.linear_model import LinearRegression\n",
    "\n",
    "# Load the placement data into a Pandas dataframe\n",
    "df = pd.DataFrame({\n",
    "    'Year': [  '01-01-2013','01-01-2014','01-01-2015','01-01-2016','01-01-2017', '01-01-2018', '01-01-2019','01-01-2020','01-01-2021','01-01-2022','01-01-2023'],\n",
    "    'Growth_rate': [5644,5432,6615,6018,5419,5802,5983,5655,5633,5421,5561]\n",
    "})\n",
    "\n",
    "# Convert the Year column to a datetime type\n",
    "df['Year'] = pd.to_datetime(df['Year'])\n",
    "\n",
    "# Extract the year from the datetime column and create a new column\n",
    "df['Year_num'] = df['Year'].dt.year\n",
    "\n",
    "# Split the data into training and testing sets\n",
    "X2_train = df[['Year_num']]\n",
    "y2_train = df['Growth_rate']\n",
    "\n",
    "# Fit a linear regression model to the data\n",
    "model = LinearRegression().fit(X2_train, y2_train)\n",
    "\n",
    "# Use the model to predict the placement for 2024\n",
    "placement_2024 = model.predict([[2024]])\n",
    "\n",
    "# Print the predicted placement for 2024\n",
    "print(f\"Predicted Growth_rate for 2024: {int(placement_2024)}\")\n",
    "\n",
    "\n",
    "\n",
    "# Accuracy \n",
    "\n",
    "from sklearn.metrics import mean_squared_error, r2_score\n",
    "\n",
    "# Predict the placements for the training data\n",
    "y_train_pred = model.predict(X2_train)\n",
    "\n",
    "\n",
    "\n",
    "# Calculate the MSE and R-squared for the training data\n",
    "mse = mean_squared_error(y2_train, y_train_pred)\n",
    "r2 = r2_score(y2_train, y_train_pred)\n",
    "\n",
    "\n",
    "print(f\"R-squared: {r2}\")\n"
   ]
  },
  {
   "cell_type": "code",
   "execution_count": 5,
   "id": "4ec2741b",
   "metadata": {},
   "outputs": [
    {
     "name": "stdout",
     "output_type": "stream",
     "text": [
      "Predicted Growth_rate for 2024: 5438\n",
      "R-squared: 0.013072975145862586\n"
     ]
    },
    {
     "name": "stderr",
     "output_type": "stream",
     "text": [
      "C:\\Users\\User\\anaconda3\\lib\\site-packages\\sklearn\\base.py:439: UserWarning: X does not have valid feature names, but LinearRegression was fitted with feature names\n",
      "  warnings.warn(\n"
     ]
    }
   ],
   "source": [
    "import pandas as pd\n",
    "import numpy as np\n",
    "from sklearn.linear_model import LinearRegression\n",
    "\n",
    "# Load the placement data into a Pandas dataframe\n",
    "df = pd.DataFrame({\n",
    "    'Year': [  '01-01-2013','01-01-2014','01-01-2015','01-01-2016','01-01-2017', '01-01-2018', '01-01-2019','01-01-2020','01-01-2021','01-01-2022','01-01-2023'],\n",
    "    'Growth_rate': [4567,4717,5335,6529,6910,7914,9659,10668,3926,2967,2614]\n",
    "})\n",
    "\n",
    "# Convert the Year column to a datetime type\n",
    "df['Year'] = pd.to_datetime(df['Year'])\n",
    "\n",
    "# Extract the year from the datetime column and create a new column\n",
    "df['Year_num'] = df['Year'].dt.year\n",
    "\n",
    "# Split the data into training and testing sets\n",
    "X2_train = df[['Year_num']]\n",
    "y2_train = df['Growth_rate']\n",
    "\n",
    "# Fit a linear regression model to the data\n",
    "model = LinearRegression().fit(X2_train, y2_train)\n",
    "\n",
    "# Use the model to predict the placement for 2024\n",
    "placement_2024 = model.predict([[2024]])\n",
    "\n",
    "# Print the predicted placement for 2024\n",
    "print(f\"Predicted Growth_rate for 2024: {int(placement_2024)}\")\n",
    "\n",
    "\n",
    "\n",
    "# Accuracy \n",
    "\n",
    "from sklearn.metrics import mean_squared_error, r2_score\n",
    "\n",
    "# Predict the placements for the training data\n",
    "y_train_pred = model.predict(X2_train)\n",
    "\n",
    "\n",
    "\n",
    "# Calculate the MSE and R-squared for the training data\n",
    "mse = mean_squared_error(y2_train, y_train_pred)\n",
    "r2 = r2_score(y2_train, y_train_pred)\n",
    "\n",
    "\n",
    "print(f\"R-squared: {r2}\")\n"
   ]
  },
  {
   "cell_type": "code",
   "execution_count": 6,
   "id": "0b3bf844",
   "metadata": {},
   "outputs": [
    {
     "name": "stdout",
     "output_type": "stream",
     "text": [
      "Predicted Growth_rate for 2024: 2663\n",
      "R-squared: 0.08965018228651045\n"
     ]
    },
    {
     "name": "stderr",
     "output_type": "stream",
     "text": [
      "C:\\Users\\User\\anaconda3\\lib\\site-packages\\sklearn\\base.py:439: UserWarning: X does not have valid feature names, but LinearRegression was fitted with feature names\n",
      "  warnings.warn(\n"
     ]
    }
   ],
   "source": [
    "import pandas as pd\n",
    "import numpy as np\n",
    "from sklearn.linear_model import LinearRegression\n",
    "\n",
    "# Load the placement data into a Pandas dataframe\n",
    "df = pd.DataFrame({\n",
    "    'Year': [  '01-01-2013','01-01-2014','01-01-2015','01-01-2016','01-01-2017', '01-01-2018', '01-01-2019','01-01-2020','01-01-2021','01-01-2022','01-01-2023'],\n",
    "    'Growth_rate': [2982,2979,3582,3674,4500,4892,6080,4818,2716,2080,335]\n",
    "})\n",
    "\n",
    "# Convert the Year column to a datetime type\n",
    "df['Year'] = pd.to_datetime(df['Year'])\n",
    "\n",
    "# Extract the year from the datetime column and create a new column\n",
    "df['Year_num'] = df['Year'].dt.year\n",
    "\n",
    "# Split the data into training and testing sets\n",
    "X2_train = df[['Year_num']]\n",
    "y2_train = df['Growth_rate']\n",
    "\n",
    "# Fit a linear regression model to the data\n",
    "model = LinearRegression().fit(X2_train, y2_train)\n",
    "\n",
    "# Use the model to predict the placement for 2024\n",
    "placement_2024 = model.predict([[2024]])\n",
    "\n",
    "# Print the predicted placement for 2024\n",
    "print(f\"Predicted Growth_rate for 2024: {int(placement_2024)}\")\n",
    "\n",
    "\n",
    "\n",
    "# Accuracy \n",
    "\n",
    "from sklearn.metrics import mean_squared_error, r2_score\n",
    "\n",
    "# Predict the placements for the training data\n",
    "y_train_pred = model.predict(X2_train)\n",
    "\n",
    "\n",
    "\n",
    "# Calculate the MSE and R-squared for the training data\n",
    "mse = mean_squared_error(y2_train, y_train_pred)\n",
    "r2 = r2_score(y2_train, y_train_pred)\n",
    "\n",
    "\n",
    "print(f\"R-squared: {r2}\")\n"
   ]
  },
  {
   "cell_type": "code",
   "execution_count": null,
   "id": "72585cf9",
   "metadata": {},
   "outputs": [],
   "source": []
  },
  {
   "cell_type": "code",
   "execution_count": null,
   "id": "39dd1cbe",
   "metadata": {},
   "outputs": [],
   "source": []
  },
  {
   "cell_type": "code",
   "execution_count": null,
   "id": "102a1898",
   "metadata": {},
   "outputs": [],
   "source": []
  }
 ],
 "metadata": {
  "kernelspec": {
   "display_name": "Python 3 (ipykernel)",
   "language": "python",
   "name": "python3"
  },
  "language_info": {
   "codemirror_mode": {
    "name": "ipython",
    "version": 3
   },
   "file_extension": ".py",
   "mimetype": "text/x-python",
   "name": "python",
   "nbconvert_exporter": "python",
   "pygments_lexer": "ipython3",
   "version": "3.9.7"
  }
 },
 "nbformat": 4,
 "nbformat_minor": 5
}
